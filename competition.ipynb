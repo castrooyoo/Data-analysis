{
  "nbformat": 4,
  "nbformat_minor": 0,
  "metadata": {
    "kernelspec": {
      "display_name": "Python 3",
      "language": "python",
      "name": "python3"
    },
    "language_info": {
      "codemirror_mode": {
        "name": "ipython",
        "version": 3
      },
      "file_extension": ".py",
      "mimetype": "text/x-python",
      "name": "python",
      "nbconvert_exporter": "python",
      "pygments_lexer": "ipython3",
      "version": "3.7.3"
    },
    "colab": {
      "name": "competition.ipynb",
      "provenance": [],
      "toc_visible": true,
      "include_colab_link": true
    }
  },
  "cells": [
    {
      "cell_type": "markdown",
      "metadata": {
        "id": "view-in-github",
        "colab_type": "text"
      },
      "source": [
        "<a href=\"https://colab.research.google.com/github/castrooyoo/Data-analysis/blob/master/competition.ipynb\" target=\"_parent\"><img src=\"https://colab.research.google.com/assets/colab-badge.svg\" alt=\"Open In Colab\"/></a>"
      ]
    },
    {
      "cell_type": "code",
      "metadata": {
        "id": "_SR5LH7um4Nu",
        "colab_type": "code",
        "colab": {}
      },
      "source": [
        "import pandas as pd\n",
        "import numpy as np\n",
        "import matplotlib.pyplot as plt\n",
        "import seaborn as sns\n",
        "%matplotlib inline"
      ],
      "execution_count": 0,
      "outputs": []
    },
    {
      "cell_type": "code",
      "metadata": {
        "id": "RY6WW4cdm4OG",
        "colab_type": "code",
        "colab": {}
      },
      "source": [
        "Train = pd.read_csv('Train.csv')\n",
        "Test = pd.read_csv('Test.csv')"
      ],
      "execution_count": 0,
      "outputs": []
    },
    {
      "cell_type": "code",
      "metadata": {
        "id": "FoA5HpBIm4OT",
        "colab_type": "code",
        "outputId": "ee97a4c0-ba23-4415-b1d6-d85546787fb5",
        "colab": {
          "base_uri": "https://localhost:8080/",
          "height": 180
        }
      },
      "source": [
        "te = Test.set_index(keys='Rider Id')\n",
        "ri = Riders.set_index(keys='Rider Id')"
      ],
      "execution_count": 0,
      "outputs": [
        {
          "output_type": "error",
          "ename": "NameError",
          "evalue": "ignored",
          "traceback": [
            "\u001b[0;31m---------------------------------------------------------------------------\u001b[0m",
            "\u001b[0;31mNameError\u001b[0m                                 Traceback (most recent call last)",
            "\u001b[0;32m<ipython-input-7-ada88b12ad9c>\u001b[0m in \u001b[0;36m<module>\u001b[0;34m()\u001b[0m\n\u001b[1;32m      1\u001b[0m \u001b[0mte\u001b[0m \u001b[0;34m=\u001b[0m \u001b[0mTest\u001b[0m\u001b[0;34m.\u001b[0m\u001b[0mset_index\u001b[0m\u001b[0;34m(\u001b[0m\u001b[0mkeys\u001b[0m\u001b[0;34m=\u001b[0m\u001b[0;34m'Rider Id'\u001b[0m\u001b[0;34m)\u001b[0m\u001b[0;34m\u001b[0m\u001b[0;34m\u001b[0m\u001b[0m\n\u001b[0;32m----> 2\u001b[0;31m \u001b[0mri\u001b[0m \u001b[0;34m=\u001b[0m \u001b[0mRiders\u001b[0m\u001b[0;34m.\u001b[0m\u001b[0mset_index\u001b[0m\u001b[0;34m(\u001b[0m\u001b[0mkeys\u001b[0m\u001b[0;34m=\u001b[0m\u001b[0;34m'Rider Id'\u001b[0m\u001b[0;34m)\u001b[0m\u001b[0;34m\u001b[0m\u001b[0;34m\u001b[0m\u001b[0m\n\u001b[0m",
            "\u001b[0;31mNameError\u001b[0m: name 'Riders' is not defined"
          ]
        }
      ]
    },
    {
      "cell_type": "code",
      "metadata": {
        "id": "WTzDGLRUm4Oi",
        "colab_type": "code",
        "outputId": "c903e794-2157-49db-f00e-95ef85b5790e",
        "colab": {
          "base_uri": "https://localhost:8080/",
          "height": 180
        }
      },
      "source": [
        "t = Train.set_index(keys='Rider Id')\n",
        "r = Riders.set_index(keys='Rider Id')"
      ],
      "execution_count": 0,
      "outputs": [
        {
          "output_type": "error",
          "ename": "NameError",
          "evalue": "ignored",
          "traceback": [
            "\u001b[0;31m---------------------------------------------------------------------------\u001b[0m",
            "\u001b[0;31mNameError\u001b[0m                                 Traceback (most recent call last)",
            "\u001b[0;32m<ipython-input-8-786c64ebfd73>\u001b[0m in \u001b[0;36m<module>\u001b[0;34m()\u001b[0m\n\u001b[1;32m      1\u001b[0m \u001b[0mt\u001b[0m \u001b[0;34m=\u001b[0m \u001b[0mTrain\u001b[0m\u001b[0;34m.\u001b[0m\u001b[0mset_index\u001b[0m\u001b[0;34m(\u001b[0m\u001b[0mkeys\u001b[0m\u001b[0;34m=\u001b[0m\u001b[0;34m'Rider Id'\u001b[0m\u001b[0;34m)\u001b[0m\u001b[0;34m\u001b[0m\u001b[0;34m\u001b[0m\u001b[0m\n\u001b[0;32m----> 2\u001b[0;31m \u001b[0mr\u001b[0m \u001b[0;34m=\u001b[0m \u001b[0mRiders\u001b[0m\u001b[0;34m.\u001b[0m\u001b[0mset_index\u001b[0m\u001b[0;34m(\u001b[0m\u001b[0mkeys\u001b[0m\u001b[0;34m=\u001b[0m\u001b[0;34m'Rider Id'\u001b[0m\u001b[0;34m)\u001b[0m\u001b[0;34m\u001b[0m\u001b[0;34m\u001b[0m\u001b[0m\n\u001b[0m",
            "\u001b[0;31mNameError\u001b[0m: name 'Riders' is not defined"
          ]
        }
      ]
    },
    {
      "cell_type": "code",
      "metadata": {
        "id": "BUejIarpm4Oy",
        "colab_type": "code",
        "colab": {}
      },
      "source": [
        "Train = t.join(r)\n",
        "Test = te.join(ri)"
      ],
      "execution_count": 0,
      "outputs": []
    },
    {
      "cell_type": "code",
      "metadata": {
        "id": "sU34bc7am4O_",
        "colab_type": "code",
        "colab": {}
      },
      "source": [
        "Train = Train.reset_index()\n",
        "Test = Test.reset_index()"
      ],
      "execution_count": 0,
      "outputs": []
    },
    {
      "cell_type": "markdown",
      "metadata": {
        "id": "nRDJwOWLm4PM",
        "colab_type": "text"
      },
      "source": [
        "### get information about all columns"
      ]
    },
    {
      "cell_type": "code",
      "metadata": {
        "id": "FkN7KhoCm4PR",
        "colab_type": "code",
        "outputId": "8fca9c84-32ed-44b5-a549-e370171a9035",
        "colab": {
          "base_uri": "https://localhost:8080/",
          "height": 612
        }
      },
      "source": [
        "Train.info()"
      ],
      "execution_count": 0,
      "outputs": [
        {
          "output_type": "stream",
          "text": [
            "<class 'pandas.core.frame.DataFrame'>\n",
            "RangeIndex: 21201 entries, 0 to 21200\n",
            "Data columns (total 30 columns):\n",
            "index                                        21201 non-null int64\n",
            "Order No                                     21201 non-null object\n",
            "User Id                                      21201 non-null object\n",
            "Vehicle Type                                 21201 non-null object\n",
            "Platform Type                                21201 non-null int64\n",
            "Personal or Business                         21201 non-null object\n",
            "Placement - Day of Month                     21201 non-null int64\n",
            "Placement - Weekday (Mo = 1)                 21201 non-null int64\n",
            "Placement - Time                             21201 non-null object\n",
            "Confirmation - Day of Month                  21201 non-null int64\n",
            "Confirmation - Weekday (Mo = 1)              21201 non-null int64\n",
            "Confirmation - Time                          21201 non-null object\n",
            "Arrival at Pickup - Day of Month             21201 non-null int64\n",
            "Arrival at Pickup - Weekday (Mo = 1)         21201 non-null int64\n",
            "Arrival at Pickup - Time                     21201 non-null object\n",
            "Pickup - Day of Month                        21201 non-null int64\n",
            "Pickup - Weekday (Mo = 1)                    21201 non-null int64\n",
            "Pickup - Time                                21201 non-null object\n",
            "Arrival at Destination - Day of Month        21201 non-null int64\n",
            "Arrival at Destination - Weekday (Mo = 1)    21201 non-null int64\n",
            "Arrival at Destination - Time                21201 non-null object\n",
            "Distance (KM)                                21201 non-null int64\n",
            "Temperature                                  16835 non-null float64\n",
            "Precipitation in millimeters                 552 non-null float64\n",
            "Pickup Lat                                   21201 non-null float64\n",
            "Pickup Long                                  21201 non-null float64\n",
            "Destination Lat                              21201 non-null float64\n",
            "Destination Long                             21201 non-null float64\n",
            "Rider Id                                     21201 non-null object\n",
            "Time from Pickup to Arrival                  21201 non-null int64\n",
            "dtypes: float64(6), int64(14), object(10)\n",
            "memory usage: 4.9+ MB\n"
          ],
          "name": "stdout"
        }
      ]
    },
    {
      "cell_type": "code",
      "metadata": {
        "id": "Dzz9m9Wbm4Pi",
        "colab_type": "code",
        "outputId": "be29fd34-1918-4288-9e92-b9cbfb8a81e7",
        "colab": {
          "base_uri": "https://localhost:8080/",
          "height": 544
        }
      },
      "source": [
        "Train.isnull().sum()"
      ],
      "execution_count": 0,
      "outputs": [
        {
          "output_type": "execute_result",
          "data": {
            "text/plain": [
              "index                                            0\n",
              "Order No                                         0\n",
              "User Id                                          0\n",
              "Vehicle Type                                     0\n",
              "Platform Type                                    0\n",
              "Personal or Business                             0\n",
              "Placement - Day of Month                         0\n",
              "Placement - Weekday (Mo = 1)                     0\n",
              "Placement - Time                                 0\n",
              "Confirmation - Day of Month                      0\n",
              "Confirmation - Weekday (Mo = 1)                  0\n",
              "Confirmation - Time                              0\n",
              "Arrival at Pickup - Day of Month                 0\n",
              "Arrival at Pickup - Weekday (Mo = 1)             0\n",
              "Arrival at Pickup - Time                         0\n",
              "Pickup - Day of Month                            0\n",
              "Pickup - Weekday (Mo = 1)                        0\n",
              "Pickup - Time                                    0\n",
              "Arrival at Destination - Day of Month            0\n",
              "Arrival at Destination - Weekday (Mo = 1)        0\n",
              "Arrival at Destination - Time                    0\n",
              "Distance (KM)                                    0\n",
              "Temperature                                   4366\n",
              "Precipitation in millimeters                 20649\n",
              "Pickup Lat                                       0\n",
              "Pickup Long                                      0\n",
              "Destination Lat                                  0\n",
              "Destination Long                                 0\n",
              "Rider Id                                         0\n",
              "Time from Pickup to Arrival                      0\n",
              "dtype: int64"
            ]
          },
          "metadata": {
            "tags": []
          },
          "execution_count": 11
        }
      ]
    },
    {
      "cell_type": "code",
      "metadata": {
        "id": "M0LOOFtjm4Pw",
        "colab_type": "code",
        "colab": {}
      },
      "source": [
        "Train['Temperature'].fillna(Train['Temperature'].mean(),inplace=True)\n",
        "Test['Temperature'].fillna(Test['Temperature'].mean(),inplace=True)"
      ],
      "execution_count": 0,
      "outputs": []
    },
    {
      "cell_type": "code",
      "metadata": {
        "id": "IWTt1fkUm4P-",
        "colab_type": "code",
        "colab": {}
      },
      "source": [
        "### filling with mean\n",
        "Train['Precipitation in millimeters'].fillna(Train['Precipitation in millimeters'].mean(),inplace=True)\n",
        "Test['Precipitation in millimeters'].fillna(Test['Precipitation in millimeters'].mean(),inplace=True)"
      ],
      "execution_count": 0,
      "outputs": []
    },
    {
      "cell_type": "code",
      "metadata": {
        "id": "l1meZBGQm4QS",
        "colab_type": "code",
        "outputId": "9344c53c-dc98-4333-8564-cf131f6d1bfa",
        "colab": {
          "base_uri": "https://localhost:8080/",
          "height": 34
        }
      },
      "source": [
        "Train.isnull().sum().sum()"
      ],
      "execution_count": 0,
      "outputs": [
        {
          "output_type": "execute_result",
          "data": {
            "text/plain": [
              "0"
            ]
          },
          "metadata": {
            "tags": []
          },
          "execution_count": 14
        }
      ]
    },
    {
      "cell_type": "code",
      "metadata": {
        "id": "kxgB770Um4Qk",
        "colab_type": "code",
        "colab": {}
      },
      "source": [
        "order_no = [i.split('_')[-1] for i in Test['Order No']]\n",
        "user_id = [i.split('_')[-1] for i in Test['User Id']]\n",
        "rider_id = [i.split('_')[-1] for i in Test['Rider Id']]\n",
        "Test['Order No'] = pd.DataFrame(order_no)\n",
        "Test['User Id'] = pd.DataFrame(user_id)\n",
        "Test['Rider Id'] = pd.DataFrame(rider_id)"
      ],
      "execution_count": 0,
      "outputs": []
    },
    {
      "cell_type": "code",
      "metadata": {
        "id": "q44Kn7mFm4Q2",
        "colab_type": "code",
        "colab": {}
      },
      "source": [
        "order_no = [i.split('_')[-1] for i in Train['Order No']]\n",
        "user_id = [i.split('_')[-1] for i in Train['User Id']]\n",
        "rider_id = [i.split('_')[-1] for i in Train['Rider Id']]\n",
        "Train['Order No'] = pd.DataFrame(order_no)\n",
        "Train['User Id'] = pd.DataFrame(user_id)\n",
        "Train['Rider Id'] = pd.DataFrame(rider_id)"
      ],
      "execution_count": 0,
      "outputs": []
    },
    {
      "cell_type": "code",
      "metadata": {
        "id": "LrkYHEoFm4RA",
        "colab_type": "code",
        "colab": {}
      },
      "source": [
        "### where business= 1 and personal = 0\n",
        "Train['Personal or Business']=pd.get_dummies(Train['Personal or Business'])\n",
        "Test['Personal or Business']=pd.get_dummies(Test['Personal or Business'])"
      ],
      "execution_count": 0,
      "outputs": []
    },
    {
      "cell_type": "code",
      "metadata": {
        "id": "_IJf2crem4RM",
        "colab_type": "code",
        "outputId": "ce4a236a-dabe-468a-c8ba-e204e0b7a299",
        "colab": {
          "base_uri": "https://localhost:8080/",
          "height": 777
        }
      },
      "source": [
        "plt.figure(figsize=(16,9)) \n",
        "sns.heatmap(Train.corr())"
      ],
      "execution_count": 0,
      "outputs": [
        {
          "output_type": "execute_result",
          "data": {
            "text/plain": [
              "<matplotlib.axes._subplots.AxesSubplot at 0x7f562cb75198>"
            ]
          },
          "metadata": {
            "tags": []
          },
          "execution_count": 18
        },
        {
          "output_type": "display_data",
          "data": {
            "image/png": "[encoded data removed]",
            "text/plain": [
              "<Figure size 1152x648 with 2 Axes>"
            ]
          },
          "metadata": {
            "tags": []
          }
        }
      ]
    },
    {
      "cell_type": "code",
      "metadata": {
        "id": "Z_pLKF1km4RY",
        "colab_type": "code",
        "colab": {}
      },
      "source": [
        "### the variable to be predicted\n",
        "Target = Train['Time from Pickup to Arrival']"
      ],
      "execution_count": 0,
      "outputs": []
    },
    {
      "cell_type": "code",
      "metadata": {
        "id": "DumbYor9m4Rr",
        "colab_type": "code",
        "outputId": "b3cab6e6-0f4f-49d2-ab2a-80f3cfb95e99",
        "colab": {
          "base_uri": "https://localhost:8080/",
          "height": 204
        }
      },
      "source": [
        "Test.columns"
      ],
      "execution_count": 0,
      "outputs": [
        {
          "output_type": "execute_result",
          "data": {
            "text/plain": [
              "Index(['index', 'Order No', 'User Id', 'Vehicle Type', 'Platform Type',\n",
              "       'Personal or Business', 'Placement - Day of Month',\n",
              "       'Placement - Weekday (Mo = 1)', 'Placement - Time',\n",
              "       'Confirmation - Day of Month', 'Confirmation - Weekday (Mo = 1)',\n",
              "       'Confirmation - Time', 'Arrival at Pickup - Day of Month',\n",
              "       'Arrival at Pickup - Weekday (Mo = 1)', 'Arrival at Pickup - Time',\n",
              "       'Pickup - Day of Month', 'Pickup - Weekday (Mo = 1)', 'Pickup - Time',\n",
              "       'Distance (KM)', 'Temperature', 'Precipitation in millimeters',\n",
              "       'Pickup Lat', 'Pickup Long', 'Destination Lat', 'Destination Long',\n",
              "       'Rider Id'],\n",
              "      dtype='object')"
            ]
          },
          "metadata": {
            "tags": []
          },
          "execution_count": 20
        }
      ]
    },
    {
      "cell_type": "code",
      "metadata": {
        "id": "2-TCUzAvm4R6",
        "colab_type": "code",
        "outputId": "bf428791-868d-47dc-81c2-4a905be489ba",
        "colab": {
          "base_uri": "https://localhost:8080/",
          "height": 34
        }
      },
      "source": [
        "abs(5-10)"
      ],
      "execution_count": 0,
      "outputs": [
        {
          "output_type": "execute_result",
          "data": {
            "text/plain": [
              "5"
            ]
          },
          "metadata": {
            "tags": []
          },
          "execution_count": 21
        }
      ]
    },
    {
      "cell_type": "code",
      "metadata": {
        "id": "FZOa0w1Qm4SH",
        "colab_type": "code",
        "colab": {}
      },
      "source": [
        "Test['Pickup - Time'] = pd.to_timedelta(Test['Pickup - Time'])\n",
        "Test['Arrival at Pickup - Time'] = pd.to_timedelta(Test['Arrival at Pickup - Time'])\n",
        "Test['Time from Pickup to Arrival'] = abs(Test['Pickup - Time'] - Test['Arrival at Pickup - Time'])\n",
        "Test['Time from Pickup to Arrival'] = Test['Time from Pickup to Arrival'].dt.total_seconds().astype(int)"
      ],
      "execution_count": 0,
      "outputs": []
    },
    {
      "cell_type": "code",
      "metadata": {
        "id": "0aHg9qr0m4SP",
        "colab_type": "code",
        "colab": {}
      },
      "source": [
        "#### the features for prediction\n",
        "features = Train.drop(columns=['Precipitation in millimeters','Time from Pickup to Arrival','Arrival at Destination - Day of Month','Arrival at Destination - Weekday (Mo = 1)','Arrival at Destination - Time', 'Pickup - Time', 'Arrival at Pickup - Time', 'Confirmation - Time', 'Placement - Time', 'Vehicle Type',])"
      ],
      "execution_count": 0,
      "outputs": []
    },
    {
      "cell_type": "code",
      "metadata": {
        "id": "nO-SiG5Qm4Sl",
        "colab_type": "code",
        "outputId": "e1412d0b-f5f7-4c39-f783-023602dc1d0f",
        "colab": {
          "base_uri": "https://localhost:8080/",
          "height": 34
        }
      },
      "source": [
        "features.shape"
      ],
      "execution_count": 0,
      "outputs": [
        {
          "output_type": "execute_result",
          "data": {
            "text/plain": [
              "(21201, 20)"
            ]
          },
          "metadata": {
            "tags": []
          },
          "execution_count": 24
        }
      ]
    },
    {
      "cell_type": "code",
      "metadata": {
        "id": "xL-wUpnrm4TG",
        "colab_type": "code",
        "colab": {}
      },
      "source": [
        "Y_train= Target.values.reshape(-1,1)\n",
        "X_train = features.values\n",
        "Y_test = Test['Time from Pickup to Arrival'].values.reshape(-1,1)\n",
        "X_test = Test.drop(columns=['Precipitation in millimeters','Time from Pickup to Arrival', 'Pickup - Time', 'Arrival at Pickup - Time', 'Confirmation - Time', 'Placement - Time', 'Vehicle Type',]).values"
      ],
      "execution_count": 0,
      "outputs": []
    },
    {
      "cell_type": "code",
      "metadata": {
        "id": "gOL6G9Gam4Tb",
        "colab_type": "code",
        "outputId": "72fd8c8f-dbe5-4833-c72c-bf176e4dba24",
        "colab": {
          "base_uri": "https://localhost:8080/",
          "height": 34
        }
      },
      "source": [
        "X_test.shape"
      ],
      "execution_count": 0,
      "outputs": [
        {
          "output_type": "execute_result",
          "data": {
            "text/plain": [
              "(7068, 20)"
            ]
          },
          "metadata": {
            "tags": []
          },
          "execution_count": 26
        }
      ]
    },
    {
      "cell_type": "code",
      "metadata": {
        "id": "WvlLZtJAm4To",
        "colab_type": "code",
        "colab": {}
      },
      "source": [
        "from sklearn.linear_model import LinearRegression, ElasticNet, ElasticNetCV,Lasso,Ridge\n",
        "from sklearn.metrics import mean_squared_error\n",
        "from math import sqrt"
      ],
      "execution_count": 0,
      "outputs": []
    },
    {
      "cell_type": "markdown",
      "metadata": {
        "id": "-ZW_McFCm4Tv",
        "colab_type": "text"
      },
      "source": [
        "### LinearRegression"
      ]
    },
    {
      "cell_type": "code",
      "metadata": {
        "id": "N5x3OkAcm4Ty",
        "colab_type": "code",
        "colab": {}
      },
      "source": [
        "ln = LinearRegression(normalize=True)"
      ],
      "execution_count": 0,
      "outputs": []
    },
    {
      "cell_type": "code",
      "metadata": {
        "id": "qkG_Sedfm4T7",
        "colab_type": "code",
        "colab": {}
      },
      "source": [
        "ln.fit(X_train, Y_train)\n",
        "y_predict = ln.predict(X_test)"
      ],
      "execution_count": 0,
      "outputs": []
    },
    {
      "cell_type": "code",
      "metadata": {
        "id": "Gd2TI8qxm4UG",
        "colab_type": "code",
        "colab": {}
      },
      "source": [
        "RMSE = sqrt(mean_squared_error(Y_test, y_predict))"
      ],
      "execution_count": 0,
      "outputs": []
    },
    {
      "cell_type": "code",
      "metadata": {
        "id": "boFRHTGtm4UX",
        "colab_type": "code",
        "outputId": "5fb206e3-e7c9-45aa-a220-e6857684be10",
        "colab": {
          "base_uri": "https://localhost:8080/",
          "height": 34
        }
      },
      "source": [
        "print(RMSE)"
      ],
      "execution_count": 0,
      "outputs": [
        {
          "output_type": "stream",
          "text": [
            "6582.100018293237\n"
          ],
          "name": "stdout"
        }
      ]
    },
    {
      "cell_type": "code",
      "metadata": {
        "id": "5YKVGpOYm4Uj",
        "colab_type": "code",
        "colab": {}
      },
      "source": [
        "df = pd.DataFrame(y_predict,columns=['Predicted total time'])\n",
        "Actual = pd.DataFrame(Test['Time from Pickup to Arrival'])\n",
        "Order = pd.DataFrame(Test['Order No'])\n",
        "j=Order.join(Actual)\n",
        "j.join(df).to_csv('sub1.csv')"
      ],
      "execution_count": 0,
      "outputs": []
    },
    {
      "cell_type": "markdown",
      "metadata": {
        "id": "T8it7yt5m4Ux",
        "colab_type": "text"
      },
      "source": [
        "### ElasticNet"
      ]
    },
    {
      "cell_type": "code",
      "metadata": {
        "id": "AQL1h70jm4U1",
        "colab_type": "code",
        "colab": {}
      },
      "source": [
        "el = ElasticNetCV(cv=5,alphas=(0.1,0.01,0.001),l1_ratio = (0.1,0.25,0.5,0.75,0.8,0.9),normalize=True,random_state=1)"
      ],
      "execution_count": 0,
      "outputs": []
    },
    {
      "cell_type": "code",
      "metadata": {
        "id": "Fy5Q76Kcm4VA",
        "colab_type": "code",
        "outputId": "d17a0ba8-1d30-4ab0-ec8f-43cc9a4d00ca",
        "colab": {
          "base_uri": "https://localhost:8080/",
          "height": 156
        }
      },
      "source": [
        "el.fit(X_train, Y_train)"
      ],
      "execution_count": 0,
      "outputs": [
        {
          "output_type": "stream",
          "text": [
            "/usr/local/lib/python3.6/dist-packages/sklearn/linear_model/coordinate_descent.py:1100: DataConversionWarning: A column-vector y was passed when a 1d array was expected. Please change the shape of y to (n_samples, ), for example using ravel().\n",
            "  y = column_or_1d(y, warn=True)\n"
          ],
          "name": "stderr"
        },
        {
          "output_type": "execute_result",
          "data": {
            "text/plain": [
              "ElasticNetCV(alphas=(0.1, 0.01, 0.001), copy_X=True, cv=5, eps=0.001,\n",
              "             fit_intercept=True, l1_ratio=(0.1, 0.25, 0.5, 0.75, 0.8, 0.9),\n",
              "             max_iter=1000, n_alphas=100, n_jobs=None, normalize=True,\n",
              "             positive=False, precompute='auto', random_state=1,\n",
              "             selection='cyclic', tol=0.0001, verbose=0)"
            ]
          },
          "metadata": {
            "tags": []
          },
          "execution_count": 36
        }
      ]
    },
    {
      "cell_type": "code",
      "metadata": {
        "id": "RFlJMhDOm4VP",
        "colab_type": "code",
        "outputId": "b0f416a4-edf2-4c46-c2b0-1730d1d9091b",
        "colab": {
          "base_uri": "https://localhost:8080/",
          "height": 51
        }
      },
      "source": [
        "print(el.alpha_)\n",
        "print(el.l1_ratio_)"
      ],
      "execution_count": 0,
      "outputs": [
        {
          "output_type": "stream",
          "text": [
            "0.001\n",
            "0.9\n"
          ],
          "name": "stdout"
        }
      ]
    },
    {
      "cell_type": "code",
      "metadata": {
        "id": "KMZ3-SGzm4Vl",
        "colab_type": "code",
        "outputId": "c731c79f-e44d-47af-ba51-f8fa76404a85",
        "colab": {
          "base_uri": "https://localhost:8080/",
          "height": 219
        }
      },
      "source": [
        "Test.head(1)"
      ],
      "execution_count": 0,
      "outputs": [
        {
          "output_type": "execute_result",
          "data": {
            "text/html": [
              "<div>\n",
              "<style scoped>\n",
              "    .dataframe tbody tr th:only-of-type {\n",
              "        vertical-align: middle;\n",
              "    }\n",
              "\n",
              "    .dataframe tbody tr th {\n",
              "        vertical-align: top;\n",
              "    }\n",
              "\n",
              "    .dataframe thead th {\n",
              "        text-align: right;\n",
              "    }\n",
              "</style>\n",
              "<table border=\"1\" class=\"dataframe\">\n",
              "  <thead>\n",
              "    <tr style=\"text-align: right;\">\n",
              "      <th></th>\n",
              "      <th>Order No</th>\n",
              "      <th>User Id</th>\n",
              "      <th>Vehicle Type</th>\n",
              "      <th>Platform Type</th>\n",
              "      <th>Personal or Business</th>\n",
              "      <th>Placement - Day of Month</th>\n",
              "      <th>Placement - Weekday (Mo = 1)</th>\n",
              "      <th>Placement - Time</th>\n",
              "      <th>Confirmation - Day of Month</th>\n",
              "      <th>Confirmation - Weekday (Mo = 1)</th>\n",
              "      <th>Confirmation - Time</th>\n",
              "      <th>Arrival at Pickup - Day of Month</th>\n",
              "      <th>Arrival at Pickup - Weekday (Mo = 1)</th>\n",
              "      <th>Arrival at Pickup - Time</th>\n",
              "      <th>Pickup - Day of Month</th>\n",
              "      <th>Pickup - Weekday (Mo = 1)</th>\n",
              "      <th>Pickup - Time</th>\n",
              "      <th>Distance (KM)</th>\n",
              "      <th>Temperature</th>\n",
              "      <th>Precipitation in millimeters</th>\n",
              "      <th>Pickup Lat</th>\n",
              "      <th>Pickup Long</th>\n",
              "      <th>Destination Lat</th>\n",
              "      <th>Destination Long</th>\n",
              "      <th>Rider Id</th>\n",
              "      <th>Time from Pickup to Arrival</th>\n",
              "    </tr>\n",
              "  </thead>\n",
              "  <tbody>\n",
              "    <tr>\n",
              "      <th>0</th>\n",
              "      <td>19248</td>\n",
              "      <td>3355</td>\n",
              "      <td>Bike</td>\n",
              "      <td>3</td>\n",
              "      <td>1</td>\n",
              "      <td>27</td>\n",
              "      <td>3</td>\n",
              "      <td>4:44:10 PM</td>\n",
              "      <td>27</td>\n",
              "      <td>3</td>\n",
              "      <td>4:44:29 PM</td>\n",
              "      <td>27</td>\n",
              "      <td>3</td>\n",
              "      <td>04:53:04</td>\n",
              "      <td>27</td>\n",
              "      <td>3</td>\n",
              "      <td>05:06:47</td>\n",
              "      <td>8</td>\n",
              "      <td>23.24612</td>\n",
              "      <td>6.651759</td>\n",
              "      <td>-1.333275</td>\n",
              "      <td>36.870815</td>\n",
              "      <td>-1.305249</td>\n",
              "      <td>36.82239</td>\n",
              "      <td>192</td>\n",
              "      <td>823</td>\n",
              "    </tr>\n",
              "  </tbody>\n",
              "</table>\n",
              "</div>"
            ],
            "text/plain": [
              "  Order No User Id  ... Rider Id  Time from Pickup to Arrival\n",
              "0    19248    3355  ...      192                          823\n",
              "\n",
              "[1 rows x 26 columns]"
            ]
          },
          "metadata": {
            "tags": []
          },
          "execution_count": 38
        }
      ]
    },
    {
      "cell_type": "code",
      "metadata": {
        "id": "AOroASZqm4Vx",
        "colab_type": "code",
        "colab": {}
      },
      "source": [
        "y_predicted = el.predict(X_test)"
      ],
      "execution_count": 0,
      "outputs": []
    },
    {
      "cell_type": "code",
      "metadata": {
        "id": "MBuxZa9em4V9",
        "colab_type": "code",
        "colab": {}
      },
      "source": [
        "RMSE = sqrt(mean_squared_error(Y_test, y_predicted))"
      ],
      "execution_count": 0,
      "outputs": []
    },
    {
      "cell_type": "code",
      "metadata": {
        "id": "YfsqxdTRm4WE",
        "colab_type": "code",
        "outputId": "46c9bc24-3dff-4f08-fa63-429320bb419f",
        "colab": {
          "base_uri": "https://localhost:8080/",
          "height": 34
        }
      },
      "source": [
        "print(RMSE)"
      ],
      "execution_count": 0,
      "outputs": [
        {
          "output_type": "stream",
          "text": [
            "6567.22173804238\n"
          ],
          "name": "stdout"
        }
      ]
    },
    {
      "cell_type": "code",
      "metadata": {
        "id": "naw6xkH_m4WR",
        "colab_type": "code",
        "colab": {}
      },
      "source": [
        "df = pd.DataFrame(y_predicted,columns=['Predicted total time'])\n",
        "Actual = pd.DataFrame(Test['Time from Pickup to Arrival'])\n",
        "Order = pd.DataFrame(Test['Order No'])\n",
        "j=Order.join(Actual)\n",
        "j.join(df).to_csv('sub2.csv')"
      ],
      "execution_count": 0,
      "outputs": []
    },
    {
      "cell_type": "markdown",
      "metadata": {
        "id": "pRGH7iAzm4Wk",
        "colab_type": "text"
      },
      "source": [
        "### actual train and test"
      ]
    },
    {
      "cell_type": "code",
      "metadata": {
        "id": "Rk1C6TUkm4Wn",
        "colab_type": "code",
        "colab": {}
      },
      "source": [
        "Actual_Train = pd.read_csv('Train.csv')\n",
        "Actual_Test = pd.read_csv('Test.csv')"
      ],
      "execution_count": 0,
      "outputs": []
    },
    {
      "cell_type": "code",
      "metadata": {
        "id": "M7ZTlU19m4W3",
        "colab_type": "code",
        "colab": {}
      },
      "source": [
        "Act_Train = Actual_Train\n",
        "Act_Test = Actual_Test"
      ],
      "execution_count": 0,
      "outputs": []
    },
    {
      "cell_type": "code",
      "metadata": {
        "id": "io62KR-lm4XI",
        "colab_type": "code",
        "colab": {}
      },
      "source": [
        "order_no = [int(i.split('_')[-1]) for i in Act_Test['Order No']]\n",
        "user_id = [int(i.split('_')[-1]) for i in Act_Test['User Id']]\n",
        "rider_id = [int(i.split('_')[-1]) for i in Act_Test['Rider Id']]\n",
        "Act_Test['Order No'] = pd.DataFrame(order_no)\n",
        "Act_Test['User Id'] = pd.DataFrame(user_id)\n",
        "Act_Test['Rider Id'] = pd.DataFrame(rider_id)\n",
        "order_no = [int(i.split('_')[-1]) for i in Act_Train['Order No']]\n",
        "user_id = [int(i.split('_')[-1]) for i in Act_Train['User Id']]\n",
        "rider_id = [int(i.split('_')[-1]) for i in Act_Train['Rider Id']]\n",
        "Act_Train['Order No'] = pd.DataFrame(order_no)\n",
        "Act_Train['User Id'] = pd.DataFrame(user_id)\n",
        "Act_Train['Rider Id'] = pd.DataFrame(rider_id)"
      ],
      "execution_count": 0,
      "outputs": []
    },
    {
      "cell_type": "code",
      "metadata": {
        "id": "vwNq8B2Km4XS",
        "colab_type": "code",
        "colab": {}
      },
      "source": [
        "Act_Test['Pickup - Time'] = pd.to_timedelta(Act_Test['Pickup - Time'])\n",
        "Act_Test['Arrival at Pickup - Time'] = pd.to_timedelta(Act_Test['Arrival at Pickup - Time'])\n",
        "Act_Test['Time from Pickup to Arrival'] = abs(Act_Test['Pickup - Time'] - Act_Test['Arrival at Pickup - Time'])\n",
        "Act_Test['Time from Pickup to Arrival'] = Act_Test['Time from Pickup to Arrival'].dt.total_seconds().astype(int)"
      ],
      "execution_count": 0,
      "outputs": []
    },
    {
      "cell_type": "code",
      "metadata": {
        "id": "I7zRHDfAm4Xc",
        "colab_type": "code",
        "colab": {}
      },
      "source": [
        "### where business= 1 and personal = 0\n",
        "Act_Train['Personal or Business']=pd.get_dummies(Act_Train['Personal or Business'])\n",
        "Act_Test['Personal or Business']=pd.get_dummies(Act_Test['Personal or Business'])"
      ],
      "execution_count": 0,
      "outputs": []
    },
    {
      "cell_type": "code",
      "metadata": {
        "id": "k2humvy_m4Xk",
        "colab_type": "code",
        "outputId": "2e128970-b154-4131-b7f0-814e21700d80",
        "colab": {
          "base_uri": "https://localhost:8080/",
          "height": 527
        }
      },
      "source": [
        "Act_Train.isnull().sum()"
      ],
      "execution_count": 0,
      "outputs": [
        {
          "output_type": "execute_result",
          "data": {
            "text/plain": [
              "Order No                                         0\n",
              "User Id                                          0\n",
              "Vehicle Type                                     0\n",
              "Platform Type                                    0\n",
              "Personal or Business                             0\n",
              "Placement - Day of Month                         0\n",
              "Placement - Weekday (Mo = 1)                     0\n",
              "Placement - Time                                 0\n",
              "Confirmation - Day of Month                      0\n",
              "Confirmation - Weekday (Mo = 1)                  0\n",
              "Confirmation - Time                              0\n",
              "Arrival at Pickup - Day of Month                 0\n",
              "Arrival at Pickup - Weekday (Mo = 1)             0\n",
              "Arrival at Pickup - Time                         0\n",
              "Pickup - Day of Month                            0\n",
              "Pickup - Weekday (Mo = 1)                        0\n",
              "Pickup - Time                                    0\n",
              "Arrival at Destination - Day of Month            0\n",
              "Arrival at Destination - Weekday (Mo = 1)        0\n",
              "Arrival at Destination - Time                    0\n",
              "Distance (KM)                                    0\n",
              "Temperature                                   4366\n",
              "Precipitation in millimeters                 20649\n",
              "Pickup Lat                                       0\n",
              "Pickup Long                                      0\n",
              "Destination Lat                                  0\n",
              "Destination Long                                 0\n",
              "Rider Id                                         0\n",
              "Time from Pickup to Arrival                      0\n",
              "dtype: int64"
            ]
          },
          "metadata": {
            "tags": []
          },
          "execution_count": 48
        }
      ]
    },
    {
      "cell_type": "code",
      "metadata": {
        "id": "ddQAMrs5m4X0",
        "colab_type": "code",
        "colab": {}
      },
      "source": [
        "#### filling null values with mean including precipitation\n",
        "Act_Train['Temperature'] = Act_Train['Temperature'].fillna(Act_Train['Temperature'].mean())\n",
        "Act_Test['Temperature'] = Act_Test['Temperature'].fillna(Act_Test['Temperature'].mean())"
      ],
      "execution_count": 0,
      "outputs": []
    },
    {
      "cell_type": "code",
      "metadata": {
        "id": "qGUWWrgBm4YJ",
        "colab_type": "code",
        "outputId": "fc539579-befc-4718-c4cd-3912a5107e49",
        "colab": {
          "base_uri": "https://localhost:8080/",
          "height": 34
        }
      },
      "source": [
        "Act_Train.isnull().sum().sum()"
      ],
      "execution_count": 0,
      "outputs": [
        {
          "output_type": "execute_result",
          "data": {
            "text/plain": [
              "20649"
            ]
          },
          "metadata": {
            "tags": []
          },
          "execution_count": 50
        }
      ]
    },
    {
      "cell_type": "code",
      "metadata": {
        "id": "k5GiIfglm4Ym",
        "colab_type": "code",
        "outputId": "b73022dd-44d3-426a-cd55-a2fae947946e",
        "colab": {
          "base_uri": "https://localhost:8080/",
          "height": 282
        }
      },
      "source": [
        "plt.scatter(x=Act_Train['Temperature'],y=Act_Train['Order No'])"
      ],
      "execution_count": 0,
      "outputs": [
        {
          "output_type": "execute_result",
          "data": {
            "text/plain": [
              "<matplotlib.collections.PathCollection at 0x7f4db3bc7a20>"
            ]
          },
          "metadata": {
            "tags": []
          },
          "execution_count": 51
        },
        {
          "output_type": "display_data",
          "data": {
            "image/png": "[encoded data removed]",
            "text/plain": [
              "<Figure size 432x288 with 1 Axes>"
            ]
          },
          "metadata": {
            "tags": []
          }
        }
      ]
    },
    {
      "cell_type": "code",
      "metadata": {
        "id": "gAVxKxiNm4Y5",
        "colab_type": "code",
        "colab": {}
      },
      "source": [
        "features = Act_Train.drop(columns=['Precipitation in millimeters','Time from Pickup to Arrival','Arrival at Destination - Day of Month','Arrival at Destination - Weekday (Mo = 1)','Arrival at Destination - Time', 'Pickup - Time', 'Arrival at Pickup - Time', 'Confirmation - Time', 'Placement - Time', 'Vehicle Type',])"
      ],
      "execution_count": 0,
      "outputs": []
    },
    {
      "cell_type": "code",
      "metadata": {
        "id": "qqwOdv_Sm4ZE",
        "colab_type": "code",
        "outputId": "2c8c44c0-0e88-4cfe-d3c8-b7e870500798",
        "colab": {
          "base_uri": "https://localhost:8080/",
          "height": 357
        }
      },
      "source": [
        "features.isnull().sum()"
      ],
      "execution_count": 0,
      "outputs": [
        {
          "output_type": "execute_result",
          "data": {
            "text/plain": [
              "Order No                                0\n",
              "User Id                                 0\n",
              "Platform Type                           0\n",
              "Personal or Business                    0\n",
              "Placement - Day of Month                0\n",
              "Placement - Weekday (Mo = 1)            0\n",
              "Confirmation - Day of Month             0\n",
              "Confirmation - Weekday (Mo = 1)         0\n",
              "Arrival at Pickup - Day of Month        0\n",
              "Arrival at Pickup - Weekday (Mo = 1)    0\n",
              "Pickup - Day of Month                   0\n",
              "Pickup - Weekday (Mo = 1)               0\n",
              "Distance (KM)                           0\n",
              "Temperature                             0\n",
              "Pickup Lat                              0\n",
              "Pickup Long                             0\n",
              "Destination Lat                         0\n",
              "Destination Long                        0\n",
              "Rider Id                                0\n",
              "dtype: int64"
            ]
          },
          "metadata": {
            "tags": []
          },
          "execution_count": 53
        }
      ]
    },
    {
      "cell_type": "code",
      "metadata": {
        "id": "w7SnWIVAm4ZZ",
        "colab_type": "code",
        "colab": {}
      },
      "source": [
        "x_act_train = features.values\n",
        "y_act_train = Act_Train['Time from Pickup to Arrival'].values"
      ],
      "execution_count": 0,
      "outputs": []
    },
    {
      "cell_type": "code",
      "metadata": {
        "id": "zMSBT8Yjm4Zo",
        "colab_type": "code",
        "colab": {}
      },
      "source": [
        "y_test = Act_Test['Time from Pickup to Arrival'].values.reshape(-1,1)\n",
        "x_test = Act_Test.drop(columns=['Precipitation in millimeters','Time from Pickup to Arrival', 'Pickup - Time', 'Arrival at Pickup - Time', 'Confirmation - Time', 'Placement - Time', 'Vehicle Type']).values"
      ],
      "execution_count": 0,
      "outputs": []
    },
    {
      "cell_type": "code",
      "metadata": {
        "id": "vfMTs0Ykm4Z4",
        "colab_type": "code",
        "outputId": "1b9cb464-a5cc-4f38-e575-30a95f3a0944",
        "colab": {
          "base_uri": "https://localhost:8080/",
          "height": 238
        }
      },
      "source": [
        "x_test"
      ],
      "execution_count": 0,
      "outputs": [
        {
          "output_type": "execute_result",
          "data": {
            "text/plain": [
              "array([[ 1.92480000e+04,  3.35500000e+03,  3.00000000e+00, ...,\n",
              "        -1.30524910e+00,  3.68223899e+01,  1.92000000e+02],\n",
              "       [ 1.27360000e+04,  3.64700000e+03,  3.00000000e+00, ...,\n",
              "        -1.27700660e+00,  3.68239068e+01,  8.68000000e+02],\n",
              "       [ 7.68000000e+02,  2.15400000e+03,  3.00000000e+00, ...,\n",
              "        -1.27657360e+00,  3.68513646e+01,  2.60000000e+01],\n",
              "       ...,\n",
              "       [ 1.96900000e+03,  1.36000000e+02,  3.00000000e+00, ...,\n",
              "        -1.26496050e+00,  3.67981777e+01,  3.79000000e+02],\n",
              "       [ 1.05910000e+04,  1.97900000e+03,  3.00000000e+00, ...,\n",
              "        -1.27202690e+00,  3.68174107e+01,  4.74000000e+02],\n",
              "       [ 1.60300000e+03,  1.72100000e+03,  3.00000000e+00, ...,\n",
              "        -1.30040620e+00,  3.68297410e+01,  7.60000000e+01]])"
            ]
          },
          "metadata": {
            "tags": []
          },
          "execution_count": 56
        }
      ]
    },
    {
      "cell_type": "code",
      "metadata": {
        "id": "pSFjJcq6m4aI",
        "colab_type": "code",
        "outputId": "3528899e-65d9-4bae-b109-000e5ff2a86c",
        "colab": {
          "base_uri": "https://localhost:8080/",
          "height": 34
        }
      },
      "source": [
        "ln = LinearRegression(normalize=True)\n",
        "ln.fit(x_act_train, y_act_train)\n",
        "y_predict = ln.predict(x_test)\n",
        "RMSE = sqrt(mean_squared_error(y_test, y_predict))\n",
        "print(f'RMSE FOR LINEAR REGRESSION : {RMSE}')"
      ],
      "execution_count": 0,
      "outputs": [
        {
          "output_type": "stream",
          "text": [
            "RMSE FOR LINEAR REGRESSION : 6582.100018293237\n"
          ],
          "name": "stdout"
        }
      ]
    },
    {
      "cell_type": "markdown",
      "metadata": {
        "id": "EfnsWZ4um4aO",
        "colab_type": "text"
      },
      "source": [
        "#### RMSE = 6582.122882318993"
      ]
    },
    {
      "cell_type": "code",
      "metadata": {
        "id": "EDdQPd-bm4aQ",
        "colab_type": "code",
        "colab": {}
      },
      "source": [
        "df = pd.DataFrame(y_predict,columns=['Predicted total time'])\n",
        "Actual = pd.DataFrame(Act_Test['Time from Pickup to Arrival'])\n",
        "Order = pd.DataFrame(Actual_Test['Order No'])\n",
        "j=Order.join(Actual)\n",
        "j.join(df).to_csv('sub3.csv')"
      ],
      "execution_count": 0,
      "outputs": []
    },
    {
      "cell_type": "code",
      "metadata": {
        "id": "7r-ihZvgm4aZ",
        "colab_type": "code",
        "colab": {}
      },
      "source": [
        "ele = ElasticNetCV(cv=5,alphas=(0.1,0.01,0.005,0.0025,0.001),selection='random', l1_ratio = (0.1,0.25,0.5,0.75,0.8,0.9),normalize=True,random_state=1)\n",
        "ele.fit(x_act_train, y_act_train)\n",
        "print(f'ele.alpha_{ele.alpha_}')\n",
        "print(f'ele.l1_ratio_{ele.l1_ratio_}')"
      ],
      "execution_count": 0,
      "outputs": []
    },
    {
      "cell_type": "code",
      "metadata": {
        "id": "xW9ev32-m4af",
        "colab_type": "code",
        "colab": {}
      },
      "source": [
        "y_predicted = ele.predict(x_test)\n",
        "RMSE = sqrt(mean_squared_error(y_test, y_predicted))\n",
        "print(f'RMSE FOR ELASTICNET CV : {RMSE}')"
      ],
      "execution_count": 0,
      "outputs": []
    },
    {
      "cell_type": "code",
      "metadata": {
        "id": "eQnTRA6Rm4ax",
        "colab_type": "code",
        "colab": {}
      },
      "source": [
        "df = pd.DataFrame(y_predicted,columns=['Predicted total time'])\n",
        "order =[f'Order_No_{i}' for i in Actual_Test['Order No']]\n",
        "order =pd.DataFrame(order,columns=['Order No'])\n",
        "Submission1 = order.join(df)\n",
        "Submission1.to_csv('Olang_Submission1.csv',index=False)"
      ],
      "execution_count": 0,
      "outputs": []
    },
    {
      "cell_type": "code",
      "metadata": {
        "id": "uvr0Z17dm4a9",
        "colab_type": "code",
        "colab": {}
      },
      "source": [
        "from sklearn.neighbors import KNeighborsRegressor"
      ],
      "execution_count": 0,
      "outputs": []
    },
    {
      "cell_type": "code",
      "metadata": {
        "id": "R7HW95Glm4bN",
        "colab_type": "code",
        "colab": {}
      },
      "source": [
        "kn = KNeighborsRegressor(103,p=1)\n",
        "kn.fit(x_act_train, y_act_train)\n",
        "y_predic = kn.predict(x_test)\n",
        "RMSE = sqrt(mean_squared_error(y_test, y_predic))\n",
        "print(RMSE)"
      ],
      "execution_count": 0,
      "outputs": []
    },
    {
      "cell_type": "code",
      "metadata": {
        "id": "0832FtDqm4bX",
        "colab_type": "code",
        "colab": {}
      },
      "source": [
        "plt.scatter(x=Order,y=df)"
      ],
      "execution_count": 0,
      "outputs": []
    },
    {
      "cell_type": "markdown",
      "metadata": {
        "id": "dbG4cxDAJfeG",
        "colab_type": "text"
      },
      "source": [
        "deeplearning for regression"
      ]
    },
    {
      "cell_type": "code",
      "metadata": {
        "id": "zx51L4DZJdtY",
        "colab_type": "code",
        "colab": {}
      },
      "source": [
        "\n",
        "import pandas\n",
        "from keras.models import Sequential\n",
        "from keras.layers import Dense\n",
        "from keras.wrappers.scikit_learn import KerasRegressor\n",
        "from sklearn.model_selection import cross_val_score\n",
        "from sklearn.model_selection import KFold\n",
        "from sklearn.preprocessing import StandardScaler\n",
        "from sklearn.pipeline import Pipeline"
      ],
      "execution_count": 0,
      "outputs": []
    },
    {
      "cell_type": "code",
      "metadata": {
        "id": "Y0dWOg5UKNMp",
        "colab_type": "code",
        "colab": {}
      },
      "source": [
        "x_act_train.shape[1]"
      ],
      "execution_count": 0,
      "outputs": []
    },
    {
      "cell_type": "code",
      "metadata": {
        "id": "eVc7seTDJxci",
        "colab_type": "code",
        "colab": {}
      },
      "source": [
        "# define base model\n",
        "def baseline_model():\n",
        "\t# create model\n",
        "\tmodel = Sequential()\n",
        "\tmodel.add(Dense(19, input_dim=x_act_train.shape[1], kernel_initializer='normal', activation='relu'))\n",
        "\tmodel.add(Dense(1, kernel_initializer='normal'))\n",
        "\t# Compile model\n",
        "\tmodel.compile(loss='mean_squared_error', optimizer='adam')\n",
        "\treturn model"
      ],
      "execution_count": 0,
      "outputs": []
    },
    {
      "cell_type": "code",
      "metadata": {
        "id": "DcQhNmCMMmYt",
        "colab_type": "code",
        "colab": {}
      },
      "source": [
        "# define the model\n",
        "def larger_model():\n",
        "\t# create model\n",
        "\tmodel = Sequential()\n",
        "\tmodel.add(Dense(19, input_dim=19, kernel_initializer='normal', activation='relu'))\n",
        "\tmodel.add(Dense(6, kernel_initializer='normal', activation='relu'))\n",
        "\tmodel.add(Dense(1, kernel_initializer='normal'))\n",
        "\t# Compile model\n",
        "\tmodel.compile(loss='mean_squared_error', optimizer='adam')\n",
        "\treturn model"
      ],
      "execution_count": 0,
      "outputs": []
    },
    {
      "cell_type": "code",
      "metadata": {
        "id": "ZRRdmwJiKm_k",
        "colab_type": "code",
        "outputId": "62a8a586-f645-4b48-a8b4-daf252c0618b",
        "colab": {
          "base_uri": "https://localhost:8080/"
        }
      },
      "source": [
        "# evaluate model with standardized dataset\n",
        "estimators = []\n",
        "estimators.append(('standardize', StandardScaler()))\n",
        "estimators.append(('mlp', KerasRegressor(build_fn=baseline_model, epochs=50, batch_size=5, verbose=0)))\n",
        "pipeline = Pipeline(estimators)\n",
        "kfold = KFold(n_splits=10)\n",
        "results = cross_val_score(estimator, x_act_train, y_act_train, cv=kfold)\n",
        "print(\"Results: %.2f (%.2f) MSE\" % (results.mean(), sqrt(results.std())))"
      ],
      "execution_count": 0,
      "outputs": [
        {
          "output_type": "error",
          "ename": "KeyboardInterrupt",
          "evalue": "ignored",
          "traceback": [
            "\u001b[0;31m---------------------------------------------------------------------------\u001b[0m",
            "\u001b[0;31mKeyboardInterrupt\u001b[0m                         Traceback (most recent call last)",
            "\u001b[0;32m<ipython-input-223-c8fd5c4ab6a5>\u001b[0m in \u001b[0;36m<module>\u001b[0;34m()\u001b[0m\n\u001b[1;32m      4\u001b[0m \u001b[0mpipeline\u001b[0m \u001b[0;34m=\u001b[0m \u001b[0mPipeline\u001b[0m\u001b[0;34m(\u001b[0m\u001b[0mestimators\u001b[0m\u001b[0;34m)\u001b[0m\u001b[0;34m\u001b[0m\u001b[0;34m\u001b[0m\u001b[0m\n\u001b[1;32m      5\u001b[0m \u001b[0mkfold\u001b[0m \u001b[0;34m=\u001b[0m \u001b[0mKFold\u001b[0m\u001b[0;34m(\u001b[0m\u001b[0mn_splits\u001b[0m\u001b[0;34m=\u001b[0m\u001b[0;36m10\u001b[0m\u001b[0;34m)\u001b[0m\u001b[0;34m\u001b[0m\u001b[0;34m\u001b[0m\u001b[0m\n\u001b[0;32m----> 6\u001b[0;31m \u001b[0mresults\u001b[0m \u001b[0;34m=\u001b[0m \u001b[0mcross_val_score\u001b[0m\u001b[0;34m(\u001b[0m\u001b[0mestimator\u001b[0m\u001b[0;34m,\u001b[0m \u001b[0mx_act_train\u001b[0m\u001b[0;34m,\u001b[0m \u001b[0my_act_train\u001b[0m\u001b[0;34m,\u001b[0m \u001b[0mcv\u001b[0m\u001b[0;34m=\u001b[0m\u001b[0mkfold\u001b[0m\u001b[0;34m)\u001b[0m\u001b[0;34m\u001b[0m\u001b[0;34m\u001b[0m\u001b[0m\n\u001b[0m\u001b[1;32m      7\u001b[0m \u001b[0mprint\u001b[0m\u001b[0;34m(\u001b[0m\u001b[0;34m\"Results: %.2f (%.2f) MSE\"\u001b[0m \u001b[0;34m%\u001b[0m \u001b[0;34m(\u001b[0m\u001b[0mresults\u001b[0m\u001b[0;34m.\u001b[0m\u001b[0mmean\u001b[0m\u001b[0;34m(\u001b[0m\u001b[0;34m)\u001b[0m\u001b[0;34m,\u001b[0m \u001b[0msqrt\u001b[0m\u001b[0;34m(\u001b[0m\u001b[0mresults\u001b[0m\u001b[0;34m.\u001b[0m\u001b[0mstd\u001b[0m\u001b[0;34m(\u001b[0m\u001b[0;34m)\u001b[0m\u001b[0;34m)\u001b[0m\u001b[0;34m)\u001b[0m\u001b[0;34m)\u001b[0m\u001b[0;34m\u001b[0m\u001b[0;34m\u001b[0m\u001b[0m\n",
            "\u001b[0;32m/usr/local/lib/python3.6/dist-packages/sklearn/model_selection/_validation.py\u001b[0m in \u001b[0;36mcross_val_score\u001b[0;34m(estimator, X, y, groups, scoring, cv, n_jobs, verbose, fit_params, pre_dispatch, error_score)\u001b[0m\n\u001b[1;32m    389\u001b[0m                                 \u001b[0mfit_params\u001b[0m\u001b[0;34m=\u001b[0m\u001b[0mfit_params\u001b[0m\u001b[0;34m,\u001b[0m\u001b[0;34m\u001b[0m\u001b[0;34m\u001b[0m\u001b[0m\n\u001b[1;32m    390\u001b[0m                                 \u001b[0mpre_dispatch\u001b[0m\u001b[0;34m=\u001b[0m\u001b[0mpre_dispatch\u001b[0m\u001b[0;34m,\u001b[0m\u001b[0;34m\u001b[0m\u001b[0;34m\u001b[0m\u001b[0m\n\u001b[0;32m--> 391\u001b[0;31m                                 error_score=error_score)\n\u001b[0m\u001b[1;32m    392\u001b[0m     \u001b[0;32mreturn\u001b[0m \u001b[0mcv_results\u001b[0m\u001b[0;34m[\u001b[0m\u001b[0;34m'test_score'\u001b[0m\u001b[0;34m]\u001b[0m\u001b[0;34m\u001b[0m\u001b[0;34m\u001b[0m\u001b[0m\n\u001b[1;32m    393\u001b[0m \u001b[0;34m\u001b[0m\u001b[0m\n",
            "\u001b[0;32m/usr/local/lib/python3.6/dist-packages/sklearn/model_selection/_validation.py\u001b[0m in \u001b[0;36mcross_validate\u001b[0;34m(estimator, X, y, groups, scoring, cv, n_jobs, verbose, fit_params, pre_dispatch, return_train_score, return_estimator, error_score)\u001b[0m\n\u001b[1;32m    230\u001b[0m             \u001b[0mreturn_times\u001b[0m\u001b[0;34m=\u001b[0m\u001b[0;32mTrue\u001b[0m\u001b[0;34m,\u001b[0m \u001b[0mreturn_estimator\u001b[0m\u001b[0;34m=\u001b[0m\u001b[0mreturn_estimator\u001b[0m\u001b[0;34m,\u001b[0m\u001b[0;34m\u001b[0m\u001b[0;34m\u001b[0m\u001b[0m\n\u001b[1;32m    231\u001b[0m             error_score=error_score)\n\u001b[0;32m--> 232\u001b[0;31m         for train, test in cv.split(X, y, groups))\n\u001b[0m\u001b[1;32m    233\u001b[0m \u001b[0;34m\u001b[0m\u001b[0m\n\u001b[1;32m    234\u001b[0m     \u001b[0mzipped_scores\u001b[0m \u001b[0;34m=\u001b[0m \u001b[0mlist\u001b[0m\u001b[0;34m(\u001b[0m\u001b[0mzip\u001b[0m\u001b[0;34m(\u001b[0m\u001b[0;34m*\u001b[0m\u001b[0mscores\u001b[0m\u001b[0;34m)\u001b[0m\u001b[0;34m)\u001b[0m\u001b[0;34m\u001b[0m\u001b[0;34m\u001b[0m\u001b[0m\n",
            "\u001b[0;32m/usr/local/lib/python3.6/dist-packages/joblib/parallel.py\u001b[0m in \u001b[0;36m__call__\u001b[0;34m(self, iterable)\u001b[0m\n\u001b[1;32m   1004\u001b[0m                 \u001b[0mself\u001b[0m\u001b[0;34m.\u001b[0m\u001b[0m_iterating\u001b[0m \u001b[0;34m=\u001b[0m \u001b[0mself\u001b[0m\u001b[0;34m.\u001b[0m\u001b[0m_original_iterator\u001b[0m \u001b[0;32mis\u001b[0m \u001b[0;32mnot\u001b[0m \u001b[0;32mNone\u001b[0m\u001b[0;34m\u001b[0m\u001b[0;34m\u001b[0m\u001b[0m\n\u001b[1;32m   1005\u001b[0m \u001b[0;34m\u001b[0m\u001b[0m\n\u001b[0;32m-> 1006\u001b[0;31m             \u001b[0;32mwhile\u001b[0m \u001b[0mself\u001b[0m\u001b[0;34m.\u001b[0m\u001b[0mdispatch_one_batch\u001b[0m\u001b[0;34m(\u001b[0m\u001b[0miterator\u001b[0m\u001b[0;34m)\u001b[0m\u001b[0;34m:\u001b[0m\u001b[0;34m\u001b[0m\u001b[0;34m\u001b[0m\u001b[0m\n\u001b[0m\u001b[1;32m   1007\u001b[0m                 \u001b[0;32mpass\u001b[0m\u001b[0;34m\u001b[0m\u001b[0;34m\u001b[0m\u001b[0m\n\u001b[1;32m   1008\u001b[0m \u001b[0;34m\u001b[0m\u001b[0m\n",
            "\u001b[0;32m/usr/local/lib/python3.6/dist-packages/joblib/parallel.py\u001b[0m in \u001b[0;36mdispatch_one_batch\u001b[0;34m(self, iterator)\u001b[0m\n\u001b[1;32m    832\u001b[0m                 \u001b[0;32mreturn\u001b[0m \u001b[0;32mFalse\u001b[0m\u001b[0;34m\u001b[0m\u001b[0;34m\u001b[0m\u001b[0m\n\u001b[1;32m    833\u001b[0m             \u001b[0;32melse\u001b[0m\u001b[0;34m:\u001b[0m\u001b[0;34m\u001b[0m\u001b[0;34m\u001b[0m\u001b[0m\n\u001b[0;32m--> 834\u001b[0;31m                 \u001b[0mself\u001b[0m\u001b[0;34m.\u001b[0m\u001b[0m_dispatch\u001b[0m\u001b[0;34m(\u001b[0m\u001b[0mtasks\u001b[0m\u001b[0;34m)\u001b[0m\u001b[0;34m\u001b[0m\u001b[0;34m\u001b[0m\u001b[0m\n\u001b[0m\u001b[1;32m    835\u001b[0m                 \u001b[0;32mreturn\u001b[0m \u001b[0;32mTrue\u001b[0m\u001b[0;34m\u001b[0m\u001b[0;34m\u001b[0m\u001b[0m\n\u001b[1;32m    836\u001b[0m \u001b[0;34m\u001b[0m\u001b[0m\n",
            "\u001b[0;32m/usr/local/lib/python3.6/dist-packages/joblib/parallel.py\u001b[0m in \u001b[0;36m_dispatch\u001b[0;34m(self, batch)\u001b[0m\n\u001b[1;32m    751\u001b[0m         \u001b[0;32mwith\u001b[0m \u001b[0mself\u001b[0m\u001b[0;34m.\u001b[0m\u001b[0m_lock\u001b[0m\u001b[0;34m:\u001b[0m\u001b[0;34m\u001b[0m\u001b[0;34m\u001b[0m\u001b[0m\n\u001b[1;32m    752\u001b[0m             \u001b[0mjob_idx\u001b[0m \u001b[0;34m=\u001b[0m \u001b[0mlen\u001b[0m\u001b[0;34m(\u001b[0m\u001b[0mself\u001b[0m\u001b[0;34m.\u001b[0m\u001b[0m_jobs\u001b[0m\u001b[0;34m)\u001b[0m\u001b[0;34m\u001b[0m\u001b[0;34m\u001b[0m\u001b[0m\n\u001b[0;32m--> 753\u001b[0;31m             \u001b[0mjob\u001b[0m \u001b[0;34m=\u001b[0m \u001b[0mself\u001b[0m\u001b[0;34m.\u001b[0m\u001b[0m_backend\u001b[0m\u001b[0;34m.\u001b[0m\u001b[0mapply_async\u001b[0m\u001b[0;34m(\u001b[0m\u001b[0mbatch\u001b[0m\u001b[0;34m,\u001b[0m \u001b[0mcallback\u001b[0m\u001b[0;34m=\u001b[0m\u001b[0mcb\u001b[0m\u001b[0;34m)\u001b[0m\u001b[0;34m\u001b[0m\u001b[0;34m\u001b[0m\u001b[0m\n\u001b[0m\u001b[1;32m    754\u001b[0m             \u001b[0;31m# A job can complete so quickly than its callback is\u001b[0m\u001b[0;34m\u001b[0m\u001b[0;34m\u001b[0m\u001b[0;34m\u001b[0m\u001b[0m\n\u001b[1;32m    755\u001b[0m             \u001b[0;31m# called before we get here, causing self._jobs to\u001b[0m\u001b[0;34m\u001b[0m\u001b[0;34m\u001b[0m\u001b[0;34m\u001b[0m\u001b[0m\n",
            "\u001b[0;32m/usr/local/lib/python3.6/dist-packages/joblib/_parallel_backends.py\u001b[0m in \u001b[0;36mapply_async\u001b[0;34m(self, func, callback)\u001b[0m\n\u001b[1;32m    199\u001b[0m     \u001b[0;32mdef\u001b[0m \u001b[0mapply_async\u001b[0m\u001b[0;34m(\u001b[0m\u001b[0mself\u001b[0m\u001b[0;34m,\u001b[0m \u001b[0mfunc\u001b[0m\u001b[0;34m,\u001b[0m \u001b[0mcallback\u001b[0m\u001b[0;34m=\u001b[0m\u001b[0;32mNone\u001b[0m\u001b[0;34m)\u001b[0m\u001b[0;34m:\u001b[0m\u001b[0;34m\u001b[0m\u001b[0;34m\u001b[0m\u001b[0m\n\u001b[1;32m    200\u001b[0m         \u001b[0;34m\"\"\"Schedule a func to be run\"\"\"\u001b[0m\u001b[0;34m\u001b[0m\u001b[0;34m\u001b[0m\u001b[0m\n\u001b[0;32m--> 201\u001b[0;31m         \u001b[0mresult\u001b[0m \u001b[0;34m=\u001b[0m \u001b[0mImmediateResult\u001b[0m\u001b[0;34m(\u001b[0m\u001b[0mfunc\u001b[0m\u001b[0;34m)\u001b[0m\u001b[0;34m\u001b[0m\u001b[0;34m\u001b[0m\u001b[0m\n\u001b[0m\u001b[1;32m    202\u001b[0m         \u001b[0;32mif\u001b[0m \u001b[0mcallback\u001b[0m\u001b[0;34m:\u001b[0m\u001b[0;34m\u001b[0m\u001b[0;34m\u001b[0m\u001b[0m\n\u001b[1;32m    203\u001b[0m             \u001b[0mcallback\u001b[0m\u001b[0;34m(\u001b[0m\u001b[0mresult\u001b[0m\u001b[0;34m)\u001b[0m\u001b[0;34m\u001b[0m\u001b[0;34m\u001b[0m\u001b[0m\n",
            "\u001b[0;32m/usr/local/lib/python3.6/dist-packages/joblib/_parallel_backends.py\u001b[0m in \u001b[0;36m__init__\u001b[0;34m(self, batch)\u001b[0m\n\u001b[1;32m    580\u001b[0m         \u001b[0;31m# Don't delay the application, to avoid keeping the input\u001b[0m\u001b[0;34m\u001b[0m\u001b[0;34m\u001b[0m\u001b[0;34m\u001b[0m\u001b[0m\n\u001b[1;32m    581\u001b[0m         \u001b[0;31m# arguments in memory\u001b[0m\u001b[0;34m\u001b[0m\u001b[0;34m\u001b[0m\u001b[0;34m\u001b[0m\u001b[0m\n\u001b[0;32m--> 582\u001b[0;31m         \u001b[0mself\u001b[0m\u001b[0;34m.\u001b[0m\u001b[0mresults\u001b[0m \u001b[0;34m=\u001b[0m \u001b[0mbatch\u001b[0m\u001b[0;34m(\u001b[0m\u001b[0;34m)\u001b[0m\u001b[0;34m\u001b[0m\u001b[0;34m\u001b[0m\u001b[0m\n\u001b[0m\u001b[1;32m    583\u001b[0m \u001b[0;34m\u001b[0m\u001b[0m\n\u001b[1;32m    584\u001b[0m     \u001b[0;32mdef\u001b[0m \u001b[0mget\u001b[0m\u001b[0;34m(\u001b[0m\u001b[0mself\u001b[0m\u001b[0;34m)\u001b[0m\u001b[0;34m:\u001b[0m\u001b[0;34m\u001b[0m\u001b[0;34m\u001b[0m\u001b[0m\n",
            "\u001b[0;32m/usr/local/lib/python3.6/dist-packages/joblib/parallel.py\u001b[0m in \u001b[0;36m__call__\u001b[0;34m(self)\u001b[0m\n\u001b[1;32m    254\u001b[0m         \u001b[0;32mwith\u001b[0m \u001b[0mparallel_backend\u001b[0m\u001b[0;34m(\u001b[0m\u001b[0mself\u001b[0m\u001b[0;34m.\u001b[0m\u001b[0m_backend\u001b[0m\u001b[0;34m,\u001b[0m \u001b[0mn_jobs\u001b[0m\u001b[0;34m=\u001b[0m\u001b[0mself\u001b[0m\u001b[0;34m.\u001b[0m\u001b[0m_n_jobs\u001b[0m\u001b[0;34m)\u001b[0m\u001b[0;34m:\u001b[0m\u001b[0;34m\u001b[0m\u001b[0;34m\u001b[0m\u001b[0m\n\u001b[1;32m    255\u001b[0m             return [func(*args, **kwargs)\n\u001b[0;32m--> 256\u001b[0;31m                     for func, args, kwargs in self.items]\n\u001b[0m\u001b[1;32m    257\u001b[0m \u001b[0;34m\u001b[0m\u001b[0m\n\u001b[1;32m    258\u001b[0m     \u001b[0;32mdef\u001b[0m \u001b[0m__len__\u001b[0m\u001b[0;34m(\u001b[0m\u001b[0mself\u001b[0m\u001b[0;34m)\u001b[0m\u001b[0;34m:\u001b[0m\u001b[0;34m\u001b[0m\u001b[0;34m\u001b[0m\u001b[0m\n",
            "\u001b[0;32m/usr/local/lib/python3.6/dist-packages/joblib/parallel.py\u001b[0m in \u001b[0;36m<listcomp>\u001b[0;34m(.0)\u001b[0m\n\u001b[1;32m    254\u001b[0m         \u001b[0;32mwith\u001b[0m \u001b[0mparallel_backend\u001b[0m\u001b[0;34m(\u001b[0m\u001b[0mself\u001b[0m\u001b[0;34m.\u001b[0m\u001b[0m_backend\u001b[0m\u001b[0;34m,\u001b[0m \u001b[0mn_jobs\u001b[0m\u001b[0;34m=\u001b[0m\u001b[0mself\u001b[0m\u001b[0;34m.\u001b[0m\u001b[0m_n_jobs\u001b[0m\u001b[0;34m)\u001b[0m\u001b[0;34m:\u001b[0m\u001b[0;34m\u001b[0m\u001b[0;34m\u001b[0m\u001b[0m\n\u001b[1;32m    255\u001b[0m             return [func(*args, **kwargs)\n\u001b[0;32m--> 256\u001b[0;31m                     for func, args, kwargs in self.items]\n\u001b[0m\u001b[1;32m    257\u001b[0m \u001b[0;34m\u001b[0m\u001b[0m\n\u001b[1;32m    258\u001b[0m     \u001b[0;32mdef\u001b[0m \u001b[0m__len__\u001b[0m\u001b[0;34m(\u001b[0m\u001b[0mself\u001b[0m\u001b[0;34m)\u001b[0m\u001b[0;34m:\u001b[0m\u001b[0;34m\u001b[0m\u001b[0;34m\u001b[0m\u001b[0m\n",
            "\u001b[0;32m/usr/local/lib/python3.6/dist-packages/sklearn/model_selection/_validation.py\u001b[0m in \u001b[0;36m_fit_and_score\u001b[0;34m(estimator, X, y, scorer, train, test, verbose, parameters, fit_params, return_train_score, return_parameters, return_n_test_samples, return_times, return_estimator, error_score)\u001b[0m\n\u001b[1;32m    514\u001b[0m             \u001b[0mestimator\u001b[0m\u001b[0;34m.\u001b[0m\u001b[0mfit\u001b[0m\u001b[0;34m(\u001b[0m\u001b[0mX_train\u001b[0m\u001b[0;34m,\u001b[0m \u001b[0;34m**\u001b[0m\u001b[0mfit_params\u001b[0m\u001b[0;34m)\u001b[0m\u001b[0;34m\u001b[0m\u001b[0;34m\u001b[0m\u001b[0m\n\u001b[1;32m    515\u001b[0m         \u001b[0;32melse\u001b[0m\u001b[0;34m:\u001b[0m\u001b[0;34m\u001b[0m\u001b[0;34m\u001b[0m\u001b[0m\n\u001b[0;32m--> 516\u001b[0;31m             \u001b[0mestimator\u001b[0m\u001b[0;34m.\u001b[0m\u001b[0mfit\u001b[0m\u001b[0;34m(\u001b[0m\u001b[0mX_train\u001b[0m\u001b[0;34m,\u001b[0m \u001b[0my_train\u001b[0m\u001b[0;34m,\u001b[0m \u001b[0;34m**\u001b[0m\u001b[0mfit_params\u001b[0m\u001b[0;34m)\u001b[0m\u001b[0;34m\u001b[0m\u001b[0;34m\u001b[0m\u001b[0m\n\u001b[0m\u001b[1;32m    517\u001b[0m \u001b[0;34m\u001b[0m\u001b[0m\n\u001b[1;32m    518\u001b[0m     \u001b[0;32mexcept\u001b[0m \u001b[0mException\u001b[0m \u001b[0;32mas\u001b[0m \u001b[0me\u001b[0m\u001b[0;34m:\u001b[0m\u001b[0;34m\u001b[0m\u001b[0;34m\u001b[0m\u001b[0m\n",
            "\u001b[0;32m/usr/local/lib/python3.6/dist-packages/keras/wrappers/scikit_learn.py\u001b[0m in \u001b[0;36mfit\u001b[0;34m(self, x, y, **kwargs)\u001b[0m\n\u001b[1;32m    150\u001b[0m         \u001b[0mfit_args\u001b[0m\u001b[0;34m.\u001b[0m\u001b[0mupdate\u001b[0m\u001b[0;34m(\u001b[0m\u001b[0mkwargs\u001b[0m\u001b[0;34m)\u001b[0m\u001b[0;34m\u001b[0m\u001b[0;34m\u001b[0m\u001b[0m\n\u001b[1;32m    151\u001b[0m \u001b[0;34m\u001b[0m\u001b[0m\n\u001b[0;32m--> 152\u001b[0;31m         \u001b[0mhistory\u001b[0m \u001b[0;34m=\u001b[0m \u001b[0mself\u001b[0m\u001b[0;34m.\u001b[0m\u001b[0mmodel\u001b[0m\u001b[0;34m.\u001b[0m\u001b[0mfit\u001b[0m\u001b[0;34m(\u001b[0m\u001b[0mx\u001b[0m\u001b[0;34m,\u001b[0m \u001b[0my\u001b[0m\u001b[0;34m,\u001b[0m \u001b[0;34m**\u001b[0m\u001b[0mfit_args\u001b[0m\u001b[0;34m)\u001b[0m\u001b[0;34m\u001b[0m\u001b[0;34m\u001b[0m\u001b[0m\n\u001b[0m\u001b[1;32m    153\u001b[0m \u001b[0;34m\u001b[0m\u001b[0m\n\u001b[1;32m    154\u001b[0m         \u001b[0;32mreturn\u001b[0m \u001b[0mhistory\u001b[0m\u001b[0;34m\u001b[0m\u001b[0;34m\u001b[0m\u001b[0m\n",
            "\u001b[0;32m/usr/local/lib/python3.6/dist-packages/keras/engine/training.py\u001b[0m in \u001b[0;36mfit\u001b[0;34m(self, x, y, batch_size, epochs, verbose, callbacks, validation_split, validation_data, shuffle, class_weight, sample_weight, initial_epoch, steps_per_epoch, validation_steps, validation_freq, max_queue_size, workers, use_multiprocessing, **kwargs)\u001b[0m\n\u001b[1;32m   1176\u001b[0m                                         \u001b[0msteps_per_epoch\u001b[0m\u001b[0;34m=\u001b[0m\u001b[0msteps_per_epoch\u001b[0m\u001b[0;34m,\u001b[0m\u001b[0;34m\u001b[0m\u001b[0;34m\u001b[0m\u001b[0m\n\u001b[1;32m   1177\u001b[0m                                         \u001b[0mvalidation_steps\u001b[0m\u001b[0;34m=\u001b[0m\u001b[0mvalidation_steps\u001b[0m\u001b[0;34m,\u001b[0m\u001b[0;34m\u001b[0m\u001b[0;34m\u001b[0m\u001b[0m\n\u001b[0;32m-> 1178\u001b[0;31m                                         validation_freq=validation_freq)\n\u001b[0m\u001b[1;32m   1179\u001b[0m \u001b[0;34m\u001b[0m\u001b[0m\n\u001b[1;32m   1180\u001b[0m     def evaluate(self,\n",
            "\u001b[0;32m/usr/local/lib/python3.6/dist-packages/keras/engine/training_arrays.py\u001b[0m in \u001b[0;36mfit_loop\u001b[0;34m(model, fit_function, fit_inputs, out_labels, batch_size, epochs, verbose, callbacks, val_function, val_inputs, shuffle, callback_metrics, initial_epoch, steps_per_epoch, validation_steps, validation_freq)\u001b[0m\n\u001b[1;32m    202\u001b[0m                     \u001b[0mins_batch\u001b[0m\u001b[0;34m[\u001b[0m\u001b[0mi\u001b[0m\u001b[0;34m]\u001b[0m \u001b[0;34m=\u001b[0m \u001b[0mins_batch\u001b[0m\u001b[0;34m[\u001b[0m\u001b[0mi\u001b[0m\u001b[0;34m]\u001b[0m\u001b[0;34m.\u001b[0m\u001b[0mtoarray\u001b[0m\u001b[0;34m(\u001b[0m\u001b[0;34m)\u001b[0m\u001b[0;34m\u001b[0m\u001b[0;34m\u001b[0m\u001b[0m\n\u001b[1;32m    203\u001b[0m \u001b[0;34m\u001b[0m\u001b[0m\n\u001b[0;32m--> 204\u001b[0;31m                 \u001b[0mouts\u001b[0m \u001b[0;34m=\u001b[0m \u001b[0mfit_function\u001b[0m\u001b[0;34m(\u001b[0m\u001b[0mins_batch\u001b[0m\u001b[0;34m)\u001b[0m\u001b[0;34m\u001b[0m\u001b[0;34m\u001b[0m\u001b[0m\n\u001b[0m\u001b[1;32m    205\u001b[0m                 \u001b[0mouts\u001b[0m \u001b[0;34m=\u001b[0m \u001b[0mto_list\u001b[0m\u001b[0;34m(\u001b[0m\u001b[0mouts\u001b[0m\u001b[0;34m)\u001b[0m\u001b[0;34m\u001b[0m\u001b[0;34m\u001b[0m\u001b[0m\n\u001b[1;32m    206\u001b[0m                 \u001b[0;32mfor\u001b[0m \u001b[0ml\u001b[0m\u001b[0;34m,\u001b[0m \u001b[0mo\u001b[0m \u001b[0;32min\u001b[0m \u001b[0mzip\u001b[0m\u001b[0;34m(\u001b[0m\u001b[0mout_labels\u001b[0m\u001b[0;34m,\u001b[0m \u001b[0mouts\u001b[0m\u001b[0;34m)\u001b[0m\u001b[0;34m:\u001b[0m\u001b[0;34m\u001b[0m\u001b[0;34m\u001b[0m\u001b[0m\n",
            "\u001b[0;32m/usr/local/lib/python3.6/dist-packages/keras/backend/tensorflow_backend.py\u001b[0m in \u001b[0;36m__call__\u001b[0;34m(self, inputs)\u001b[0m\n\u001b[1;32m   2977\u001b[0m                     \u001b[0;32mreturn\u001b[0m \u001b[0mself\u001b[0m\u001b[0;34m.\u001b[0m\u001b[0m_legacy_call\u001b[0m\u001b[0;34m(\u001b[0m\u001b[0minputs\u001b[0m\u001b[0;34m)\u001b[0m\u001b[0;34m\u001b[0m\u001b[0;34m\u001b[0m\u001b[0m\n\u001b[1;32m   2978\u001b[0m \u001b[0;34m\u001b[0m\u001b[0m\n\u001b[0;32m-> 2979\u001b[0;31m             \u001b[0;32mreturn\u001b[0m \u001b[0mself\u001b[0m\u001b[0;34m.\u001b[0m\u001b[0m_call\u001b[0m\u001b[0;34m(\u001b[0m\u001b[0minputs\u001b[0m\u001b[0;34m)\u001b[0m\u001b[0;34m\u001b[0m\u001b[0;34m\u001b[0m\u001b[0m\n\u001b[0m\u001b[1;32m   2980\u001b[0m         \u001b[0;32melse\u001b[0m\u001b[0;34m:\u001b[0m\u001b[0;34m\u001b[0m\u001b[0;34m\u001b[0m\u001b[0m\n\u001b[1;32m   2981\u001b[0m             \u001b[0;32mif\u001b[0m \u001b[0mpy_any\u001b[0m\u001b[0;34m(\u001b[0m\u001b[0mis_tensor\u001b[0m\u001b[0;34m(\u001b[0m\u001b[0mx\u001b[0m\u001b[0;34m)\u001b[0m \u001b[0;32mfor\u001b[0m \u001b[0mx\u001b[0m \u001b[0;32min\u001b[0m \u001b[0minputs\u001b[0m\u001b[0;34m)\u001b[0m\u001b[0;34m:\u001b[0m\u001b[0;34m\u001b[0m\u001b[0;34m\u001b[0m\u001b[0m\n",
            "\u001b[0;32m/usr/local/lib/python3.6/dist-packages/keras/backend/tensorflow_backend.py\u001b[0m in \u001b[0;36m_call\u001b[0;34m(self, inputs)\u001b[0m\n\u001b[1;32m   2935\u001b[0m             \u001b[0mfetched\u001b[0m \u001b[0;34m=\u001b[0m \u001b[0mself\u001b[0m\u001b[0;34m.\u001b[0m\u001b[0m_callable_fn\u001b[0m\u001b[0;34m(\u001b[0m\u001b[0;34m*\u001b[0m\u001b[0marray_vals\u001b[0m\u001b[0;34m,\u001b[0m \u001b[0mrun_metadata\u001b[0m\u001b[0;34m=\u001b[0m\u001b[0mself\u001b[0m\u001b[0;34m.\u001b[0m\u001b[0mrun_metadata\u001b[0m\u001b[0;34m)\u001b[0m\u001b[0;34m\u001b[0m\u001b[0;34m\u001b[0m\u001b[0m\n\u001b[1;32m   2936\u001b[0m         \u001b[0;32melse\u001b[0m\u001b[0;34m:\u001b[0m\u001b[0;34m\u001b[0m\u001b[0;34m\u001b[0m\u001b[0m\n\u001b[0;32m-> 2937\u001b[0;31m             \u001b[0mfetched\u001b[0m \u001b[0;34m=\u001b[0m \u001b[0mself\u001b[0m\u001b[0;34m.\u001b[0m\u001b[0m_callable_fn\u001b[0m\u001b[0;34m(\u001b[0m\u001b[0;34m*\u001b[0m\u001b[0marray_vals\u001b[0m\u001b[0;34m)\u001b[0m\u001b[0;34m\u001b[0m\u001b[0;34m\u001b[0m\u001b[0m\n\u001b[0m\u001b[1;32m   2938\u001b[0m         \u001b[0;32mreturn\u001b[0m \u001b[0mfetched\u001b[0m\u001b[0;34m[\u001b[0m\u001b[0;34m:\u001b[0m\u001b[0mlen\u001b[0m\u001b[0;34m(\u001b[0m\u001b[0mself\u001b[0m\u001b[0;34m.\u001b[0m\u001b[0moutputs\u001b[0m\u001b[0;34m)\u001b[0m\u001b[0;34m]\u001b[0m\u001b[0;34m\u001b[0m\u001b[0;34m\u001b[0m\u001b[0m\n\u001b[1;32m   2939\u001b[0m \u001b[0;34m\u001b[0m\u001b[0m\n",
            "\u001b[0;32m/usr/local/lib/python3.6/dist-packages/tensorflow_core/python/client/session.py\u001b[0m in \u001b[0;36m__call__\u001b[0;34m(self, *args, **kwargs)\u001b[0m\n\u001b[1;32m   1470\u001b[0m         ret = tf_session.TF_SessionRunCallable(self._session._session,\n\u001b[1;32m   1471\u001b[0m                                                \u001b[0mself\u001b[0m\u001b[0;34m.\u001b[0m\u001b[0m_handle\u001b[0m\u001b[0;34m,\u001b[0m \u001b[0margs\u001b[0m\u001b[0;34m,\u001b[0m\u001b[0;34m\u001b[0m\u001b[0;34m\u001b[0m\u001b[0m\n\u001b[0;32m-> 1472\u001b[0;31m                                                run_metadata_ptr)\n\u001b[0m\u001b[1;32m   1473\u001b[0m         \u001b[0;32mif\u001b[0m \u001b[0mrun_metadata\u001b[0m\u001b[0;34m:\u001b[0m\u001b[0;34m\u001b[0m\u001b[0;34m\u001b[0m\u001b[0m\n\u001b[1;32m   1474\u001b[0m           \u001b[0mproto_data\u001b[0m \u001b[0;34m=\u001b[0m \u001b[0mtf_session\u001b[0m\u001b[0;34m.\u001b[0m\u001b[0mTF_GetBuffer\u001b[0m\u001b[0;34m(\u001b[0m\u001b[0mrun_metadata_ptr\u001b[0m\u001b[0;34m)\u001b[0m\u001b[0;34m\u001b[0m\u001b[0;34m\u001b[0m\u001b[0m\n",
            "\u001b[0;31mKeyboardInterrupt\u001b[0m: "
          ]
        }
      ]
    },
    {
      "cell_type": "code",
      "metadata": {
        "id": "UveS6kvkNAOB",
        "colab_type": "code",
        "colab": {}
      },
      "source": [
        "estimators = []\n",
        "estimators.append(('standardize', StandardScaler()))\n",
        "estimators.append(('mlp', KerasRegressor(build_fn=larger_model, epochs=50, batch_size=5, verbose=0)))\n",
        "pipeline = Pipeline(estimators)\n",
        "kfold = KFold(n_splits=10)\n",
        "results = cross_val_score(pipeline, x_act_train, y_act_train, cv=kfold)\n",
        "print(\"Larger: %.2f (%.2f) MSE\" % (results.mean(), sqrt(results.std())))"
      ],
      "execution_count": 0,
      "outputs": []
    },
    {
      "cell_type": "code",
      "metadata": {
        "id": "OMtkapnloPFD",
        "colab_type": "code",
        "colab": {}
      },
      "source": [
        "#####neural network\n",
        "from keras.callbacks import ModelCheckpoint\n",
        "from keras.models import Sequential\n",
        "from keras.layers import Dense, Activation, Flatten\n",
        "from sklearn.model_selection import train_test_split\n",
        "from sklearn.ensemble import RandomForestRegressor\n",
        "from sklearn.metrics import mean_absolute_error \n",
        "from matplotlib import pyplot as plt\n",
        "import seaborn as sb\n",
        "import matplotlib.pyplot as plt\n",
        "import pandas as pd\n",
        "import numpy as np\n",
        "import warnings \n",
        "warnings.filterwarnings('ignore')\n",
        "warnings.filterwarnings('ignore', category=DeprecationWarning)\n",
        "from xgboost import XGBRegressor"
      ],
      "execution_count": 0,
      "outputs": []
    },
    {
      "cell_type": "code",
      "metadata": {
        "id": "vM-Cn4Ekov-F",
        "colab_type": "code",
        "colab": {}
      },
      "source": [
        "def modeel():\n",
        "  NN_model = Sequential()\n",
        "\n",
        "  # The Input Layer :\n",
        "  NN_model.add(Dense(100, kernel_initializer='normal',input_dim = x_act_train.shape[1], activation='relu'))\n",
        "\n",
        "  # The Hidden Layers :\n",
        "  NN_model.add(Dense(300, kernel_initializer='normal',activation='relu'))\n",
        "  NN_model.add(Dense(300, kernel_initializer='normal',activation='relu'))\n",
        "  NN_model.add(Dense(300, kernel_initializer='normal',activation='relu'))\n",
        "\n",
        "  # The Output Layer :\n",
        "  NN_model.add(Dense(1, kernel_initializer='normal',activation='linear'))\n",
        "\n",
        "  # Compile the network :\n",
        "  NN_model.compile(loss='mean_absolute_error', optimizer='adam', metrics=['mean_absolute_error'])\n",
        "  return NN_model"
      ],
      "execution_count": 0,
      "outputs": []
    },
    {
      "cell_type": "code",
      "metadata": {
        "id": "-4R-iuzYpRX1",
        "colab_type": "code",
        "colab": {}
      },
      "source": [
        "checkpoint_name = 'Weights-{epoch:03d}--{val_loss:.5f}.hdf5' \n",
        "checkpoint = ModelCheckpoint(checkpoint_name, monitor='val_loss', verbose = 1, save_best_only = True, mode ='auto')\n",
        "callbacks_list = [checkpoint]"
      ],
      "execution_count": 0,
      "outputs": []
    },
    {
      "cell_type": "code",
      "metadata": {
        "id": "1XBnVypmYikX",
        "colab_type": "code",
        "colab": {}
      },
      "source": [
        "model = NN_model"
      ],
      "execution_count": 0,
      "outputs": []
    },
    {
      "cell_type": "code",
      "metadata": {
        "id": "jTTIyOnzpcmX",
        "colab_type": "code",
        "outputId": "96091b93-af22-46ec-d3ad-73d7bd1dca37",
        "colab": {
          "base_uri": "https://localhost:8080/",
          "height": 1000
        }
      },
      "source": [
        "model.fit(x_act_train, y_act_train, epochs=500, batch_size=32, validation_split = 0.2, callbacks=callbacks_list)\n"
      ],
      "execution_count": 0,
      "outputs": [
        {
          "output_type": "stream",
          "text": [
            "Train on 16960 samples, validate on 4241 samples\n",
            "Epoch 1/500\n",
            "16960/16960 [==============================] - 3s 184us/step - loss: 809.2521 - mean_absolute_error: 809.2521 - val_loss: 749.5694 - val_mean_absolute_error: 749.5694\n",
            "\n",
            "Epoch 00001: val_loss improved from inf to 749.56940, saving model to Weights-001--749.56940.hdf5\n",
            "Epoch 2/500\n",
            "16960/16960 [==============================] - 2s 112us/step - loss: 725.4220 - mean_absolute_error: 725.4220 - val_loss: 660.9721 - val_mean_absolute_error: 660.9721\n",
            "\n",
            "Epoch 00002: val_loss improved from 749.56940 to 660.97212, saving model to Weights-002--660.97212.hdf5\n",
            "Epoch 3/500\n",
            "16960/16960 [==============================] - 2s 113us/step - loss: 649.8710 - mean_absolute_error: 649.8710 - val_loss: 664.8095 - val_mean_absolute_error: 664.8095\n",
            "\n",
            "Epoch 00003: val_loss did not improve from 660.97212\n",
            "Epoch 4/500\n",
            "16960/16960 [==============================] - 2s 114us/step - loss: 619.0242 - mean_absolute_error: 619.0242 - val_loss: 563.2596 - val_mean_absolute_error: 563.2596\n",
            "\n",
            "Epoch 00004: val_loss improved from 660.97212 to 563.25958, saving model to Weights-004--563.25958.hdf5\n",
            "Epoch 5/500\n",
            "16960/16960 [==============================] - 2s 113us/step - loss: 587.3006 - mean_absolute_error: 587.3006 - val_loss: 546.0125 - val_mean_absolute_error: 546.0125\n",
            "\n",
            "Epoch 00005: val_loss improved from 563.25958 to 546.01254, saving model to Weights-005--546.01254.hdf5\n",
            "Epoch 6/500\n",
            "16960/16960 [==============================] - 2s 114us/step - loss: 580.7304 - mean_absolute_error: 580.7304 - val_loss: 537.8994 - val_mean_absolute_error: 537.8994\n",
            "\n",
            "Epoch 00006: val_loss improved from 546.01254 to 537.89938, saving model to Weights-006--537.89938.hdf5\n",
            "Epoch 7/500\n",
            "16960/16960 [==============================] - 2s 115us/step - loss: 571.8957 - mean_absolute_error: 571.8957 - val_loss: 536.2408 - val_mean_absolute_error: 536.2408\n",
            "\n",
            "Epoch 00007: val_loss improved from 537.89938 to 536.24085, saving model to Weights-007--536.24085.hdf5\n",
            "Epoch 8/500\n",
            "16960/16960 [==============================] - 2s 115us/step - loss: 570.7806 - mean_absolute_error: 570.7806 - val_loss: 573.5297 - val_mean_absolute_error: 573.5297\n",
            "\n",
            "Epoch 00008: val_loss did not improve from 536.24085\n",
            "Epoch 9/500\n",
            "16960/16960 [==============================] - 2s 113us/step - loss: 560.0438 - mean_absolute_error: 560.0438 - val_loss: 613.0345 - val_mean_absolute_error: 613.0345\n",
            "\n",
            "Epoch 00009: val_loss did not improve from 536.24085\n",
            "Epoch 10/500\n",
            "16960/16960 [==============================] - 2s 114us/step - loss: 564.4372 - mean_absolute_error: 564.4372 - val_loss: 571.6525 - val_mean_absolute_error: 571.6525\n",
            "\n",
            "Epoch 00010: val_loss did not improve from 536.24085\n",
            "Epoch 11/500\n",
            "16960/16960 [==============================] - 2s 114us/step - loss: 568.1817 - mean_absolute_error: 568.1817 - val_loss: 543.2175 - val_mean_absolute_error: 543.2175\n",
            "\n",
            "Epoch 00011: val_loss did not improve from 536.24085\n",
            "Epoch 12/500\n",
            "16960/16960 [==============================] - 2s 116us/step - loss: 563.0997 - mean_absolute_error: 563.0997 - val_loss: 600.1187 - val_mean_absolute_error: 600.1187\n",
            "\n",
            "Epoch 00012: val_loss did not improve from 536.24085\n",
            "Epoch 13/500\n",
            "16960/16960 [==============================] - 2s 114us/step - loss: 562.9724 - mean_absolute_error: 562.9724 - val_loss: 604.2638 - val_mean_absolute_error: 604.2638\n",
            "\n",
            "Epoch 00013: val_loss did not improve from 536.24085\n",
            "Epoch 14/500\n",
            "16960/16960 [==============================] - 2s 118us/step - loss: 564.7641 - mean_absolute_error: 564.7641 - val_loss: 533.6900 - val_mean_absolute_error: 533.6900\n",
            "\n",
            "Epoch 00014: val_loss improved from 536.24085 to 533.68999, saving model to Weights-014--533.68999.hdf5\n",
            "Epoch 15/500\n",
            "16960/16960 [==============================] - 2s 115us/step - loss: 558.5604 - mean_absolute_error: 558.5604 - val_loss: 561.4139 - val_mean_absolute_error: 561.4139\n",
            "\n",
            "Epoch 00015: val_loss did not improve from 533.68999\n",
            "Epoch 16/500\n",
            "16960/16960 [==============================] - 2s 121us/step - loss: 555.7677 - mean_absolute_error: 555.7677 - val_loss: 559.5767 - val_mean_absolute_error: 559.5767\n",
            "\n",
            "Epoch 00016: val_loss did not improve from 533.68999\n",
            "Epoch 17/500\n",
            "16960/16960 [==============================] - 2s 120us/step - loss: 560.9464 - mean_absolute_error: 560.9464 - val_loss: 531.2282 - val_mean_absolute_error: 531.2282\n",
            "\n",
            "Epoch 00017: val_loss improved from 533.68999 to 531.22824, saving model to Weights-017--531.22824.hdf5\n",
            "Epoch 18/500\n",
            "16960/16960 [==============================] - 2s 120us/step - loss: 561.6514 - mean_absolute_error: 561.6514 - val_loss: 551.2048 - val_mean_absolute_error: 551.2048\n",
            "\n",
            "Epoch 00018: val_loss did not improve from 531.22824\n",
            "Epoch 19/500\n",
            "16960/16960 [==============================] - 2s 118us/step - loss: 558.6705 - mean_absolute_error: 558.6705 - val_loss: 536.9055 - val_mean_absolute_error: 536.9055\n",
            "\n",
            "Epoch 00019: val_loss did not improve from 531.22824\n",
            "Epoch 20/500\n",
            "16960/16960 [==============================] - 2s 116us/step - loss: 553.9410 - mean_absolute_error: 553.9410 - val_loss: 586.0480 - val_mean_absolute_error: 586.0480\n",
            "\n",
            "Epoch 00020: val_loss did not improve from 531.22824\n",
            "Epoch 21/500\n",
            "16960/16960 [==============================] - 2s 116us/step - loss: 553.5337 - mean_absolute_error: 553.5337 - val_loss: 551.4995 - val_mean_absolute_error: 551.4995\n",
            "\n",
            "Epoch 00021: val_loss did not improve from 531.22824\n",
            "Epoch 22/500\n",
            "16960/16960 [==============================] - 2s 113us/step - loss: 556.9932 - mean_absolute_error: 556.9932 - val_loss: 532.8894 - val_mean_absolute_error: 532.8894\n",
            "\n",
            "Epoch 00022: val_loss did not improve from 531.22824\n",
            "Epoch 23/500\n",
            "16960/16960 [==============================] - 2s 117us/step - loss: 556.8900 - mean_absolute_error: 556.8900 - val_loss: 539.2452 - val_mean_absolute_error: 539.2452\n",
            "\n",
            "Epoch 00023: val_loss did not improve from 531.22824\n",
            "Epoch 24/500\n",
            "16960/16960 [==============================] - 2s 123us/step - loss: 556.1709 - mean_absolute_error: 556.1709 - val_loss: 549.0354 - val_mean_absolute_error: 549.0354\n",
            "\n",
            "Epoch 00024: val_loss did not improve from 531.22824\n",
            "Epoch 25/500\n",
            "16960/16960 [==============================] - 2s 116us/step - loss: 551.9426 - mean_absolute_error: 551.9426 - val_loss: 555.3345 - val_mean_absolute_error: 555.3345\n",
            "\n",
            "Epoch 00025: val_loss did not improve from 531.22824\n",
            "Epoch 26/500\n",
            "16960/16960 [==============================] - 2s 118us/step - loss: 551.6324 - mean_absolute_error: 551.6324 - val_loss: 529.0468 - val_mean_absolute_error: 529.0468\n",
            "\n",
            "Epoch 00026: val_loss improved from 531.22824 to 529.04684, saving model to Weights-026--529.04684.hdf5\n",
            "Epoch 27/500\n",
            "16960/16960 [==============================] - 2s 119us/step - loss: 552.9005 - mean_absolute_error: 552.9005 - val_loss: 535.3342 - val_mean_absolute_error: 535.3342\n",
            "\n",
            "Epoch 00027: val_loss did not improve from 529.04684\n",
            "Epoch 28/500\n",
            "16960/16960 [==============================] - 2s 118us/step - loss: 549.0813 - mean_absolute_error: 549.0813 - val_loss: 539.8951 - val_mean_absolute_error: 539.8951\n",
            "\n",
            "Epoch 00028: val_loss did not improve from 529.04684\n",
            "Epoch 29/500\n",
            "16960/16960 [==============================] - 2s 117us/step - loss: 552.8915 - mean_absolute_error: 552.8915 - val_loss: 551.2371 - val_mean_absolute_error: 551.2371\n",
            "\n",
            "Epoch 00029: val_loss did not improve from 529.04684\n",
            "Epoch 30/500\n",
            "16960/16960 [==============================] - 2s 119us/step - loss: 556.8217 - mean_absolute_error: 556.8217 - val_loss: 531.8077 - val_mean_absolute_error: 531.8077\n",
            "\n",
            "Epoch 00030: val_loss did not improve from 529.04684\n",
            "Epoch 31/500\n",
            "16960/16960 [==============================] - 2s 122us/step - loss: 556.8897 - mean_absolute_error: 556.8897 - val_loss: 576.5341 - val_mean_absolute_error: 576.5341\n",
            "\n",
            "Epoch 00031: val_loss did not improve from 529.04684\n",
            "Epoch 32/500\n",
            "16960/16960 [==============================] - 2s 116us/step - loss: 554.9331 - mean_absolute_error: 554.9331 - val_loss: 560.8620 - val_mean_absolute_error: 560.8620\n",
            "\n",
            "Epoch 00032: val_loss did not improve from 529.04684\n",
            "Epoch 33/500\n",
            "16960/16960 [==============================] - 2s 116us/step - loss: 553.5752 - mean_absolute_error: 553.5752 - val_loss: 528.8965 - val_mean_absolute_error: 528.8965\n",
            "\n",
            "Epoch 00033: val_loss improved from 529.04684 to 528.89653, saving model to Weights-033--528.89653.hdf5\n",
            "Epoch 34/500\n",
            "16960/16960 [==============================] - 2s 118us/step - loss: 557.5139 - mean_absolute_error: 557.5139 - val_loss: 537.5386 - val_mean_absolute_error: 537.5386\n",
            "\n",
            "Epoch 00034: val_loss did not improve from 528.89653\n",
            "Epoch 35/500\n",
            "16960/16960 [==============================] - 2s 123us/step - loss: 551.0343 - mean_absolute_error: 551.0343 - val_loss: 528.2378 - val_mean_absolute_error: 528.2378\n",
            "\n",
            "Epoch 00035: val_loss improved from 528.89653 to 528.23778, saving model to Weights-035--528.23778.hdf5\n",
            "Epoch 36/500\n",
            "16960/16960 [==============================] - 2s 124us/step - loss: 549.9658 - mean_absolute_error: 549.9658 - val_loss: 543.3645 - val_mean_absolute_error: 543.3645\n",
            "\n",
            "Epoch 00036: val_loss did not improve from 528.23778\n",
            "Epoch 37/500\n",
            "16960/16960 [==============================] - 2s 122us/step - loss: 556.6774 - mean_absolute_error: 556.6774 - val_loss: 549.1851 - val_mean_absolute_error: 549.1851\n",
            "\n",
            "Epoch 00037: val_loss did not improve from 528.23778\n",
            "Epoch 38/500\n",
            "16960/16960 [==============================] - 2s 124us/step - loss: 553.4127 - mean_absolute_error: 553.4127 - val_loss: 528.6541 - val_mean_absolute_error: 528.6541\n",
            "\n",
            "Epoch 00038: val_loss did not improve from 528.23778\n",
            "Epoch 39/500\n",
            "16960/16960 [==============================] - 2s 128us/step - loss: 549.6416 - mean_absolute_error: 549.6416 - val_loss: 563.2675 - val_mean_absolute_error: 563.2675\n",
            "\n",
            "Epoch 00039: val_loss did not improve from 528.23778\n",
            "Epoch 40/500\n",
            "16960/16960 [==============================] - 2s 118us/step - loss: 554.6307 - mean_absolute_error: 554.6307 - val_loss: 528.7531 - val_mean_absolute_error: 528.7531\n",
            "\n",
            "Epoch 00040: val_loss did not improve from 528.23778\n",
            "Epoch 41/500\n",
            "16960/16960 [==============================] - 2s 118us/step - loss: 544.7119 - mean_absolute_error: 544.7119 - val_loss: 530.2436 - val_mean_absolute_error: 530.2436\n",
            "\n",
            "Epoch 00041: val_loss did not improve from 528.23778\n",
            "Epoch 42/500\n",
            "16960/16960 [==============================] - 2s 114us/step - loss: 554.1899 - mean_absolute_error: 554.1899 - val_loss: 558.4767 - val_mean_absolute_error: 558.4767\n",
            "\n",
            "Epoch 00042: val_loss did not improve from 528.23778\n",
            "Epoch 43/500\n",
            "16960/16960 [==============================] - 2s 118us/step - loss: 552.5733 - mean_absolute_error: 552.5733 - val_loss: 528.3442 - val_mean_absolute_error: 528.3442\n",
            "\n",
            "Epoch 00043: val_loss did not improve from 528.23778\n",
            "Epoch 44/500\n",
            "16960/16960 [==============================] - 2s 121us/step - loss: 554.1193 - mean_absolute_error: 554.1193 - val_loss: 533.6909 - val_mean_absolute_error: 533.6909\n",
            "\n",
            "Epoch 00044: val_loss did not improve from 528.23778\n",
            "Epoch 45/500\n",
            "16960/16960 [==============================] - 2s 117us/step - loss: 549.1379 - mean_absolute_error: 549.1379 - val_loss: 538.0232 - val_mean_absolute_error: 538.0232\n",
            "\n",
            "Epoch 00045: val_loss did not improve from 528.23778\n",
            "Epoch 46/500\n",
            "16960/16960 [==============================] - 2s 112us/step - loss: 548.6133 - mean_absolute_error: 548.6133 - val_loss: 534.6686 - val_mean_absolute_error: 534.6686\n",
            "\n",
            "Epoch 00046: val_loss did not improve from 528.23778\n",
            "Epoch 47/500\n",
            "16960/16960 [==============================] - 2s 116us/step - loss: 547.5044 - mean_absolute_error: 547.5044 - val_loss: 573.9513 - val_mean_absolute_error: 573.9513\n",
            "\n",
            "Epoch 00047: val_loss did not improve from 528.23778\n",
            "Epoch 48/500\n",
            "16960/16960 [==============================] - 2s 119us/step - loss: 550.1354 - mean_absolute_error: 550.1354 - val_loss: 534.4936 - val_mean_absolute_error: 534.4936\n",
            "\n",
            "Epoch 00048: val_loss did not improve from 528.23778\n",
            "Epoch 49/500\n",
            "16960/16960 [==============================] - 2s 120us/step - loss: 549.1090 - mean_absolute_error: 549.1090 - val_loss: 534.7409 - val_mean_absolute_error: 534.7409\n",
            "\n",
            "Epoch 00049: val_loss did not improve from 528.23778\n",
            "Epoch 50/500\n",
            "16960/16960 [==============================] - 2s 115us/step - loss: 550.4855 - mean_absolute_error: 550.4855 - val_loss: 547.5850 - val_mean_absolute_error: 547.5850\n",
            "\n",
            "Epoch 00050: val_loss did not improve from 528.23778\n",
            "Epoch 51/500\n",
            "16960/16960 [==============================] - 2s 118us/step - loss: 550.5033 - mean_absolute_error: 550.5033 - val_loss: 538.6243 - val_mean_absolute_error: 538.6243\n",
            "\n",
            "Epoch 00051: val_loss did not improve from 528.23778\n",
            "Epoch 52/500\n",
            "16960/16960 [==============================] - 2s 117us/step - loss: 547.0597 - mean_absolute_error: 547.0597 - val_loss: 577.5155 - val_mean_absolute_error: 577.5155\n",
            "\n",
            "Epoch 00052: val_loss did not improve from 528.23778\n",
            "Epoch 53/500\n",
            "16960/16960 [==============================] - 2s 116us/step - loss: 549.0512 - mean_absolute_error: 549.0512 - val_loss: 528.9263 - val_mean_absolute_error: 528.9263\n",
            "\n",
            "Epoch 00053: val_loss did not improve from 528.23778\n",
            "Epoch 54/500\n",
            "16960/16960 [==============================] - 2s 119us/step - loss: 545.8095 - mean_absolute_error: 545.8095 - val_loss: 530.6705 - val_mean_absolute_error: 530.6705\n",
            "\n",
            "Epoch 00054: val_loss did not improve from 528.23778\n",
            "Epoch 55/500\n",
            "16960/16960 [==============================] - 2s 116us/step - loss: 557.6254 - mean_absolute_error: 557.6254 - val_loss: 535.6044 - val_mean_absolute_error: 535.6044\n",
            "\n",
            "Epoch 00055: val_loss did not improve from 528.23778\n",
            "Epoch 56/500\n",
            "16960/16960 [==============================] - 2s 118us/step - loss: 548.7861 - mean_absolute_error: 548.7861 - val_loss: 527.5551 - val_mean_absolute_error: 527.5551\n",
            "\n",
            "Epoch 00056: val_loss improved from 528.23778 to 527.55509, saving model to Weights-056--527.55509.hdf5\n",
            "Epoch 57/500\n",
            "16960/16960 [==============================] - 2s 119us/step - loss: 550.1294 - mean_absolute_error: 550.1294 - val_loss: 542.5272 - val_mean_absolute_error: 542.5272\n",
            "\n",
            "Epoch 00057: val_loss did not improve from 527.55509\n",
            "Epoch 58/500\n",
            "16960/16960 [==============================] - 2s 117us/step - loss: 548.4795 - mean_absolute_error: 548.4795 - val_loss: 554.5184 - val_mean_absolute_error: 554.5184\n",
            "\n",
            "Epoch 00058: val_loss did not improve from 527.55509\n",
            "Epoch 59/500\n",
            "16960/16960 [==============================] - 2s 118us/step - loss: 548.3379 - mean_absolute_error: 548.3379 - val_loss: 529.0065 - val_mean_absolute_error: 529.0065\n",
            "\n",
            "Epoch 00059: val_loss did not improve from 527.55509\n",
            "Epoch 60/500\n",
            "16960/16960 [==============================] - 2s 119us/step - loss: 549.2106 - mean_absolute_error: 549.2106 - val_loss: 550.9777 - val_mean_absolute_error: 550.9777\n",
            "\n",
            "Epoch 00060: val_loss did not improve from 527.55509\n",
            "Epoch 61/500\n",
            "16960/16960 [==============================] - 2s 120us/step - loss: 547.7893 - mean_absolute_error: 547.7893 - val_loss: 526.5129 - val_mean_absolute_error: 526.5129\n",
            "\n",
            "Epoch 00061: val_loss improved from 527.55509 to 526.51294, saving model to Weights-061--526.51294.hdf5\n",
            "Epoch 62/500\n",
            "16960/16960 [==============================] - 2s 121us/step - loss: 547.7948 - mean_absolute_error: 547.7948 - val_loss: 552.7171 - val_mean_absolute_error: 552.7171\n",
            "\n",
            "Epoch 00062: val_loss did not improve from 526.51294\n",
            "Epoch 63/500\n",
            "16960/16960 [==============================] - 2s 121us/step - loss: 549.3556 - mean_absolute_error: 549.3556 - val_loss: 596.9604 - val_mean_absolute_error: 596.9604\n",
            "\n",
            "Epoch 00063: val_loss did not improve from 526.51294\n",
            "Epoch 64/500\n",
            "16960/16960 [==============================] - 2s 122us/step - loss: 551.0627 - mean_absolute_error: 551.0627 - val_loss: 532.0238 - val_mean_absolute_error: 532.0238\n",
            "\n",
            "Epoch 00064: val_loss did not improve from 526.51294\n",
            "Epoch 65/500\n",
            "16960/16960 [==============================] - 2s 120us/step - loss: 548.0680 - mean_absolute_error: 548.0680 - val_loss: 530.3048 - val_mean_absolute_error: 530.3048\n",
            "\n",
            "Epoch 00065: val_loss did not improve from 526.51294\n",
            "Epoch 66/500\n",
            "16960/16960 [==============================] - 2s 122us/step - loss: 548.3355 - mean_absolute_error: 548.3355 - val_loss: 527.6710 - val_mean_absolute_error: 527.6710\n",
            "\n",
            "Epoch 00066: val_loss did not improve from 526.51294\n",
            "Epoch 67/500\n",
            "16960/16960 [==============================] - 2s 119us/step - loss: 548.6257 - mean_absolute_error: 548.6257 - val_loss: 528.6160 - val_mean_absolute_error: 528.6160\n",
            "\n",
            "Epoch 00067: val_loss did not improve from 526.51294\n",
            "Epoch 68/500\n",
            "16960/16960 [==============================] - 2s 127us/step - loss: 544.9583 - mean_absolute_error: 544.9583 - val_loss: 582.1603 - val_mean_absolute_error: 582.1603\n",
            "\n",
            "Epoch 00068: val_loss did not improve from 526.51294\n",
            "Epoch 69/500\n",
            "16960/16960 [==============================] - 2s 122us/step - loss: 551.6098 - mean_absolute_error: 551.6098 - val_loss: 538.8756 - val_mean_absolute_error: 538.8756\n",
            "\n",
            "Epoch 00069: val_loss did not improve from 526.51294\n",
            "Epoch 70/500\n",
            "16960/16960 [==============================] - 2s 126us/step - loss: 547.9610 - mean_absolute_error: 547.9610 - val_loss: 528.0305 - val_mean_absolute_error: 528.0305\n",
            "\n",
            "Epoch 00070: val_loss did not improve from 526.51294\n",
            "Epoch 71/500\n",
            "16960/16960 [==============================] - 2s 119us/step - loss: 546.4990 - mean_absolute_error: 546.4990 - val_loss: 535.5834 - val_mean_absolute_error: 535.5834\n",
            "\n",
            "Epoch 00071: val_loss did not improve from 526.51294\n",
            "Epoch 72/500\n",
            "16960/16960 [==============================] - 2s 119us/step - loss: 553.4416 - mean_absolute_error: 553.4416 - val_loss: 556.5996 - val_mean_absolute_error: 556.5996\n",
            "\n",
            "Epoch 00072: val_loss did not improve from 526.51294\n",
            "Epoch 73/500\n",
            "16960/16960 [==============================] - 2s 121us/step - loss: 546.1790 - mean_absolute_error: 546.1790 - val_loss: 560.5515 - val_mean_absolute_error: 560.5515\n",
            "\n",
            "Epoch 00073: val_loss did not improve from 526.51294\n",
            "Epoch 74/500\n",
            "16960/16960 [==============================] - 2s 132us/step - loss: 549.0352 - mean_absolute_error: 549.0352 - val_loss: 531.9674 - val_mean_absolute_error: 531.9674\n",
            "\n",
            "Epoch 00074: val_loss did not improve from 526.51294\n",
            "Epoch 75/500\n",
            "16960/16960 [==============================] - 2s 129us/step - loss: 549.4372 - mean_absolute_error: 549.4372 - val_loss: 544.2852 - val_mean_absolute_error: 544.2852\n",
            "\n",
            "Epoch 00075: val_loss did not improve from 526.51294\n",
            "Epoch 76/500\n",
            "16960/16960 [==============================] - 2s 124us/step - loss: 548.8875 - mean_absolute_error: 548.8875 - val_loss: 561.5232 - val_mean_absolute_error: 561.5232\n",
            "\n",
            "Epoch 00076: val_loss did not improve from 526.51294\n",
            "Epoch 77/500\n",
            "16960/16960 [==============================] - 2s 119us/step - loss: 544.2575 - mean_absolute_error: 544.2575 - val_loss: 527.9375 - val_mean_absolute_error: 527.9375\n",
            "\n",
            "Epoch 00077: val_loss did not improve from 526.51294\n",
            "Epoch 78/500\n",
            "16960/16960 [==============================] - 2s 120us/step - loss: 544.2719 - mean_absolute_error: 544.2719 - val_loss: 587.6235 - val_mean_absolute_error: 587.6235\n",
            "\n",
            "Epoch 00078: val_loss did not improve from 526.51294\n",
            "Epoch 79/500\n",
            "16960/16960 [==============================] - 2s 119us/step - loss: 546.1537 - mean_absolute_error: 546.1537 - val_loss: 527.9301 - val_mean_absolute_error: 527.9301\n",
            "\n",
            "Epoch 00079: val_loss did not improve from 526.51294\n",
            "Epoch 80/500\n",
            "16960/16960 [==============================] - 2s 119us/step - loss: 543.0820 - mean_absolute_error: 543.0820 - val_loss: 537.6527 - val_mean_absolute_error: 537.6527\n",
            "\n",
            "Epoch 00080: val_loss did not improve from 526.51294\n",
            "Epoch 81/500\n",
            "16960/16960 [==============================] - 2s 119us/step - loss: 546.8527 - mean_absolute_error: 546.8527 - val_loss: 529.7744 - val_mean_absolute_error: 529.7744\n",
            "\n",
            "Epoch 00081: val_loss did not improve from 526.51294\n",
            "Epoch 82/500\n",
            "16960/16960 [==============================] - 2s 115us/step - loss: 547.1126 - mean_absolute_error: 547.1126 - val_loss: 534.9021 - val_mean_absolute_error: 534.9021\n",
            "\n",
            "Epoch 00082: val_loss did not improve from 526.51294\n",
            "Epoch 83/500\n",
            "16960/16960 [==============================] - 2s 121us/step - loss: 547.7852 - mean_absolute_error: 547.7852 - val_loss: 566.4588 - val_mean_absolute_error: 566.4588\n",
            "\n",
            "Epoch 00083: val_loss did not improve from 526.51294\n",
            "Epoch 84/500\n",
            "16960/16960 [==============================] - 2s 129us/step - loss: 548.2415 - mean_absolute_error: 548.2415 - val_loss: 560.0917 - val_mean_absolute_error: 560.0917\n",
            "\n",
            "Epoch 00084: val_loss did not improve from 526.51294\n",
            "Epoch 85/500\n",
            "16960/16960 [==============================] - 2s 140us/step - loss: 547.0859 - mean_absolute_error: 547.0859 - val_loss: 535.1558 - val_mean_absolute_error: 535.1558\n",
            "\n",
            "Epoch 00085: val_loss did not improve from 526.51294\n",
            "Epoch 86/500\n",
            "16960/16960 [==============================] - 2s 136us/step - loss: 544.8990 - mean_absolute_error: 544.8990 - val_loss: 594.4126 - val_mean_absolute_error: 594.4126\n",
            "\n",
            "Epoch 00086: val_loss did not improve from 526.51294\n",
            "Epoch 87/500\n",
            "16960/16960 [==============================] - 2s 136us/step - loss: 547.2369 - mean_absolute_error: 547.2369 - val_loss: 566.4442 - val_mean_absolute_error: 566.4442\n",
            "\n",
            "Epoch 00087: val_loss did not improve from 526.51294\n",
            "Epoch 88/500\n",
            "16960/16960 [==============================] - 2s 136us/step - loss: 545.0211 - mean_absolute_error: 545.0211 - val_loss: 530.5174 - val_mean_absolute_error: 530.5174\n",
            "\n",
            "Epoch 00088: val_loss did not improve from 526.51294\n",
            "Epoch 89/500\n",
            "16960/16960 [==============================] - 2s 138us/step - loss: 547.6693 - mean_absolute_error: 547.6693 - val_loss: 537.5113 - val_mean_absolute_error: 537.5113\n",
            "\n",
            "Epoch 00089: val_loss did not improve from 526.51294\n",
            "Epoch 90/500\n",
            "16960/16960 [==============================] - 2s 130us/step - loss: 547.4360 - mean_absolute_error: 547.4360 - val_loss: 567.0957 - val_mean_absolute_error: 567.0957\n",
            "\n",
            "Epoch 00090: val_loss did not improve from 526.51294\n",
            "Epoch 91/500\n",
            "16960/16960 [==============================] - 2s 129us/step - loss: 542.8900 - mean_absolute_error: 542.8900 - val_loss: 556.4148 - val_mean_absolute_error: 556.4148\n",
            "\n",
            "Epoch 00091: val_loss did not improve from 526.51294\n",
            "Epoch 92/500\n",
            "16960/16960 [==============================] - 2s 127us/step - loss: 546.6352 - mean_absolute_error: 546.6352 - val_loss: 527.6461 - val_mean_absolute_error: 527.6461\n",
            "\n",
            "Epoch 00092: val_loss did not improve from 526.51294\n",
            "Epoch 93/500\n",
            "16960/16960 [==============================] - 2s 129us/step - loss: 544.8844 - mean_absolute_error: 544.8844 - val_loss: 531.9535 - val_mean_absolute_error: 531.9535\n",
            "\n",
            "Epoch 00093: val_loss did not improve from 526.51294\n",
            "Epoch 94/500\n",
            "16960/16960 [==============================] - 2s 131us/step - loss: 543.5924 - mean_absolute_error: 543.5924 - val_loss: 532.7992 - val_mean_absolute_error: 532.7992\n",
            "\n",
            "Epoch 00094: val_loss did not improve from 526.51294\n",
            "Epoch 95/500\n",
            "16960/16960 [==============================] - 2s 127us/step - loss: 546.7585 - mean_absolute_error: 546.7585 - val_loss: 535.0771 - val_mean_absolute_error: 535.0771\n",
            "\n",
            "Epoch 00095: val_loss did not improve from 526.51294\n",
            "Epoch 96/500\n",
            "16960/16960 [==============================] - 2s 128us/step - loss: 544.2468 - mean_absolute_error: 544.2468 - val_loss: 532.5329 - val_mean_absolute_error: 532.5329\n",
            "\n",
            "Epoch 00096: val_loss did not improve from 526.51294\n",
            "Epoch 97/500\n",
            "16960/16960 [==============================] - 2s 128us/step - loss: 544.9865 - mean_absolute_error: 544.9865 - val_loss: 537.8765 - val_mean_absolute_error: 537.8765\n",
            "\n",
            "Epoch 00097: val_loss did not improve from 526.51294\n",
            "Epoch 98/500\n",
            "16960/16960 [==============================] - 2s 125us/step - loss: 545.9395 - mean_absolute_error: 545.9395 - val_loss: 529.1851 - val_mean_absolute_error: 529.1851\n",
            "\n",
            "Epoch 00098: val_loss did not improve from 526.51294\n",
            "Epoch 99/500\n",
            "16960/16960 [==============================] - 2s 128us/step - loss: 545.9572 - mean_absolute_error: 545.9572 - val_loss: 527.6931 - val_mean_absolute_error: 527.6931\n",
            "\n",
            "Epoch 00099: val_loss did not improve from 526.51294\n",
            "Epoch 100/500\n",
            "16960/16960 [==============================] - 2s 123us/step - loss: 542.8511 - mean_absolute_error: 542.8511 - val_loss: 528.1606 - val_mean_absolute_error: 528.1606\n",
            "\n",
            "Epoch 00100: val_loss did not improve from 526.51294\n",
            "Epoch 101/500\n",
            "16960/16960 [==============================] - 2s 124us/step - loss: 547.7355 - mean_absolute_error: 547.7355 - val_loss: 529.7048 - val_mean_absolute_error: 529.7048\n",
            "\n",
            "Epoch 00101: val_loss did not improve from 526.51294\n",
            "Epoch 102/500\n",
            "16960/16960 [==============================] - 2s 122us/step - loss: 543.6205 - mean_absolute_error: 543.6205 - val_loss: 538.2070 - val_mean_absolute_error: 538.2070\n",
            "\n",
            "Epoch 00102: val_loss did not improve from 526.51294\n",
            "Epoch 103/500\n",
            "16960/16960 [==============================] - 2s 129us/step - loss: 548.4322 - mean_absolute_error: 548.4322 - val_loss: 545.6110 - val_mean_absolute_error: 545.6110\n",
            "\n",
            "Epoch 00103: val_loss did not improve from 526.51294\n",
            "Epoch 104/500\n",
            "16960/16960 [==============================] - 2s 124us/step - loss: 541.3244 - mean_absolute_error: 541.3244 - val_loss: 545.6912 - val_mean_absolute_error: 545.6912\n",
            "\n",
            "Epoch 00104: val_loss did not improve from 526.51294\n",
            "Epoch 105/500\n",
            "16960/16960 [==============================] - 2s 122us/step - loss: 546.7338 - mean_absolute_error: 546.7338 - val_loss: 534.9138 - val_mean_absolute_error: 534.9138\n",
            "\n",
            "Epoch 00105: val_loss did not improve from 526.51294\n",
            "Epoch 106/500\n",
            "16960/16960 [==============================] - 2s 125us/step - loss: 542.6063 - mean_absolute_error: 542.6063 - val_loss: 553.4645 - val_mean_absolute_error: 553.4645\n",
            "\n",
            "Epoch 00106: val_loss did not improve from 526.51294\n",
            "Epoch 107/500\n",
            "16960/16960 [==============================] - 2s 126us/step - loss: 545.7290 - mean_absolute_error: 545.7290 - val_loss: 533.0734 - val_mean_absolute_error: 533.0734\n",
            "\n",
            "Epoch 00107: val_loss did not improve from 526.51294\n",
            "Epoch 108/500\n",
            "16960/16960 [==============================] - 2s 126us/step - loss: 544.6991 - mean_absolute_error: 544.6991 - val_loss: 554.2452 - val_mean_absolute_error: 554.2452\n",
            "\n",
            "Epoch 00108: val_loss did not improve from 526.51294\n",
            "Epoch 109/500\n",
            "16960/16960 [==============================] - 2s 124us/step - loss: 542.4299 - mean_absolute_error: 542.4299 - val_loss: 540.9531 - val_mean_absolute_error: 540.9531\n",
            "\n",
            "Epoch 00109: val_loss did not improve from 526.51294\n",
            "Epoch 110/500\n",
            "16960/16960 [==============================] - 2s 122us/step - loss: 542.0835 - mean_absolute_error: 542.0835 - val_loss: 545.9390 - val_mean_absolute_error: 545.9390\n",
            "\n",
            "Epoch 00110: val_loss did not improve from 526.51294\n",
            "Epoch 111/500\n",
            "16960/16960 [==============================] - 2s 127us/step - loss: 543.5400 - mean_absolute_error: 543.5400 - val_loss: 541.3621 - val_mean_absolute_error: 541.3621\n",
            "\n",
            "Epoch 00111: val_loss did not improve from 526.51294\n",
            "Epoch 112/500\n",
            "16960/16960 [==============================] - 2s 130us/step - loss: 542.2525 - mean_absolute_error: 542.2525 - val_loss: 531.2245 - val_mean_absolute_error: 531.2245\n",
            "\n",
            "Epoch 00112: val_loss did not improve from 526.51294\n",
            "Epoch 113/500\n",
            "16960/16960 [==============================] - 2s 136us/step - loss: 542.8930 - mean_absolute_error: 542.8930 - val_loss: 527.8338 - val_mean_absolute_error: 527.8338\n",
            "\n",
            "Epoch 00113: val_loss did not improve from 526.51294\n",
            "Epoch 114/500\n",
            "16960/16960 [==============================] - 2s 128us/step - loss: 541.5315 - mean_absolute_error: 541.5315 - val_loss: 539.9691 - val_mean_absolute_error: 539.9691\n",
            "\n",
            "Epoch 00114: val_loss did not improve from 526.51294\n",
            "Epoch 115/500\n",
            "16960/16960 [==============================] - 2s 130us/step - loss: 544.0717 - mean_absolute_error: 544.0717 - val_loss: 566.7835 - val_mean_absolute_error: 566.7835\n",
            "\n",
            "Epoch 00115: val_loss did not improve from 526.51294\n",
            "Epoch 116/500\n",
            "16960/16960 [==============================] - 2s 122us/step - loss: 543.2989 - mean_absolute_error: 543.2989 - val_loss: 533.4365 - val_mean_absolute_error: 533.4365\n",
            "\n",
            "Epoch 00116: val_loss did not improve from 526.51294\n",
            "Epoch 117/500\n",
            "16960/16960 [==============================] - 2s 128us/step - loss: 542.8790 - mean_absolute_error: 542.8790 - val_loss: 543.2307 - val_mean_absolute_error: 543.2307\n",
            "\n",
            "Epoch 00117: val_loss did not improve from 526.51294\n",
            "Epoch 118/500\n",
            "16960/16960 [==============================] - 2s 125us/step - loss: 544.6207 - mean_absolute_error: 544.6207 - val_loss: 528.1795 - val_mean_absolute_error: 528.1795\n",
            "\n",
            "Epoch 00118: val_loss did not improve from 526.51294\n",
            "Epoch 119/500\n",
            "16960/16960 [==============================] - 2s 122us/step - loss: 541.8828 - mean_absolute_error: 541.8828 - val_loss: 526.9366 - val_mean_absolute_error: 526.9366\n",
            "\n",
            "Epoch 00119: val_loss did not improve from 526.51294\n",
            "Epoch 120/500\n",
            "16960/16960 [==============================] - 2s 124us/step - loss: 543.7205 - mean_absolute_error: 543.7205 - val_loss: 543.3178 - val_mean_absolute_error: 543.3178\n",
            "\n",
            "Epoch 00120: val_loss did not improve from 526.51294\n",
            "Epoch 121/500\n",
            "16960/16960 [==============================] - 2s 119us/step - loss: 544.6387 - mean_absolute_error: 544.6387 - val_loss: 532.9551 - val_mean_absolute_error: 532.9551\n",
            "\n",
            "Epoch 00121: val_loss did not improve from 526.51294\n",
            "Epoch 122/500\n",
            "16960/16960 [==============================] - 2s 124us/step - loss: 542.2218 - mean_absolute_error: 542.2218 - val_loss: 532.7012 - val_mean_absolute_error: 532.7012\n",
            "\n",
            "Epoch 00122: val_loss did not improve from 526.51294\n",
            "Epoch 123/500\n",
            "16960/16960 [==============================] - 2s 121us/step - loss: 542.1252 - mean_absolute_error: 542.1252 - val_loss: 556.2539 - val_mean_absolute_error: 556.2539\n",
            "\n",
            "Epoch 00123: val_loss did not improve from 526.51294\n",
            "Epoch 124/500\n",
            "16960/16960 [==============================] - 2s 122us/step - loss: 543.2057 - mean_absolute_error: 543.2057 - val_loss: 542.4192 - val_mean_absolute_error: 542.4192\n",
            "\n",
            "Epoch 00124: val_loss did not improve from 526.51294\n",
            "Epoch 125/500\n",
            "16960/16960 [==============================] - 2s 123us/step - loss: 546.2679 - mean_absolute_error: 546.2679 - val_loss: 536.7711 - val_mean_absolute_error: 536.7711\n",
            "\n",
            "Epoch 00125: val_loss did not improve from 526.51294\n",
            "Epoch 126/500\n",
            "16960/16960 [==============================] - 2s 123us/step - loss: 541.6498 - mean_absolute_error: 541.6498 - val_loss: 526.9319 - val_mean_absolute_error: 526.9319\n",
            "\n",
            "Epoch 00126: val_loss did not improve from 526.51294\n",
            "Epoch 127/500\n",
            "16960/16960 [==============================] - 2s 124us/step - loss: 546.8657 - mean_absolute_error: 546.8657 - val_loss: 527.9523 - val_mean_absolute_error: 527.9523\n",
            "\n",
            "Epoch 00127: val_loss did not improve from 526.51294\n",
            "Epoch 128/500\n",
            "16960/16960 [==============================] - 2s 120us/step - loss: 545.8987 - mean_absolute_error: 545.8987 - val_loss: 542.1614 - val_mean_absolute_error: 542.1614\n",
            "\n",
            "Epoch 00128: val_loss did not improve from 526.51294\n",
            "Epoch 129/500\n",
            "16960/16960 [==============================] - 2s 122us/step - loss: 545.4678 - mean_absolute_error: 545.4678 - val_loss: 532.1080 - val_mean_absolute_error: 532.1080\n",
            "\n",
            "Epoch 00129: val_loss did not improve from 526.51294\n",
            "Epoch 130/500\n",
            "16960/16960 [==============================] - 2s 124us/step - loss: 542.5408 - mean_absolute_error: 542.5408 - val_loss: 526.8308 - val_mean_absolute_error: 526.8308\n",
            "\n",
            "Epoch 00130: val_loss did not improve from 526.51294\n",
            "Epoch 131/500\n",
            "16960/16960 [==============================] - 2s 125us/step - loss: 543.3051 - mean_absolute_error: 543.3051 - val_loss: 526.7781 - val_mean_absolute_error: 526.7781\n",
            "\n",
            "Epoch 00131: val_loss did not improve from 526.51294\n",
            "Epoch 132/500\n",
            "16960/16960 [==============================] - 2s 125us/step - loss: 542.9920 - mean_absolute_error: 542.9920 - val_loss: 556.5057 - val_mean_absolute_error: 556.5057\n",
            "\n",
            "Epoch 00132: val_loss did not improve from 526.51294\n",
            "Epoch 133/500\n",
            "16960/16960 [==============================] - 2s 122us/step - loss: 539.2542 - mean_absolute_error: 539.2542 - val_loss: 528.5804 - val_mean_absolute_error: 528.5804\n",
            "\n",
            "Epoch 00133: val_loss did not improve from 526.51294\n",
            "Epoch 134/500\n",
            "16960/16960 [==============================] - 2s 123us/step - loss: 540.6819 - mean_absolute_error: 540.6819 - val_loss: 526.8073 - val_mean_absolute_error: 526.8073\n",
            "\n",
            "Epoch 00134: val_loss did not improve from 526.51294\n",
            "Epoch 135/500\n",
            "16960/16960 [==============================] - 2s 119us/step - loss: 539.7767 - mean_absolute_error: 539.7767 - val_loss: 529.9779 - val_mean_absolute_error: 529.9779\n",
            "\n",
            "Epoch 00135: val_loss did not improve from 526.51294\n",
            "Epoch 136/500\n",
            "16960/16960 [==============================] - 2s 121us/step - loss: 540.3893 - mean_absolute_error: 540.3893 - val_loss: 539.3901 - val_mean_absolute_error: 539.3901\n",
            "\n",
            "Epoch 00136: val_loss did not improve from 526.51294\n",
            "Epoch 137/500\n",
            "16960/16960 [==============================] - 2s 121us/step - loss: 540.8344 - mean_absolute_error: 540.8344 - val_loss: 548.6694 - val_mean_absolute_error: 548.6694\n",
            "\n",
            "Epoch 00137: val_loss did not improve from 526.51294\n",
            "Epoch 138/500\n",
            "16960/16960 [==============================] - 2s 121us/step - loss: 543.5130 - mean_absolute_error: 543.5130 - val_loss: 537.3374 - val_mean_absolute_error: 537.3374\n",
            "\n",
            "Epoch 00138: val_loss did not improve from 526.51294\n",
            "Epoch 139/500\n",
            "16960/16960 [==============================] - 2s 124us/step - loss: 543.1265 - mean_absolute_error: 543.1265 - val_loss: 532.4215 - val_mean_absolute_error: 532.4215\n",
            "\n",
            "Epoch 00139: val_loss did not improve from 526.51294\n",
            "Epoch 140/500\n",
            "16960/16960 [==============================] - 2s 122us/step - loss: 542.0412 - mean_absolute_error: 542.0412 - val_loss: 584.4104 - val_mean_absolute_error: 584.4104\n",
            "\n",
            "Epoch 00140: val_loss did not improve from 526.51294\n",
            "Epoch 141/500\n",
            "16960/16960 [==============================] - 2s 121us/step - loss: 544.7192 - mean_absolute_error: 544.7192 - val_loss: 532.2726 - val_mean_absolute_error: 532.2726\n",
            "\n",
            "Epoch 00141: val_loss did not improve from 526.51294\n",
            "Epoch 142/500\n",
            "16960/16960 [==============================] - 2s 120us/step - loss: 539.6333 - mean_absolute_error: 539.6333 - val_loss: 541.4295 - val_mean_absolute_error: 541.4295\n",
            "\n",
            "Epoch 00142: val_loss did not improve from 526.51294\n",
            "Epoch 143/500\n",
            "16960/16960 [==============================] - 2s 121us/step - loss: 539.8374 - mean_absolute_error: 539.8374 - val_loss: 528.2749 - val_mean_absolute_error: 528.2749\n",
            "\n",
            "Epoch 00143: val_loss did not improve from 526.51294\n",
            "Epoch 144/500\n",
            "16960/16960 [==============================] - 2s 121us/step - loss: 539.7957 - mean_absolute_error: 539.7957 - val_loss: 540.2902 - val_mean_absolute_error: 540.2902\n",
            "\n",
            "Epoch 00144: val_loss did not improve from 526.51294\n",
            "Epoch 145/500\n",
            "16960/16960 [==============================] - 2s 124us/step - loss: 542.2311 - mean_absolute_error: 542.2311 - val_loss: 533.7137 - val_mean_absolute_error: 533.7137\n",
            "\n",
            "Epoch 00145: val_loss did not improve from 526.51294\n",
            "Epoch 146/500\n",
            "16960/16960 [==============================] - 2s 123us/step - loss: 542.2634 - mean_absolute_error: 542.2634 - val_loss: 528.8228 - val_mean_absolute_error: 528.8228\n",
            "\n",
            "Epoch 00146: val_loss did not improve from 526.51294\n",
            "Epoch 147/500\n",
            "16960/16960 [==============================] - 2s 123us/step - loss: 540.9396 - mean_absolute_error: 540.9396 - val_loss: 526.3701 - val_mean_absolute_error: 526.3701\n",
            "\n",
            "Epoch 00147: val_loss improved from 526.51294 to 526.37014, saving model to Weights-147--526.37014.hdf5\n",
            "Epoch 148/500\n",
            "16960/16960 [==============================] - 2s 124us/step - loss: 542.4331 - mean_absolute_error: 542.4331 - val_loss: 551.9471 - val_mean_absolute_error: 551.9471\n",
            "\n",
            "Epoch 00148: val_loss did not improve from 526.37014\n",
            "Epoch 149/500\n",
            "16960/16960 [==============================] - 2s 124us/step - loss: 541.2968 - mean_absolute_error: 541.2968 - val_loss: 532.6608 - val_mean_absolute_error: 532.6608\n",
            "\n",
            "Epoch 00149: val_loss did not improve from 526.37014\n",
            "Epoch 150/500\n",
            "16960/16960 [==============================] - 2s 123us/step - loss: 539.5731 - mean_absolute_error: 539.5731 - val_loss: 535.5654 - val_mean_absolute_error: 535.5654\n",
            "\n",
            "Epoch 00150: val_loss did not improve from 526.37014\n",
            "Epoch 151/500\n",
            "16960/16960 [==============================] - 2s 125us/step - loss: 542.5246 - mean_absolute_error: 542.5246 - val_loss: 542.8056 - val_mean_absolute_error: 542.8056\n",
            "\n",
            "Epoch 00151: val_loss did not improve from 526.37014\n",
            "Epoch 152/500\n",
            "16960/16960 [==============================] - 2s 124us/step - loss: 541.5067 - mean_absolute_error: 541.5067 - val_loss: 548.3310 - val_mean_absolute_error: 548.3310\n",
            "\n",
            "Epoch 00152: val_loss did not improve from 526.37014\n",
            "Epoch 153/500\n",
            "16960/16960 [==============================] - 2s 120us/step - loss: 540.0892 - mean_absolute_error: 540.0892 - val_loss: 530.1510 - val_mean_absolute_error: 530.1510\n",
            "\n",
            "Epoch 00153: val_loss did not improve from 526.37014\n",
            "Epoch 154/500\n",
            "16960/16960 [==============================] - 2s 122us/step - loss: 538.4657 - mean_absolute_error: 538.4657 - val_loss: 529.7370 - val_mean_absolute_error: 529.7370\n",
            "\n",
            "Epoch 00154: val_loss did not improve from 526.37014\n",
            "Epoch 155/500\n",
            "16960/16960 [==============================] - 2s 124us/step - loss: 542.6218 - mean_absolute_error: 542.6218 - val_loss: 534.0496 - val_mean_absolute_error: 534.0496\n",
            "\n",
            "Epoch 00155: val_loss did not improve from 526.37014\n",
            "Epoch 156/500\n",
            "16960/16960 [==============================] - 2s 120us/step - loss: 544.3539 - mean_absolute_error: 544.3539 - val_loss: 532.4346 - val_mean_absolute_error: 532.4346\n",
            "\n",
            "Epoch 00156: val_loss did not improve from 526.37014\n",
            "Epoch 157/500\n",
            "16960/16960 [==============================] - 2s 123us/step - loss: 541.6130 - mean_absolute_error: 541.6130 - val_loss: 529.4732 - val_mean_absolute_error: 529.4732\n",
            "\n",
            "Epoch 00157: val_loss did not improve from 526.37014\n",
            "Epoch 158/500\n",
            "16960/16960 [==============================] - 2s 125us/step - loss: 542.2754 - mean_absolute_error: 542.2754 - val_loss: 528.2736 - val_mean_absolute_error: 528.2736\n",
            "\n",
            "Epoch 00158: val_loss did not improve from 526.37014\n",
            "Epoch 159/500\n",
            "16960/16960 [==============================] - 2s 123us/step - loss: 541.3701 - mean_absolute_error: 541.3701 - val_loss: 541.4118 - val_mean_absolute_error: 541.4118\n",
            "\n",
            "Epoch 00159: val_loss did not improve from 526.37014\n",
            "Epoch 160/500\n",
            "16960/16960 [==============================] - 2s 125us/step - loss: 539.2691 - mean_absolute_error: 539.2691 - val_loss: 528.6786 - val_mean_absolute_error: 528.6786\n",
            "\n",
            "Epoch 00160: val_loss did not improve from 526.37014\n",
            "Epoch 161/500\n",
            "16960/16960 [==============================] - 2s 121us/step - loss: 537.4287 - mean_absolute_error: 537.4287 - val_loss: 533.3476 - val_mean_absolute_error: 533.3476\n",
            "\n",
            "Epoch 00161: val_loss did not improve from 526.37014\n",
            "Epoch 162/500\n",
            "16960/16960 [==============================] - 2s 118us/step - loss: 543.0763 - mean_absolute_error: 543.0763 - val_loss: 532.6359 - val_mean_absolute_error: 532.6359\n",
            "\n",
            "Epoch 00162: val_loss did not improve from 526.37014\n",
            "Epoch 163/500\n",
            "16960/16960 [==============================] - 2s 126us/step - loss: 540.0596 - mean_absolute_error: 540.0596 - val_loss: 535.1651 - val_mean_absolute_error: 535.1651\n",
            "\n",
            "Epoch 00163: val_loss did not improve from 526.37014\n",
            "Epoch 164/500\n",
            "16960/16960 [==============================] - 2s 126us/step - loss: 541.1535 - mean_absolute_error: 541.1535 - val_loss: 531.6616 - val_mean_absolute_error: 531.6616\n",
            "\n",
            "Epoch 00164: val_loss did not improve from 526.37014\n",
            "Epoch 165/500\n",
            "16960/16960 [==============================] - 2s 123us/step - loss: 541.0798 - mean_absolute_error: 541.0798 - val_loss: 527.8793 - val_mean_absolute_error: 527.8793\n",
            "\n",
            "Epoch 00165: val_loss did not improve from 526.37014\n",
            "Epoch 166/500\n",
            "16960/16960 [==============================] - 2s 122us/step - loss: 541.0085 - mean_absolute_error: 541.0085 - val_loss: 535.4217 - val_mean_absolute_error: 535.4217\n",
            "\n",
            "Epoch 00166: val_loss did not improve from 526.37014\n",
            "Epoch 167/500\n",
            "16960/16960 [==============================] - 2s 120us/step - loss: 542.2741 - mean_absolute_error: 542.2741 - val_loss: 528.8432 - val_mean_absolute_error: 528.8432\n",
            "\n",
            "Epoch 00167: val_loss did not improve from 526.37014\n",
            "Epoch 168/500\n",
            "16960/16960 [==============================] - 2s 118us/step - loss: 539.7047 - mean_absolute_error: 539.7047 - val_loss: 528.6984 - val_mean_absolute_error: 528.6984\n",
            "\n",
            "Epoch 00168: val_loss did not improve from 526.37014\n",
            "Epoch 169/500\n",
            "16960/16960 [==============================] - 2s 120us/step - loss: 540.3492 - mean_absolute_error: 540.3492 - val_loss: 536.4761 - val_mean_absolute_error: 536.4761\n",
            "\n",
            "Epoch 00169: val_loss did not improve from 526.37014\n",
            "Epoch 170/500\n",
            "16960/16960 [==============================] - 2s 119us/step - loss: 540.3740 - mean_absolute_error: 540.3740 - val_loss: 526.0561 - val_mean_absolute_error: 526.0561\n",
            "\n",
            "Epoch 00170: val_loss improved from 526.37014 to 526.05608, saving model to Weights-170--526.05608.hdf5\n",
            "Epoch 171/500\n",
            "16960/16960 [==============================] - 2s 119us/step - loss: 540.7891 - mean_absolute_error: 540.7891 - val_loss: 538.8658 - val_mean_absolute_error: 538.8658\n",
            "\n",
            "Epoch 00171: val_loss did not improve from 526.05608\n",
            "Epoch 172/500\n",
            "16960/16960 [==============================] - 2s 124us/step - loss: 538.9307 - mean_absolute_error: 538.9307 - val_loss: 549.3870 - val_mean_absolute_error: 549.3870\n",
            "\n",
            "Epoch 00172: val_loss did not improve from 526.05608\n",
            "Epoch 173/500\n",
            "16960/16960 [==============================] - 2s 119us/step - loss: 539.2967 - mean_absolute_error: 539.2967 - val_loss: 559.0678 - val_mean_absolute_error: 559.0678\n",
            "\n",
            "Epoch 00173: val_loss did not improve from 526.05608\n",
            "Epoch 174/500\n",
            "16960/16960 [==============================] - 2s 119us/step - loss: 539.4263 - mean_absolute_error: 539.4263 - val_loss: 544.0128 - val_mean_absolute_error: 544.0128\n",
            "\n",
            "Epoch 00174: val_loss did not improve from 526.05608\n",
            "Epoch 175/500\n",
            "16960/16960 [==============================] - 2s 121us/step - loss: 539.6741 - mean_absolute_error: 539.6741 - val_loss: 542.3321 - val_mean_absolute_error: 542.3321\n",
            "\n",
            "Epoch 00175: val_loss did not improve from 526.05608\n",
            "Epoch 176/500\n",
            "16960/16960 [==============================] - 2s 119us/step - loss: 539.8708 - mean_absolute_error: 539.8708 - val_loss: 541.0541 - val_mean_absolute_error: 541.0541\n",
            "\n",
            "Epoch 00176: val_loss did not improve from 526.05608\n",
            "Epoch 177/500\n",
            "16960/16960 [==============================] - 2s 118us/step - loss: 539.8861 - mean_absolute_error: 539.8861 - val_loss: 569.0793 - val_mean_absolute_error: 569.0793\n",
            "\n",
            "Epoch 00177: val_loss did not improve from 526.05608\n",
            "Epoch 178/500\n",
            "16960/16960 [==============================] - 2s 125us/step - loss: 537.7803 - mean_absolute_error: 537.7803 - val_loss: 531.1193 - val_mean_absolute_error: 531.1193\n",
            "\n",
            "Epoch 00178: val_loss did not improve from 526.05608\n",
            "Epoch 179/500\n",
            "16960/16960 [==============================] - 2s 124us/step - loss: 538.6153 - mean_absolute_error: 538.6153 - val_loss: 531.6988 - val_mean_absolute_error: 531.6988\n",
            "\n",
            "Epoch 00179: val_loss did not improve from 526.05608\n",
            "Epoch 180/500\n",
            "16960/16960 [==============================] - 2s 120us/step - loss: 539.9435 - mean_absolute_error: 539.9435 - val_loss: 533.8474 - val_mean_absolute_error: 533.8474\n",
            "\n",
            "Epoch 00180: val_loss did not improve from 526.05608\n",
            "Epoch 181/500\n",
            "16960/16960 [==============================] - 2s 122us/step - loss: 538.8392 - mean_absolute_error: 538.8392 - val_loss: 558.9053 - val_mean_absolute_error: 558.9053\n",
            "\n",
            "Epoch 00181: val_loss did not improve from 526.05608\n",
            "Epoch 182/500\n",
            "16960/16960 [==============================] - 2s 120us/step - loss: 540.0237 - mean_absolute_error: 540.0237 - val_loss: 534.7441 - val_mean_absolute_error: 534.7441\n",
            "\n",
            "Epoch 00182: val_loss did not improve from 526.05608\n",
            "Epoch 183/500\n",
            "16960/16960 [==============================] - 2s 121us/step - loss: 539.7869 - mean_absolute_error: 539.7869 - val_loss: 528.0861 - val_mean_absolute_error: 528.0861\n",
            "\n",
            "Epoch 00183: val_loss did not improve from 526.05608\n",
            "Epoch 184/500\n",
            "16960/16960 [==============================] - 2s 122us/step - loss: 537.4081 - mean_absolute_error: 537.4081 - val_loss: 529.2556 - val_mean_absolute_error: 529.2556\n",
            "\n",
            "Epoch 00184: val_loss did not improve from 526.05608\n",
            "Epoch 185/500\n",
            "16960/16960 [==============================] - 2s 122us/step - loss: 539.9066 - mean_absolute_error: 539.9066 - val_loss: 527.7170 - val_mean_absolute_error: 527.7170\n",
            "\n",
            "Epoch 00185: val_loss did not improve from 526.05608\n",
            "Epoch 186/500\n",
            "16960/16960 [==============================] - 2s 128us/step - loss: 536.3531 - mean_absolute_error: 536.3531 - val_loss: 551.1902 - val_mean_absolute_error: 551.1902\n",
            "\n",
            "Epoch 00186: val_loss did not improve from 526.05608\n",
            "Epoch 187/500\n",
            "16960/16960 [==============================] - 2s 128us/step - loss: 542.9181 - mean_absolute_error: 542.9181 - val_loss: 537.1091 - val_mean_absolute_error: 537.1091\n",
            "\n",
            "Epoch 00187: val_loss did not improve from 526.05608\n",
            "Epoch 188/500\n",
            "16960/16960 [==============================] - 2s 129us/step - loss: 539.1302 - mean_absolute_error: 539.1302 - val_loss: 529.1421 - val_mean_absolute_error: 529.1421\n",
            "\n",
            "Epoch 00188: val_loss did not improve from 526.05608\n",
            "Epoch 189/500\n",
            "16960/16960 [==============================] - 2s 122us/step - loss: 537.8306 - mean_absolute_error: 537.8306 - val_loss: 529.8593 - val_mean_absolute_error: 529.8593\n",
            "\n",
            "Epoch 00189: val_loss did not improve from 526.05608\n",
            "Epoch 190/500\n",
            "16960/16960 [==============================] - 2s 121us/step - loss: 538.4895 - mean_absolute_error: 538.4895 - val_loss: 529.6239 - val_mean_absolute_error: 529.6239\n",
            "\n",
            "Epoch 00190: val_loss did not improve from 526.05608\n",
            "Epoch 191/500\n",
            "16960/16960 [==============================] - 2s 116us/step - loss: 542.6028 - mean_absolute_error: 542.6028 - val_loss: 554.1660 - val_mean_absolute_error: 554.1660\n",
            "\n",
            "Epoch 00191: val_loss did not improve from 526.05608\n",
            "Epoch 192/500\n",
            "16960/16960 [==============================] - 2s 121us/step - loss: 538.2077 - mean_absolute_error: 538.2077 - val_loss: 544.1155 - val_mean_absolute_error: 544.1155\n",
            "\n",
            "Epoch 00192: val_loss did not improve from 526.05608\n",
            "Epoch 193/500\n",
            "16960/16960 [==============================] - 2s 121us/step - loss: 539.1728 - mean_absolute_error: 539.1728 - val_loss: 539.8527 - val_mean_absolute_error: 539.8527\n",
            "\n",
            "Epoch 00193: val_loss did not improve from 526.05608\n",
            "Epoch 194/500\n",
            "16960/16960 [==============================] - 2s 122us/step - loss: 540.5893 - mean_absolute_error: 540.5893 - val_loss: 532.3402 - val_mean_absolute_error: 532.3402\n",
            "\n",
            "Epoch 00194: val_loss did not improve from 526.05608\n",
            "Epoch 195/500\n",
            "16960/16960 [==============================] - 2s 118us/step - loss: 541.0710 - mean_absolute_error: 541.0710 - val_loss: 533.7637 - val_mean_absolute_error: 533.7637\n",
            "\n",
            "Epoch 00195: val_loss did not improve from 526.05608\n",
            "Epoch 196/500\n",
            "16960/16960 [==============================] - 2s 119us/step - loss: 538.6246 - mean_absolute_error: 538.6246 - val_loss: 529.0697 - val_mean_absolute_error: 529.0697\n",
            "\n",
            "Epoch 00196: val_loss did not improve from 526.05608\n",
            "Epoch 197/500\n",
            "16960/16960 [==============================] - 2s 123us/step - loss: 539.8313 - mean_absolute_error: 539.8313 - val_loss: 534.1361 - val_mean_absolute_error: 534.1361\n",
            "\n",
            "Epoch 00197: val_loss did not improve from 526.05608\n",
            "Epoch 198/500\n",
            "16960/16960 [==============================] - 2s 122us/step - loss: 537.3288 - mean_absolute_error: 537.3288 - val_loss: 528.0392 - val_mean_absolute_error: 528.0392\n",
            "\n",
            "Epoch 00198: val_loss did not improve from 526.05608\n",
            "Epoch 199/500\n",
            "16960/16960 [==============================] - 2s 124us/step - loss: 538.3087 - mean_absolute_error: 538.3087 - val_loss: 535.6387 - val_mean_absolute_error: 535.6387\n",
            "\n",
            "Epoch 00199: val_loss did not improve from 526.05608\n",
            "Epoch 200/500\n",
            "16960/16960 [==============================] - 2s 121us/step - loss: 538.5907 - mean_absolute_error: 538.5907 - val_loss: 526.7271 - val_mean_absolute_error: 526.7271\n",
            "\n",
            "Epoch 00200: val_loss did not improve from 526.05608\n",
            "Epoch 201/500\n",
            "16960/16960 [==============================] - 2s 115us/step - loss: 538.2507 - mean_absolute_error: 538.2507 - val_loss: 527.2567 - val_mean_absolute_error: 527.2567\n",
            "\n",
            "Epoch 00201: val_loss did not improve from 526.05608\n",
            "Epoch 202/500\n",
            "16960/16960 [==============================] - 2s 117us/step - loss: 536.9818 - mean_absolute_error: 536.9818 - val_loss: 527.6510 - val_mean_absolute_error: 527.6510\n",
            "\n",
            "Epoch 00202: val_loss did not improve from 526.05608\n",
            "Epoch 203/500\n",
            "16960/16960 [==============================] - 2s 117us/step - loss: 537.8011 - mean_absolute_error: 537.8011 - val_loss: 534.5999 - val_mean_absolute_error: 534.5999\n",
            "\n",
            "Epoch 00203: val_loss did not improve from 526.05608\n",
            "Epoch 204/500\n",
            "16960/16960 [==============================] - 2s 116us/step - loss: 537.4356 - mean_absolute_error: 537.4356 - val_loss: 534.4523 - val_mean_absolute_error: 534.4523\n",
            "\n",
            "Epoch 00204: val_loss did not improve from 526.05608\n",
            "Epoch 205/500\n",
            "16960/16960 [==============================] - 2s 112us/step - loss: 537.3238 - mean_absolute_error: 537.3238 - val_loss: 527.7479 - val_mean_absolute_error: 527.7479\n",
            "\n",
            "Epoch 00205: val_loss did not improve from 526.05608\n",
            "Epoch 206/500\n",
            "16960/16960 [==============================] - 2s 117us/step - loss: 537.6496 - mean_absolute_error: 537.6496 - val_loss: 528.0180 - val_mean_absolute_error: 528.0180\n",
            "\n",
            "Epoch 00206: val_loss did not improve from 526.05608\n",
            "Epoch 207/500\n",
            "16960/16960 [==============================] - 2s 117us/step - loss: 538.9816 - mean_absolute_error: 538.9816 - val_loss: 527.4082 - val_mean_absolute_error: 527.4082\n",
            "\n",
            "Epoch 00207: val_loss did not improve from 526.05608\n",
            "Epoch 208/500\n",
            "16960/16960 [==============================] - 2s 114us/step - loss: 538.6195 - mean_absolute_error: 538.6195 - val_loss: 526.6372 - val_mean_absolute_error: 526.6372\n",
            "\n",
            "Epoch 00208: val_loss did not improve from 526.05608\n",
            "Epoch 209/500\n",
            "16960/16960 [==============================] - 2s 115us/step - loss: 535.5701 - mean_absolute_error: 535.5701 - val_loss: 533.7000 - val_mean_absolute_error: 533.7000\n",
            "\n",
            "Epoch 00209: val_loss did not improve from 526.05608\n",
            "Epoch 210/500\n",
            "16960/16960 [==============================] - 2s 115us/step - loss: 538.9349 - mean_absolute_error: 538.9349 - val_loss: 532.2745 - val_mean_absolute_error: 532.2745\n",
            "\n",
            "Epoch 00210: val_loss did not improve from 526.05608\n",
            "Epoch 211/500\n",
            "16960/16960 [==============================] - 2s 115us/step - loss: 540.7363 - mean_absolute_error: 540.7363 - val_loss: 535.0022 - val_mean_absolute_error: 535.0022\n",
            "\n",
            "Epoch 00211: val_loss did not improve from 526.05608\n",
            "Epoch 212/500\n",
            "16960/16960 [==============================] - 2s 121us/step - loss: 536.7476 - mean_absolute_error: 536.7476 - val_loss: 528.8411 - val_mean_absolute_error: 528.8411\n",
            "\n",
            "Epoch 00212: val_loss did not improve from 526.05608\n",
            "Epoch 213/500\n",
            "16960/16960 [==============================] - 2s 116us/step - loss: 538.1622 - mean_absolute_error: 538.1622 - val_loss: 530.3810 - val_mean_absolute_error: 530.3810\n",
            "\n",
            "Epoch 00213: val_loss did not improve from 526.05608\n",
            "Epoch 214/500\n",
            "16960/16960 [==============================] - 2s 113us/step - loss: 536.5984 - mean_absolute_error: 536.5984 - val_loss: 536.5799 - val_mean_absolute_error: 536.5799\n",
            "\n",
            "Epoch 00214: val_loss did not improve from 526.05608\n",
            "Epoch 215/500\n",
            "16960/16960 [==============================] - 2s 115us/step - loss: 536.4839 - mean_absolute_error: 536.4839 - val_loss: 535.4286 - val_mean_absolute_error: 535.4286\n",
            "\n",
            "Epoch 00215: val_loss did not improve from 526.05608\n",
            "Epoch 216/500\n",
            "16960/16960 [==============================] - 2s 113us/step - loss: 539.0770 - mean_absolute_error: 539.0770 - val_loss: 537.7192 - val_mean_absolute_error: 537.7192\n",
            "\n",
            "Epoch 00216: val_loss did not improve from 526.05608\n",
            "Epoch 217/500\n",
            "16960/16960 [==============================] - 2s 114us/step - loss: 535.6823 - mean_absolute_error: 535.6823 - val_loss: 539.1511 - val_mean_absolute_error: 539.1511\n",
            "\n",
            "Epoch 00217: val_loss did not improve from 526.05608\n",
            "Epoch 218/500\n",
            "16960/16960 [==============================] - 2s 114us/step - loss: 537.1253 - mean_absolute_error: 537.1253 - val_loss: 534.8926 - val_mean_absolute_error: 534.8926\n",
            "\n",
            "Epoch 00218: val_loss did not improve from 526.05608\n",
            "Epoch 219/500\n",
            "16960/16960 [==============================] - 2s 116us/step - loss: 536.0715 - mean_absolute_error: 536.0715 - val_loss: 526.3342 - val_mean_absolute_error: 526.3342\n",
            "\n",
            "Epoch 00219: val_loss did not improve from 526.05608\n",
            "Epoch 220/500\n",
            "16960/16960 [==============================] - 2s 118us/step - loss: 535.7027 - mean_absolute_error: 535.7027 - val_loss: 528.4580 - val_mean_absolute_error: 528.4580\n",
            "\n",
            "Epoch 00220: val_loss did not improve from 526.05608\n",
            "Epoch 221/500\n",
            "16960/16960 [==============================] - 2s 115us/step - loss: 541.7024 - mean_absolute_error: 541.7024 - val_loss: 530.0616 - val_mean_absolute_error: 530.0616\n",
            "\n",
            "Epoch 00221: val_loss did not improve from 526.05608\n",
            "Epoch 222/500\n",
            "16960/16960 [==============================] - 2s 116us/step - loss: 534.7872 - mean_absolute_error: 534.7872 - val_loss: 547.9012 - val_mean_absolute_error: 547.9012\n",
            "\n",
            "Epoch 00222: val_loss did not improve from 526.05608\n",
            "Epoch 223/500\n",
            "16960/16960 [==============================] - 2s 115us/step - loss: 536.1594 - mean_absolute_error: 536.1594 - val_loss: 547.1366 - val_mean_absolute_error: 547.1366\n",
            "\n",
            "Epoch 00223: val_loss did not improve from 526.05608\n",
            "Epoch 224/500\n",
            "16960/16960 [==============================] - 2s 115us/step - loss: 534.8666 - mean_absolute_error: 534.8666 - val_loss: 534.7656 - val_mean_absolute_error: 534.7656\n",
            "\n",
            "Epoch 00224: val_loss did not improve from 526.05608\n",
            "Epoch 225/500\n",
            "16960/16960 [==============================] - 2s 117us/step - loss: 535.0537 - mean_absolute_error: 535.0537 - val_loss: 531.0153 - val_mean_absolute_error: 531.0153\n",
            "\n",
            "Epoch 00225: val_loss did not improve from 526.05608\n",
            "Epoch 226/500\n",
            "16960/16960 [==============================] - 2s 115us/step - loss: 537.4160 - mean_absolute_error: 537.4160 - val_loss: 531.0132 - val_mean_absolute_error: 531.0132\n",
            "\n",
            "Epoch 00226: val_loss did not improve from 526.05608\n",
            "Epoch 227/500\n",
            "16960/16960 [==============================] - 2s 115us/step - loss: 540.6385 - mean_absolute_error: 540.6385 - val_loss: 532.6621 - val_mean_absolute_error: 532.6621\n",
            "\n",
            "Epoch 00227: val_loss did not improve from 526.05608\n",
            "Epoch 228/500\n",
            "16960/16960 [==============================] - 2s 116us/step - loss: 537.6142 - mean_absolute_error: 537.6142 - val_loss: 529.7489 - val_mean_absolute_error: 529.7489\n",
            "\n",
            "Epoch 00228: val_loss did not improve from 526.05608\n",
            "Epoch 229/500\n",
            "16960/16960 [==============================] - 2s 120us/step - loss: 536.7482 - mean_absolute_error: 536.7482 - val_loss: 533.6296 - val_mean_absolute_error: 533.6296\n",
            "\n",
            "Epoch 00229: val_loss did not improve from 526.05608\n",
            "Epoch 230/500\n",
            "16960/16960 [==============================] - 2s 114us/step - loss: 536.4688 - mean_absolute_error: 536.4688 - val_loss: 541.4121 - val_mean_absolute_error: 541.4121\n",
            "\n",
            "Epoch 00230: val_loss did not improve from 526.05608\n",
            "Epoch 231/500\n",
            "16960/16960 [==============================] - 2s 115us/step - loss: 537.7652 - mean_absolute_error: 537.7652 - val_loss: 536.6334 - val_mean_absolute_error: 536.6334\n",
            "\n",
            "Epoch 00231: val_loss did not improve from 526.05608\n",
            "Epoch 232/500\n",
            "16960/16960 [==============================] - 2s 115us/step - loss: 534.5052 - mean_absolute_error: 534.5052 - val_loss: 540.3532 - val_mean_absolute_error: 540.3532\n",
            "\n",
            "Epoch 00232: val_loss did not improve from 526.05608\n",
            "Epoch 233/500\n",
            "16960/16960 [==============================] - 2s 114us/step - loss: 536.3319 - mean_absolute_error: 536.3319 - val_loss: 531.0357 - val_mean_absolute_error: 531.0357\n",
            "\n",
            "Epoch 00233: val_loss did not improve from 526.05608\n",
            "Epoch 234/500\n",
            "16960/16960 [==============================] - 2s 118us/step - loss: 535.6336 - mean_absolute_error: 535.6336 - val_loss: 535.2962 - val_mean_absolute_error: 535.2962\n",
            "\n",
            "Epoch 00234: val_loss did not improve from 526.05608\n",
            "Epoch 235/500\n",
            "16960/16960 [==============================] - 2s 116us/step - loss: 537.4320 - mean_absolute_error: 537.4320 - val_loss: 530.0364 - val_mean_absolute_error: 530.0364\n",
            "\n",
            "Epoch 00235: val_loss did not improve from 526.05608\n",
            "Epoch 236/500\n",
            "16960/16960 [==============================] - 2s 114us/step - loss: 534.8762 - mean_absolute_error: 534.8762 - val_loss: 528.0452 - val_mean_absolute_error: 528.0452\n",
            "\n",
            "Epoch 00236: val_loss did not improve from 526.05608\n",
            "Epoch 237/500\n",
            "16960/16960 [==============================] - 2s 115us/step - loss: 536.9365 - mean_absolute_error: 536.9365 - val_loss: 525.9168 - val_mean_absolute_error: 525.9168\n",
            "\n",
            "Epoch 00237: val_loss improved from 526.05608 to 525.91679, saving model to Weights-237--525.91679.hdf5\n",
            "Epoch 238/500\n",
            "16960/16960 [==============================] - 2s 114us/step - loss: 534.7052 - mean_absolute_error: 534.7052 - val_loss: 531.2031 - val_mean_absolute_error: 531.2031\n",
            "\n",
            "Epoch 00238: val_loss did not improve from 525.91679\n",
            "Epoch 239/500\n",
            "16960/16960 [==============================] - 2s 115us/step - loss: 534.4529 - mean_absolute_error: 534.4529 - val_loss: 535.8236 - val_mean_absolute_error: 535.8236\n",
            "\n",
            "Epoch 00239: val_loss did not improve from 525.91679\n",
            "Epoch 240/500\n",
            "16960/16960 [==============================] - 2s 116us/step - loss: 537.8893 - mean_absolute_error: 537.8893 - val_loss: 538.4069 - val_mean_absolute_error: 538.4069\n",
            "\n",
            "Epoch 00240: val_loss did not improve from 525.91679\n",
            "Epoch 241/500\n",
            "16960/16960 [==============================] - 2s 114us/step - loss: 536.9680 - mean_absolute_error: 536.9680 - val_loss: 527.6626 - val_mean_absolute_error: 527.6626\n",
            "\n",
            "Epoch 00241: val_loss did not improve from 525.91679\n",
            "Epoch 242/500\n",
            "16960/16960 [==============================] - 2s 114us/step - loss: 535.5865 - mean_absolute_error: 535.5865 - val_loss: 529.2142 - val_mean_absolute_error: 529.2142\n",
            "\n",
            "Epoch 00242: val_loss did not improve from 525.91679\n",
            "Epoch 243/500\n",
            "16960/16960 [==============================] - 2s 117us/step - loss: 536.2141 - mean_absolute_error: 536.2141 - val_loss: 538.5919 - val_mean_absolute_error: 538.5919\n",
            "\n",
            "Epoch 00243: val_loss did not improve from 525.91679\n",
            "Epoch 244/500\n",
            "16960/16960 [==============================] - 2s 116us/step - loss: 538.1114 - mean_absolute_error: 538.1114 - val_loss: 542.5449 - val_mean_absolute_error: 542.5449\n",
            "\n",
            "Epoch 00244: val_loss did not improve from 525.91679\n",
            "Epoch 245/500\n",
            "16960/16960 [==============================] - 2s 117us/step - loss: 537.2695 - mean_absolute_error: 537.2695 - val_loss: 527.0528 - val_mean_absolute_error: 527.0528\n",
            "\n",
            "Epoch 00245: val_loss did not improve from 525.91679\n",
            "Epoch 246/500\n",
            "16960/16960 [==============================] - 2s 115us/step - loss: 535.7396 - mean_absolute_error: 535.7396 - val_loss: 528.6050 - val_mean_absolute_error: 528.6050\n",
            "\n",
            "Epoch 00246: val_loss did not improve from 525.91679\n",
            "Epoch 247/500\n",
            "16960/16960 [==============================] - 2s 115us/step - loss: 539.3160 - mean_absolute_error: 539.3160 - val_loss: 528.4200 - val_mean_absolute_error: 528.4200\n",
            "\n",
            "Epoch 00247: val_loss did not improve from 525.91679\n",
            "Epoch 248/500\n",
            "16960/16960 [==============================] - 2s 117us/step - loss: 535.1095 - mean_absolute_error: 535.1095 - val_loss: 532.3933 - val_mean_absolute_error: 532.3933\n",
            "\n",
            "Epoch 00248: val_loss did not improve from 525.91679\n",
            "Epoch 249/500\n",
            "16960/16960 [==============================] - 2s 115us/step - loss: 535.6192 - mean_absolute_error: 535.6192 - val_loss: 531.2185 - val_mean_absolute_error: 531.2185\n",
            "\n",
            "Epoch 00249: val_loss did not improve from 525.91679\n",
            "Epoch 250/500\n",
            "16960/16960 [==============================] - 2s 116us/step - loss: 535.2049 - mean_absolute_error: 535.2049 - val_loss: 546.7070 - val_mean_absolute_error: 546.7070\n",
            "\n",
            "Epoch 00250: val_loss did not improve from 525.91679\n",
            "Epoch 251/500\n",
            "16960/16960 [==============================] - 2s 119us/step - loss: 535.8797 - mean_absolute_error: 535.8797 - val_loss: 534.3009 - val_mean_absolute_error: 534.3009\n",
            "\n",
            "Epoch 00251: val_loss did not improve from 525.91679\n",
            "Epoch 252/500\n",
            "16960/16960 [==============================] - 2s 117us/step - loss: 534.4349 - mean_absolute_error: 534.4349 - val_loss: 532.2900 - val_mean_absolute_error: 532.2900\n",
            "\n",
            "Epoch 00252: val_loss did not improve from 525.91679\n",
            "Epoch 253/500\n",
            "16960/16960 [==============================] - 2s 118us/step - loss: 535.3089 - mean_absolute_error: 535.3089 - val_loss: 526.0078 - val_mean_absolute_error: 526.0078\n",
            "\n",
            "Epoch 00253: val_loss did not improve from 525.91679\n",
            "Epoch 254/500\n",
            "16960/16960 [==============================] - 2s 117us/step - loss: 536.4006 - mean_absolute_error: 536.4006 - val_loss: 529.4665 - val_mean_absolute_error: 529.4665\n",
            "\n",
            "Epoch 00254: val_loss did not improve from 525.91679\n",
            "Epoch 255/500\n",
            "16960/16960 [==============================] - 2s 115us/step - loss: 537.1688 - mean_absolute_error: 537.1688 - val_loss: 526.3410 - val_mean_absolute_error: 526.3410\n",
            "\n",
            "Epoch 00255: val_loss did not improve from 525.91679\n",
            "Epoch 256/500\n",
            "16960/16960 [==============================] - 2s 117us/step - loss: 536.8101 - mean_absolute_error: 536.8101 - val_loss: 551.4839 - val_mean_absolute_error: 551.4839\n",
            "\n",
            "Epoch 00256: val_loss did not improve from 525.91679\n",
            "Epoch 257/500\n",
            "16960/16960 [==============================] - 2s 116us/step - loss: 536.3008 - mean_absolute_error: 536.3008 - val_loss: 532.5900 - val_mean_absolute_error: 532.5900\n",
            "\n",
            "Epoch 00257: val_loss did not improve from 525.91679\n",
            "Epoch 258/500\n",
            "16960/16960 [==============================] - 2s 117us/step - loss: 534.2812 - mean_absolute_error: 534.2812 - val_loss: 544.7010 - val_mean_absolute_error: 544.7010\n",
            "\n",
            "Epoch 00258: val_loss did not improve from 525.91679\n",
            "Epoch 259/500\n",
            "16960/16960 [==============================] - 2s 121us/step - loss: 536.8489 - mean_absolute_error: 536.8489 - val_loss: 545.0277 - val_mean_absolute_error: 545.0277\n",
            "\n",
            "Epoch 00259: val_loss did not improve from 525.91679\n",
            "Epoch 260/500\n",
            "16960/16960 [==============================] - 2s 116us/step - loss: 533.3089 - mean_absolute_error: 533.3089 - val_loss: 526.2235 - val_mean_absolute_error: 526.2235\n",
            "\n",
            "Epoch 00260: val_loss did not improve from 525.91679\n",
            "Epoch 261/500\n",
            "16960/16960 [==============================] - 2s 117us/step - loss: 534.6544 - mean_absolute_error: 534.6544 - val_loss: 531.3925 - val_mean_absolute_error: 531.3925\n",
            "\n",
            "Epoch 00261: val_loss did not improve from 525.91679\n",
            "Epoch 262/500\n",
            "16960/16960 [==============================] - 2s 120us/step - loss: 536.0203 - mean_absolute_error: 536.0203 - val_loss: 525.8888 - val_mean_absolute_error: 525.8888\n",
            "\n",
            "Epoch 00262: val_loss improved from 525.91679 to 525.88877, saving model to Weights-262--525.88877.hdf5\n",
            "Epoch 263/500\n",
            "16960/16960 [==============================] - 2s 115us/step - loss: 534.6959 - mean_absolute_error: 534.6959 - val_loss: 533.9850 - val_mean_absolute_error: 533.9850\n",
            "\n",
            "Epoch 00263: val_loss did not improve from 525.88877\n",
            "Epoch 264/500\n",
            "16960/16960 [==============================] - 2s 117us/step - loss: 534.0082 - mean_absolute_error: 534.0082 - val_loss: 529.5339 - val_mean_absolute_error: 529.5339\n",
            "\n",
            "Epoch 00264: val_loss did not improve from 525.88877\n",
            "Epoch 265/500\n",
            "16960/16960 [==============================] - 2s 114us/step - loss: 534.8491 - mean_absolute_error: 534.8491 - val_loss: 555.1074 - val_mean_absolute_error: 555.1074\n",
            "\n",
            "Epoch 00265: val_loss did not improve from 525.88877\n",
            "Epoch 266/500\n",
            "16960/16960 [==============================] - 2s 115us/step - loss: 534.3854 - mean_absolute_error: 534.3854 - val_loss: 527.9940 - val_mean_absolute_error: 527.9940\n",
            "\n",
            "Epoch 00266: val_loss did not improve from 525.88877\n",
            "Epoch 267/500\n",
            "16960/16960 [==============================] - 2s 117us/step - loss: 536.1645 - mean_absolute_error: 536.1645 - val_loss: 533.1782 - val_mean_absolute_error: 533.1782\n",
            "\n",
            "Epoch 00267: val_loss did not improve from 525.88877\n",
            "Epoch 268/500\n",
            "16960/16960 [==============================] - 2s 116us/step - loss: 537.4183 - mean_absolute_error: 537.4183 - val_loss: 531.1186 - val_mean_absolute_error: 531.1186\n",
            "\n",
            "Epoch 00268: val_loss did not improve from 525.88877\n",
            "Epoch 269/500\n",
            "16960/16960 [==============================] - 2s 116us/step - loss: 534.5210 - mean_absolute_error: 534.5210 - val_loss: 533.0456 - val_mean_absolute_error: 533.0456\n",
            "\n",
            "Epoch 00269: val_loss did not improve from 525.88877\n",
            "Epoch 270/500\n",
            "16960/16960 [==============================] - 2s 114us/step - loss: 534.0198 - mean_absolute_error: 534.0198 - val_loss: 525.8075 - val_mean_absolute_error: 525.8075\n",
            "\n",
            "Epoch 00270: val_loss improved from 525.88877 to 525.80750, saving model to Weights-270--525.80750.hdf5\n",
            "Epoch 271/500\n",
            "16960/16960 [==============================] - 2s 119us/step - loss: 535.7037 - mean_absolute_error: 535.7037 - val_loss: 538.6797 - val_mean_absolute_error: 538.6797\n",
            "\n",
            "Epoch 00271: val_loss did not improve from 525.80750\n",
            "Epoch 272/500\n",
            "16960/16960 [==============================] - 2s 118us/step - loss: 534.3322 - mean_absolute_error: 534.3322 - val_loss: 527.6841 - val_mean_absolute_error: 527.6841\n",
            "\n",
            "Epoch 00272: val_loss did not improve from 525.80750\n",
            "Epoch 273/500\n",
            "16960/16960 [==============================] - 2s 118us/step - loss: 534.2563 - mean_absolute_error: 534.2563 - val_loss: 555.2623 - val_mean_absolute_error: 555.2623\n",
            "\n",
            "Epoch 00273: val_loss did not improve from 525.80750\n",
            "Epoch 274/500\n",
            "16960/16960 [==============================] - 2s 114us/step - loss: 534.8232 - mean_absolute_error: 534.8232 - val_loss: 528.8256 - val_mean_absolute_error: 528.8256\n",
            "\n",
            "Epoch 00274: val_loss did not improve from 525.80750\n",
            "Epoch 275/500\n",
            "16960/16960 [==============================] - 2s 115us/step - loss: 536.5819 - mean_absolute_error: 536.5819 - val_loss: 526.9173 - val_mean_absolute_error: 526.9173\n",
            "\n",
            "Epoch 00275: val_loss did not improve from 525.80750\n",
            "Epoch 276/500\n",
            "16960/16960 [==============================] - 2s 115us/step - loss: 534.0640 - mean_absolute_error: 534.0640 - val_loss: 528.6017 - val_mean_absolute_error: 528.6017\n",
            "\n",
            "Epoch 00276: val_loss did not improve from 525.80750\n",
            "Epoch 277/500\n",
            "16960/16960 [==============================] - 2s 114us/step - loss: 535.2712 - mean_absolute_error: 535.2712 - val_loss: 526.6119 - val_mean_absolute_error: 526.6119\n",
            "\n",
            "Epoch 00277: val_loss did not improve from 525.80750\n",
            "Epoch 278/500\n",
            "16960/16960 [==============================] - 2s 119us/step - loss: 534.6585 - mean_absolute_error: 534.6585 - val_loss: 535.0142 - val_mean_absolute_error: 535.0142\n",
            "\n",
            "Epoch 00278: val_loss did not improve from 525.80750\n",
            "Epoch 279/500\n",
            "16960/16960 [==============================] - 2s 118us/step - loss: 534.0566 - mean_absolute_error: 534.0566 - val_loss: 529.2624 - val_mean_absolute_error: 529.2624\n",
            "\n",
            "Epoch 00279: val_loss did not improve from 525.80750\n",
            "Epoch 280/500\n",
            "16960/16960 [==============================] - 2s 115us/step - loss: 536.3744 - mean_absolute_error: 536.3744 - val_loss: 527.7063 - val_mean_absolute_error: 527.7063\n",
            "\n",
            "Epoch 00280: val_loss did not improve from 525.80750\n",
            "Epoch 281/500\n",
            "16960/16960 [==============================] - 2s 114us/step - loss: 533.7853 - mean_absolute_error: 533.7853 - val_loss: 530.0209 - val_mean_absolute_error: 530.0209\n",
            "\n",
            "Epoch 00281: val_loss did not improve from 525.80750\n",
            "Epoch 282/500\n",
            "16960/16960 [==============================] - 2s 114us/step - loss: 534.3595 - mean_absolute_error: 534.3595 - val_loss: 528.1378 - val_mean_absolute_error: 528.1378\n",
            "\n",
            "Epoch 00282: val_loss did not improve from 525.80750\n",
            "Epoch 283/500\n",
            "16960/16960 [==============================] - 2s 114us/step - loss: 533.5264 - mean_absolute_error: 533.5264 - val_loss: 526.1786 - val_mean_absolute_error: 526.1786\n",
            "\n",
            "Epoch 00283: val_loss did not improve from 525.80750\n",
            "Epoch 284/500\n",
            "16960/16960 [==============================] - 2s 118us/step - loss: 537.2553 - mean_absolute_error: 537.2553 - val_loss: 535.0508 - val_mean_absolute_error: 535.0508\n",
            "\n",
            "Epoch 00284: val_loss did not improve from 525.80750\n",
            "Epoch 285/500\n",
            "16960/16960 [==============================] - 2s 118us/step - loss: 533.7297 - mean_absolute_error: 533.7297 - val_loss: 533.4302 - val_mean_absolute_error: 533.4302\n",
            "\n",
            "Epoch 00285: val_loss did not improve from 525.80750\n",
            "Epoch 286/500\n",
            "16960/16960 [==============================] - 2s 115us/step - loss: 535.0493 - mean_absolute_error: 535.0493 - val_loss: 526.8426 - val_mean_absolute_error: 526.8426\n",
            "\n",
            "Epoch 00286: val_loss did not improve from 525.80750\n",
            "Epoch 287/500\n",
            "16960/16960 [==============================] - 2s 117us/step - loss: 534.9735 - mean_absolute_error: 534.9735 - val_loss: 530.6091 - val_mean_absolute_error: 530.6091\n",
            "\n",
            "Epoch 00287: val_loss did not improve from 525.80750\n",
            "Epoch 288/500\n",
            "16960/16960 [==============================] - 2s 116us/step - loss: 533.0305 - mean_absolute_error: 533.0305 - val_loss: 530.1972 - val_mean_absolute_error: 530.1972\n",
            "\n",
            "Epoch 00288: val_loss did not improve from 525.80750\n",
            "Epoch 289/500\n",
            "16960/16960 [==============================] - 2s 115us/step - loss: 532.8890 - mean_absolute_error: 532.8890 - val_loss: 528.7921 - val_mean_absolute_error: 528.7921\n",
            "\n",
            "Epoch 00289: val_loss did not improve from 525.80750\n",
            "Epoch 290/500\n",
            "16960/16960 [==============================] - 2s 118us/step - loss: 535.6333 - mean_absolute_error: 535.6333 - val_loss: 553.9602 - val_mean_absolute_error: 553.9602\n",
            "\n",
            "Epoch 00290: val_loss did not improve from 525.80750\n",
            "Epoch 291/500\n",
            "16960/16960 [==============================] - 2s 115us/step - loss: 532.7045 - mean_absolute_error: 532.7045 - val_loss: 530.1625 - val_mean_absolute_error: 530.1625\n",
            "\n",
            "Epoch 00291: val_loss did not improve from 525.80750\n",
            "Epoch 292/500\n",
            "16960/16960 [==============================] - 2s 120us/step - loss: 535.1908 - mean_absolute_error: 535.1908 - val_loss: 552.8664 - val_mean_absolute_error: 552.8664\n",
            "\n",
            "Epoch 00292: val_loss did not improve from 525.80750\n",
            "Epoch 293/500\n",
            "16960/16960 [==============================] - 2s 120us/step - loss: 534.7760 - mean_absolute_error: 534.7760 - val_loss: 561.3293 - val_mean_absolute_error: 561.3293\n",
            "\n",
            "Epoch 00293: val_loss did not improve from 525.80750\n",
            "Epoch 294/500\n",
            "16960/16960 [==============================] - 2s 115us/step - loss: 532.3660 - mean_absolute_error: 532.3660 - val_loss: 527.3569 - val_mean_absolute_error: 527.3569\n",
            "\n",
            "Epoch 00294: val_loss did not improve from 525.80750\n",
            "Epoch 295/500\n",
            "16960/16960 [==============================] - 2s 118us/step - loss: 533.0069 - mean_absolute_error: 533.0069 - val_loss: 529.3830 - val_mean_absolute_error: 529.3830\n",
            "\n",
            "Epoch 00295: val_loss did not improve from 525.80750\n",
            "Epoch 296/500\n",
            "16960/16960 [==============================] - 2s 114us/step - loss: 533.1781 - mean_absolute_error: 533.1781 - val_loss: 529.7685 - val_mean_absolute_error: 529.7685\n",
            "\n",
            "Epoch 00296: val_loss did not improve from 525.80750\n",
            "Epoch 297/500\n",
            "16960/16960 [==============================] - 2s 114us/step - loss: 532.6472 - mean_absolute_error: 532.6472 - val_loss: 528.2924 - val_mean_absolute_error: 528.2924\n",
            "\n",
            "Epoch 00297: val_loss did not improve from 525.80750\n",
            "Epoch 298/500\n",
            "16960/16960 [==============================] - 2s 117us/step - loss: 535.2174 - mean_absolute_error: 535.2174 - val_loss: 529.3077 - val_mean_absolute_error: 529.3077\n",
            "\n",
            "Epoch 00298: val_loss did not improve from 525.80750\n",
            "Epoch 299/500\n",
            "16960/16960 [==============================] - 2s 118us/step - loss: 534.8769 - mean_absolute_error: 534.8769 - val_loss: 528.7254 - val_mean_absolute_error: 528.7254\n",
            "\n",
            "Epoch 00299: val_loss did not improve from 525.80750\n",
            "Epoch 300/500\n",
            "16960/16960 [==============================] - 2s 115us/step - loss: 532.9616 - mean_absolute_error: 532.9616 - val_loss: 552.7271 - val_mean_absolute_error: 552.7271\n",
            "\n",
            "Epoch 00300: val_loss did not improve from 525.80750\n",
            "Epoch 301/500\n",
            "16960/16960 [==============================] - 2s 118us/step - loss: 534.3633 - mean_absolute_error: 534.3633 - val_loss: 529.9671 - val_mean_absolute_error: 529.9671\n",
            "\n",
            "Epoch 00301: val_loss did not improve from 525.80750\n",
            "Epoch 302/500\n",
            "16960/16960 [==============================] - 2s 117us/step - loss: 532.5836 - mean_absolute_error: 532.5836 - val_loss: 529.7541 - val_mean_absolute_error: 529.7541\n",
            "\n",
            "Epoch 00302: val_loss did not improve from 525.80750\n",
            "Epoch 303/500\n",
            "16960/16960 [==============================] - 2s 114us/step - loss: 532.3137 - mean_absolute_error: 532.3137 - val_loss: 529.8962 - val_mean_absolute_error: 529.8962\n",
            "\n",
            "Epoch 00303: val_loss did not improve from 525.80750\n",
            "Epoch 304/500\n",
            "16960/16960 [==============================] - 2s 115us/step - loss: 534.9152 - mean_absolute_error: 534.9152 - val_loss: 528.4291 - val_mean_absolute_error: 528.4291\n",
            "\n",
            "Epoch 00304: val_loss did not improve from 525.80750\n",
            "Epoch 305/500\n",
            "16960/16960 [==============================] - 2s 116us/step - loss: 532.8981 - mean_absolute_error: 532.8981 - val_loss: 526.3936 - val_mean_absolute_error: 526.3936\n",
            "\n",
            "Epoch 00305: val_loss did not improve from 525.80750\n",
            "Epoch 306/500\n",
            "16960/16960 [==============================] - 2s 114us/step - loss: 532.6404 - mean_absolute_error: 532.6404 - val_loss: 525.9485 - val_mean_absolute_error: 525.9485\n",
            "\n",
            "Epoch 00306: val_loss did not improve from 525.80750\n",
            "Epoch 307/500\n",
            "16960/16960 [==============================] - 2s 118us/step - loss: 532.3887 - mean_absolute_error: 532.3887 - val_loss: 525.9915 - val_mean_absolute_error: 525.9915\n",
            "\n",
            "Epoch 00307: val_loss did not improve from 525.80750\n",
            "Epoch 308/500\n",
            "16960/16960 [==============================] - 2s 115us/step - loss: 533.4957 - mean_absolute_error: 533.4957 - val_loss: 526.7632 - val_mean_absolute_error: 526.7632\n",
            "\n",
            "Epoch 00308: val_loss did not improve from 525.80750\n",
            "Epoch 309/500\n",
            "16960/16960 [==============================] - 2s 118us/step - loss: 533.5021 - mean_absolute_error: 533.5021 - val_loss: 530.0031 - val_mean_absolute_error: 530.0031\n",
            "\n",
            "Epoch 00309: val_loss did not improve from 525.80750\n",
            "Epoch 310/500\n",
            "16960/16960 [==============================] - 2s 117us/step - loss: 532.2665 - mean_absolute_error: 532.2665 - val_loss: 527.6712 - val_mean_absolute_error: 527.6712\n",
            "\n",
            "Epoch 00310: val_loss did not improve from 525.80750\n",
            "Epoch 311/500\n",
            "16960/16960 [==============================] - 2s 115us/step - loss: 534.2197 - mean_absolute_error: 534.2197 - val_loss: 526.1113 - val_mean_absolute_error: 526.1113\n",
            "\n",
            "Epoch 00311: val_loss did not improve from 525.80750\n",
            "Epoch 312/500\n",
            "16960/16960 [==============================] - 2s 115us/step - loss: 532.3753 - mean_absolute_error: 532.3753 - val_loss: 553.0497 - val_mean_absolute_error: 553.0497\n",
            "\n",
            "Epoch 00312: val_loss did not improve from 525.80750\n",
            "Epoch 313/500\n",
            "16960/16960 [==============================] - 2s 114us/step - loss: 534.6084 - mean_absolute_error: 534.6084 - val_loss: 538.3841 - val_mean_absolute_error: 538.3841\n",
            "\n",
            "Epoch 00313: val_loss did not improve from 525.80750\n",
            "Epoch 314/500\n",
            "16960/16960 [==============================] - 2s 114us/step - loss: 533.9343 - mean_absolute_error: 533.9343 - val_loss: 529.0235 - val_mean_absolute_error: 529.0235\n",
            "\n",
            "Epoch 00314: val_loss did not improve from 525.80750\n",
            "Epoch 315/500\n",
            "16960/16960 [==============================] - 2s 116us/step - loss: 531.8421 - mean_absolute_error: 531.8421 - val_loss: 538.1986 - val_mean_absolute_error: 538.1986\n",
            "\n",
            "Epoch 00315: val_loss did not improve from 525.80750\n",
            "Epoch 316/500\n",
            "16960/16960 [==============================] - 2s 117us/step - loss: 533.6218 - mean_absolute_error: 533.6218 - val_loss: 547.3601 - val_mean_absolute_error: 547.3601\n",
            "\n",
            "Epoch 00316: val_loss did not improve from 525.80750\n",
            "Epoch 317/500\n",
            "16960/16960 [==============================] - 2s 118us/step - loss: 533.9321 - mean_absolute_error: 533.9321 - val_loss: 529.5324 - val_mean_absolute_error: 529.5324\n",
            "\n",
            "Epoch 00317: val_loss did not improve from 525.80750\n",
            "Epoch 318/500\n",
            "16960/16960 [==============================] - 2s 121us/step - loss: 536.3889 - mean_absolute_error: 536.3889 - val_loss: 526.7664 - val_mean_absolute_error: 526.7664\n",
            "\n",
            "Epoch 00318: val_loss did not improve from 525.80750\n",
            "Epoch 319/500\n",
            "16960/16960 [==============================] - 2s 119us/step - loss: 533.3459 - mean_absolute_error: 533.3459 - val_loss: 529.9610 - val_mean_absolute_error: 529.9610\n",
            "\n",
            "Epoch 00319: val_loss did not improve from 525.80750\n",
            "Epoch 320/500\n",
            "16960/16960 [==============================] - 2s 115us/step - loss: 533.2038 - mean_absolute_error: 533.2038 - val_loss: 529.1953 - val_mean_absolute_error: 529.1953\n",
            "\n",
            "Epoch 00320: val_loss did not improve from 525.80750\n",
            "Epoch 321/500\n",
            "16960/16960 [==============================] - 2s 116us/step - loss: 533.3932 - mean_absolute_error: 533.3932 - val_loss: 528.7001 - val_mean_absolute_error: 528.7001\n",
            "\n",
            "Epoch 00321: val_loss did not improve from 525.80750\n",
            "Epoch 322/500\n",
            "16960/16960 [==============================] - 2s 117us/step - loss: 532.3248 - mean_absolute_error: 532.3248 - val_loss: 531.0808 - val_mean_absolute_error: 531.0808\n",
            "\n",
            "Epoch 00322: val_loss did not improve from 525.80750\n",
            "Epoch 323/500\n",
            "16960/16960 [==============================] - 2s 117us/step - loss: 533.0794 - mean_absolute_error: 533.0794 - val_loss: 527.4003 - val_mean_absolute_error: 527.4003\n",
            "\n",
            "Epoch 00323: val_loss did not improve from 525.80750\n",
            "Epoch 324/500\n",
            "16960/16960 [==============================] - 2s 120us/step - loss: 532.9943 - mean_absolute_error: 532.9943 - val_loss: 530.0451 - val_mean_absolute_error: 530.0451\n",
            "\n",
            "Epoch 00324: val_loss did not improve from 525.80750\n",
            "Epoch 325/500\n",
            "16960/16960 [==============================] - 2s 116us/step - loss: 530.6946 - mean_absolute_error: 530.6946 - val_loss: 528.7988 - val_mean_absolute_error: 528.7988\n",
            "\n",
            "Epoch 00325: val_loss did not improve from 525.80750\n",
            "Epoch 326/500\n",
            "16960/16960 [==============================] - 2s 118us/step - loss: 532.5312 - mean_absolute_error: 532.5312 - val_loss: 551.7682 - val_mean_absolute_error: 551.7682\n",
            "\n",
            "Epoch 00326: val_loss did not improve from 525.80750\n",
            "Epoch 327/500\n",
            "16960/16960 [==============================] - 2s 117us/step - loss: 532.1961 - mean_absolute_error: 532.1961 - val_loss: 535.0868 - val_mean_absolute_error: 535.0868\n",
            "\n",
            "Epoch 00327: val_loss did not improve from 525.80750\n",
            "Epoch 328/500\n",
            "16960/16960 [==============================] - 2s 117us/step - loss: 531.6275 - mean_absolute_error: 531.6275 - val_loss: 552.0263 - val_mean_absolute_error: 552.0263\n",
            "\n",
            "Epoch 00328: val_loss did not improve from 525.80750\n",
            "Epoch 329/500\n",
            "16960/16960 [==============================] - 2s 114us/step - loss: 531.6535 - mean_absolute_error: 531.6535 - val_loss: 534.4850 - val_mean_absolute_error: 534.4850\n",
            "\n",
            "Epoch 00329: val_loss did not improve from 525.80750\n",
            "Epoch 330/500\n",
            "16960/16960 [==============================] - 2s 115us/step - loss: 532.1060 - mean_absolute_error: 532.1060 - val_loss: 540.6961 - val_mean_absolute_error: 540.6961\n",
            "\n",
            "Epoch 00330: val_loss did not improve from 525.80750\n",
            "Epoch 331/500\n",
            "16960/16960 [==============================] - 2s 115us/step - loss: 532.1101 - mean_absolute_error: 532.1101 - val_loss: 544.1585 - val_mean_absolute_error: 544.1585\n",
            "\n",
            "Epoch 00331: val_loss did not improve from 525.80750\n",
            "Epoch 332/500\n",
            "16960/16960 [==============================] - 2s 114us/step - loss: 531.3924 - mean_absolute_error: 531.3924 - val_loss: 527.2840 - val_mean_absolute_error: 527.2840\n",
            "\n",
            "Epoch 00332: val_loss did not improve from 525.80750\n",
            "Epoch 333/500\n",
            "16960/16960 [==============================] - 2s 117us/step - loss: 531.2026 - mean_absolute_error: 531.2026 - val_loss: 527.5229 - val_mean_absolute_error: 527.5229\n",
            "\n",
            "Epoch 00333: val_loss did not improve from 525.80750\n",
            "Epoch 334/500\n",
            "16960/16960 [==============================] - 2s 116us/step - loss: 533.6601 - mean_absolute_error: 533.6601 - val_loss: 529.5785 - val_mean_absolute_error: 529.5785\n",
            "\n",
            "Epoch 00334: val_loss did not improve from 525.80750\n",
            "Epoch 335/500\n",
            "16960/16960 [==============================] - 2s 116us/step - loss: 534.0208 - mean_absolute_error: 534.0208 - val_loss: 529.4873 - val_mean_absolute_error: 529.4873\n",
            "\n",
            "Epoch 00335: val_loss did not improve from 525.80750\n",
            "Epoch 336/500\n",
            "16960/16960 [==============================] - 2s 119us/step - loss: 532.4018 - mean_absolute_error: 532.4018 - val_loss: 536.5874 - val_mean_absolute_error: 536.5874\n",
            "\n",
            "Epoch 00336: val_loss did not improve from 525.80750\n",
            "Epoch 337/500\n",
            "16960/16960 [==============================] - 2s 117us/step - loss: 531.8502 - mean_absolute_error: 531.8502 - val_loss: 547.9093 - val_mean_absolute_error: 547.9093\n",
            "\n",
            "Epoch 00337: val_loss did not improve from 525.80750\n",
            "Epoch 338/500\n",
            "16960/16960 [==============================] - 2s 115us/step - loss: 534.4932 - mean_absolute_error: 534.4932 - val_loss: 526.7688 - val_mean_absolute_error: 526.7688\n",
            "\n",
            "Epoch 00338: val_loss did not improve from 525.80750\n",
            "Epoch 339/500\n",
            "16960/16960 [==============================] - 2s 117us/step - loss: 530.9339 - mean_absolute_error: 530.9339 - val_loss: 535.0287 - val_mean_absolute_error: 535.0287\n",
            "\n",
            "Epoch 00339: val_loss did not improve from 525.80750\n",
            "Epoch 340/500\n",
            "16960/16960 [==============================] - 2s 118us/step - loss: 531.2945 - mean_absolute_error: 531.2945 - val_loss: 526.9016 - val_mean_absolute_error: 526.9016\n",
            "\n",
            "Epoch 00340: val_loss did not improve from 525.80750\n",
            "Epoch 341/500\n",
            "16960/16960 [==============================] - 2s 121us/step - loss: 532.0518 - mean_absolute_error: 532.0518 - val_loss: 554.0405 - val_mean_absolute_error: 554.0405\n",
            "\n",
            "Epoch 00341: val_loss did not improve from 525.80750\n",
            "Epoch 342/500\n",
            "16960/16960 [==============================] - 2s 121us/step - loss: 532.1937 - mean_absolute_error: 532.1937 - val_loss: 532.4549 - val_mean_absolute_error: 532.4549\n",
            "\n",
            "Epoch 00342: val_loss did not improve from 525.80750\n",
            "Epoch 343/500\n",
            "16960/16960 [==============================] - 2s 120us/step - loss: 533.5736 - mean_absolute_error: 533.5736 - val_loss: 550.9621 - val_mean_absolute_error: 550.9621\n",
            "\n",
            "Epoch 00343: val_loss did not improve from 525.80750\n",
            "Epoch 344/500\n",
            "16960/16960 [==============================] - 2s 122us/step - loss: 530.5132 - mean_absolute_error: 530.5132 - val_loss: 537.3125 - val_mean_absolute_error: 537.3125\n",
            "\n",
            "Epoch 00344: val_loss did not improve from 525.80750\n",
            "Epoch 345/500\n",
            "16960/16960 [==============================] - 2s 123us/step - loss: 533.5607 - mean_absolute_error: 533.5607 - val_loss: 529.5456 - val_mean_absolute_error: 529.5456\n",
            "\n",
            "Epoch 00345: val_loss did not improve from 525.80750\n",
            "Epoch 346/500\n",
            "16960/16960 [==============================] - 2s 116us/step - loss: 531.6611 - mean_absolute_error: 531.6611 - val_loss: 530.6266 - val_mean_absolute_error: 530.6266\n",
            "\n",
            "Epoch 00346: val_loss did not improve from 525.80750\n",
            "Epoch 347/500\n",
            "16960/16960 [==============================] - 2s 114us/step - loss: 531.5146 - mean_absolute_error: 531.5146 - val_loss: 534.7205 - val_mean_absolute_error: 534.7205\n",
            "\n",
            "Epoch 00347: val_loss did not improve from 525.80750\n",
            "Epoch 348/500\n",
            "16960/16960 [==============================] - 2s 116us/step - loss: 530.0434 - mean_absolute_error: 530.0434 - val_loss: 539.0790 - val_mean_absolute_error: 539.0790\n",
            "\n",
            "Epoch 00348: val_loss did not improve from 525.80750\n",
            "Epoch 349/500\n",
            "16960/16960 [==============================] - 2s 117us/step - loss: 531.6694 - mean_absolute_error: 531.6694 - val_loss: 530.6535 - val_mean_absolute_error: 530.6535\n",
            "\n",
            "Epoch 00349: val_loss did not improve from 525.80750\n",
            "Epoch 350/500\n",
            "16960/16960 [==============================] - 2s 118us/step - loss: 530.9714 - mean_absolute_error: 530.9714 - val_loss: 536.0829 - val_mean_absolute_error: 536.0829\n",
            "\n",
            "Epoch 00350: val_loss did not improve from 525.80750\n",
            "Epoch 351/500\n",
            "16960/16960 [==============================] - 2s 118us/step - loss: 531.9122 - mean_absolute_error: 531.9122 - val_loss: 528.9426 - val_mean_absolute_error: 528.9426\n",
            "\n",
            "Epoch 00351: val_loss did not improve from 525.80750\n",
            "Epoch 352/500\n",
            "16960/16960 [==============================] - 2s 117us/step - loss: 531.6432 - mean_absolute_error: 531.6432 - val_loss: 528.1565 - val_mean_absolute_error: 528.1565\n",
            "\n",
            "Epoch 00352: val_loss did not improve from 525.80750\n",
            "Epoch 353/500\n",
            "16960/16960 [==============================] - 2s 115us/step - loss: 530.8732 - mean_absolute_error: 530.8732 - val_loss: 530.4626 - val_mean_absolute_error: 530.4626\n",
            "\n",
            "Epoch 00353: val_loss did not improve from 525.80750\n",
            "Epoch 354/500\n",
            "16960/16960 [==============================] - 2s 115us/step - loss: 534.4433 - mean_absolute_error: 534.4433 - val_loss: 547.0425 - val_mean_absolute_error: 547.0425\n",
            "\n",
            "Epoch 00354: val_loss did not improve from 525.80750\n",
            "Epoch 355/500\n",
            "16960/16960 [==============================] - 2s 113us/step - loss: 533.1969 - mean_absolute_error: 533.1969 - val_loss: 533.4422 - val_mean_absolute_error: 533.4422\n",
            "\n",
            "Epoch 00355: val_loss did not improve from 525.80750\n",
            "Epoch 356/500\n",
            "16960/16960 [==============================] - 2s 117us/step - loss: 531.8697 - mean_absolute_error: 531.8697 - val_loss: 529.3118 - val_mean_absolute_error: 529.3118\n",
            "\n",
            "Epoch 00356: val_loss did not improve from 525.80750\n",
            "Epoch 357/500\n",
            "16960/16960 [==============================] - 2s 115us/step - loss: 531.7049 - mean_absolute_error: 531.7049 - val_loss: 526.7006 - val_mean_absolute_error: 526.7006\n",
            "\n",
            "Epoch 00357: val_loss did not improve from 525.80750\n",
            "Epoch 358/500\n",
            "16960/16960 [==============================] - 2s 116us/step - loss: 531.3015 - mean_absolute_error: 531.3015 - val_loss: 528.4832 - val_mean_absolute_error: 528.4832\n",
            "\n",
            "Epoch 00358: val_loss did not improve from 525.80750\n",
            "Epoch 359/500\n",
            "16960/16960 [==============================] - 2s 117us/step - loss: 532.3137 - mean_absolute_error: 532.3137 - val_loss: 526.8661 - val_mean_absolute_error: 526.8661\n",
            "\n",
            "Epoch 00359: val_loss did not improve from 525.80750\n",
            "Epoch 360/500\n",
            "16960/16960 [==============================] - 2s 118us/step - loss: 530.5985 - mean_absolute_error: 530.5985 - val_loss: 529.4052 - val_mean_absolute_error: 529.4052\n",
            "\n",
            "Epoch 00360: val_loss did not improve from 525.80750\n",
            "Epoch 361/500\n",
            "16960/16960 [==============================] - 2s 116us/step - loss: 531.4621 - mean_absolute_error: 531.4621 - val_loss: 527.1179 - val_mean_absolute_error: 527.1179\n",
            "\n",
            "Epoch 00361: val_loss did not improve from 525.80750\n",
            "Epoch 362/500\n",
            "16960/16960 [==============================] - 2s 119us/step - loss: 531.0306 - mean_absolute_error: 531.0306 - val_loss: 534.6096 - val_mean_absolute_error: 534.6096\n",
            "\n",
            "Epoch 00362: val_loss did not improve from 525.80750\n",
            "Epoch 363/500\n",
            "16960/16960 [==============================] - 2s 118us/step - loss: 530.4059 - mean_absolute_error: 530.4059 - val_loss: 539.3743 - val_mean_absolute_error: 539.3743\n",
            "\n",
            "Epoch 00363: val_loss did not improve from 525.80750\n",
            "Epoch 364/500\n",
            "16960/16960 [==============================] - 2s 119us/step - loss: 531.2015 - mean_absolute_error: 531.2015 - val_loss: 530.7117 - val_mean_absolute_error: 530.7117\n",
            "\n",
            "Epoch 00364: val_loss did not improve from 525.80750\n",
            "Epoch 365/500\n",
            "16960/16960 [==============================] - 2s 114us/step - loss: 530.9784 - mean_absolute_error: 530.9784 - val_loss: 528.9600 - val_mean_absolute_error: 528.9600\n",
            "\n",
            "Epoch 00365: val_loss did not improve from 525.80750\n",
            "Epoch 366/500\n",
            "16960/16960 [==============================] - 2s 119us/step - loss: 528.8268 - mean_absolute_error: 528.8268 - val_loss: 528.2678 - val_mean_absolute_error: 528.2678\n",
            "\n",
            "Epoch 00366: val_loss did not improve from 525.80750\n",
            "Epoch 367/500\n",
            "16960/16960 [==============================] - 2s 116us/step - loss: 530.7882 - mean_absolute_error: 530.7882 - val_loss: 534.7803 - val_mean_absolute_error: 534.7803\n",
            "\n",
            "Epoch 00367: val_loss did not improve from 525.80750\n",
            "Epoch 368/500\n",
            "16960/16960 [==============================] - 2s 116us/step - loss: 532.3056 - mean_absolute_error: 532.3056 - val_loss: 531.0170 - val_mean_absolute_error: 531.0170\n",
            "\n",
            "Epoch 00368: val_loss did not improve from 525.80750\n",
            "Epoch 369/500\n",
            "16960/16960 [==============================] - 2s 116us/step - loss: 530.3401 - mean_absolute_error: 530.3401 - val_loss: 554.4266 - val_mean_absolute_error: 554.4266\n",
            "\n",
            "Epoch 00369: val_loss did not improve from 525.80750\n",
            "Epoch 370/500\n",
            "16960/16960 [==============================] - 2s 115us/step - loss: 528.8610 - mean_absolute_error: 528.8610 - val_loss: 531.5545 - val_mean_absolute_error: 531.5545\n",
            "\n",
            "Epoch 00370: val_loss did not improve from 525.80750\n",
            "Epoch 371/500\n",
            "16960/16960 [==============================] - 2s 118us/step - loss: 531.8715 - mean_absolute_error: 531.8715 - val_loss: 536.0313 - val_mean_absolute_error: 536.0313\n",
            "\n",
            "Epoch 00371: val_loss did not improve from 525.80750\n",
            "Epoch 372/500\n",
            "16960/16960 [==============================] - 2s 117us/step - loss: 529.2170 - mean_absolute_error: 529.2170 - val_loss: 532.3462 - val_mean_absolute_error: 532.3462\n",
            "\n",
            "Epoch 00372: val_loss did not improve from 525.80750\n",
            "Epoch 373/500\n",
            "16960/16960 [==============================] - 2s 116us/step - loss: 529.7890 - mean_absolute_error: 529.7890 - val_loss: 527.3475 - val_mean_absolute_error: 527.3475\n",
            "\n",
            "Epoch 00373: val_loss did not improve from 525.80750\n",
            "Epoch 374/500\n",
            "16960/16960 [==============================] - 2s 115us/step - loss: 536.4467 - mean_absolute_error: 536.4467 - val_loss: 602.4881 - val_mean_absolute_error: 602.4881\n",
            "\n",
            "Epoch 00374: val_loss did not improve from 525.80750\n",
            "Epoch 375/500\n",
            "16960/16960 [==============================] - 2s 118us/step - loss: 530.9996 - mean_absolute_error: 530.9996 - val_loss: 533.3575 - val_mean_absolute_error: 533.3575\n",
            "\n",
            "Epoch 00375: val_loss did not improve from 525.80750\n",
            "Epoch 376/500\n",
            "16960/16960 [==============================] - 2s 115us/step - loss: 532.0804 - mean_absolute_error: 532.0804 - val_loss: 529.7380 - val_mean_absolute_error: 529.7380\n",
            "\n",
            "Epoch 00376: val_loss did not improve from 525.80750\n",
            "Epoch 377/500\n",
            "16960/16960 [==============================] - 2s 115us/step - loss: 531.8537 - mean_absolute_error: 531.8537 - val_loss: 548.8402 - val_mean_absolute_error: 548.8402\n",
            "\n",
            "Epoch 00377: val_loss did not improve from 525.80750\n",
            "Epoch 378/500\n",
            "16960/16960 [==============================] - 2s 114us/step - loss: 529.0058 - mean_absolute_error: 529.0058 - val_loss: 529.1023 - val_mean_absolute_error: 529.1023\n",
            "\n",
            "Epoch 00378: val_loss did not improve from 525.80750\n",
            "Epoch 379/500\n",
            "16960/16960 [==============================] - 2s 115us/step - loss: 529.3055 - mean_absolute_error: 529.3055 - val_loss: 536.2764 - val_mean_absolute_error: 536.2764\n",
            "\n",
            "Epoch 00379: val_loss did not improve from 525.80750\n",
            "Epoch 380/500\n",
            "16960/16960 [==============================] - 2s 116us/step - loss: 530.0408 - mean_absolute_error: 530.0408 - val_loss: 530.9949 - val_mean_absolute_error: 530.9949\n",
            "\n",
            "Epoch 00380: val_loss did not improve from 525.80750\n",
            "Epoch 381/500\n",
            "16960/16960 [==============================] - 2s 117us/step - loss: 530.3855 - mean_absolute_error: 530.3855 - val_loss: 534.2885 - val_mean_absolute_error: 534.2885\n",
            "\n",
            "Epoch 00381: val_loss did not improve from 525.80750\n",
            "Epoch 382/500\n",
            "16960/16960 [==============================] - 2s 116us/step - loss: 529.2116 - mean_absolute_error: 529.2116 - val_loss: 529.0184 - val_mean_absolute_error: 529.0184\n",
            "\n",
            "Epoch 00382: val_loss did not improve from 525.80750\n",
            "Epoch 383/500\n",
            "16960/16960 [==============================] - 2s 118us/step - loss: 529.1292 - mean_absolute_error: 529.1292 - val_loss: 535.6867 - val_mean_absolute_error: 535.6867\n",
            "\n",
            "Epoch 00383: val_loss did not improve from 525.80750\n",
            "Epoch 384/500\n",
            "16960/16960 [==============================] - 2s 116us/step - loss: 531.2029 - mean_absolute_error: 531.2029 - val_loss: 540.5389 - val_mean_absolute_error: 540.5389\n",
            "\n",
            "Epoch 00384: val_loss did not improve from 525.80750\n",
            "Epoch 385/500\n",
            "16960/16960 [==============================] - 2s 115us/step - loss: 530.1309 - mean_absolute_error: 530.1309 - val_loss: 532.5516 - val_mean_absolute_error: 532.5516\n",
            "\n",
            "Epoch 00385: val_loss did not improve from 525.80750\n",
            "Epoch 386/500\n",
            "16960/16960 [==============================] - 2s 116us/step - loss: 532.6458 - mean_absolute_error: 532.6458 - val_loss: 529.4603 - val_mean_absolute_error: 529.4603\n",
            "\n",
            "Epoch 00386: val_loss did not improve from 525.80750\n",
            "Epoch 387/500\n",
            "16960/16960 [==============================] - 2s 113us/step - loss: 530.3574 - mean_absolute_error: 530.3574 - val_loss: 528.3444 - val_mean_absolute_error: 528.3444\n",
            "\n",
            "Epoch 00387: val_loss did not improve from 525.80750\n",
            "Epoch 388/500\n",
            "16960/16960 [==============================] - 2s 114us/step - loss: 530.8886 - mean_absolute_error: 530.8886 - val_loss: 529.0503 - val_mean_absolute_error: 529.0503\n",
            "\n",
            "Epoch 00388: val_loss did not improve from 525.80750\n",
            "Epoch 389/500\n",
            "16960/16960 [==============================] - 2s 116us/step - loss: 529.8210 - mean_absolute_error: 529.8210 - val_loss: 528.2895 - val_mean_absolute_error: 528.2895\n",
            "\n",
            "Epoch 00389: val_loss did not improve from 525.80750\n",
            "Epoch 390/500\n",
            "16960/16960 [==============================] - 2s 115us/step - loss: 529.8261 - mean_absolute_error: 529.8261 - val_loss: 543.5229 - val_mean_absolute_error: 543.5229\n",
            "\n",
            "Epoch 00390: val_loss did not improve from 525.80750\n",
            "Epoch 391/500\n",
            "16960/16960 [==============================] - 2s 114us/step - loss: 530.7432 - mean_absolute_error: 530.7432 - val_loss: 537.4333 - val_mean_absolute_error: 537.4333\n",
            "\n",
            "Epoch 00391: val_loss did not improve from 525.80750\n",
            "Epoch 392/500\n",
            "16960/16960 [==============================] - 2s 115us/step - loss: 529.3682 - mean_absolute_error: 529.3682 - val_loss: 538.5305 - val_mean_absolute_error: 538.5305\n",
            "\n",
            "Epoch 00392: val_loss did not improve from 525.80750\n",
            "Epoch 393/500\n",
            "16960/16960 [==============================] - 2s 115us/step - loss: 530.4338 - mean_absolute_error: 530.4338 - val_loss: 529.7326 - val_mean_absolute_error: 529.7326\n",
            "\n",
            "Epoch 00393: val_loss did not improve from 525.80750\n",
            "Epoch 394/500\n",
            "16960/16960 [==============================] - 2s 115us/step - loss: 529.4704 - mean_absolute_error: 529.4704 - val_loss: 527.1255 - val_mean_absolute_error: 527.1255\n",
            "\n",
            "Epoch 00394: val_loss did not improve from 525.80750\n",
            "Epoch 395/500\n",
            "16960/16960 [==============================] - 2s 114us/step - loss: 530.8522 - mean_absolute_error: 530.8522 - val_loss: 570.3624 - val_mean_absolute_error: 570.3624\n",
            "\n",
            "Epoch 00395: val_loss did not improve from 525.80750\n",
            "Epoch 396/500\n",
            "16960/16960 [==============================] - 2s 115us/step - loss: 531.2851 - mean_absolute_error: 531.2851 - val_loss: 529.5501 - val_mean_absolute_error: 529.5501\n",
            "\n",
            "Epoch 00396: val_loss did not improve from 525.80750\n",
            "Epoch 397/500\n",
            "16960/16960 [==============================] - 2s 117us/step - loss: 528.4826 - mean_absolute_error: 528.4826 - val_loss: 540.2582 - val_mean_absolute_error: 540.2582\n",
            "\n",
            "Epoch 00397: val_loss did not improve from 525.80750\n",
            "Epoch 398/500\n",
            "16960/16960 [==============================] - 2s 118us/step - loss: 530.1089 - mean_absolute_error: 530.1089 - val_loss: 532.9366 - val_mean_absolute_error: 532.9366\n",
            "\n",
            "Epoch 00398: val_loss did not improve from 525.80750\n",
            "Epoch 399/500\n",
            "16960/16960 [==============================] - 2s 119us/step - loss: 529.3823 - mean_absolute_error: 529.3823 - val_loss: 536.1731 - val_mean_absolute_error: 536.1731\n",
            "\n",
            "Epoch 00399: val_loss did not improve from 525.80750\n",
            "Epoch 400/500\n",
            "16960/16960 [==============================] - 2s 117us/step - loss: 530.5515 - mean_absolute_error: 530.5515 - val_loss: 542.3413 - val_mean_absolute_error: 542.3413\n",
            "\n",
            "Epoch 00400: val_loss did not improve from 525.80750\n",
            "Epoch 401/500\n",
            "16960/16960 [==============================] - 2s 116us/step - loss: 528.8873 - mean_absolute_error: 528.8873 - val_loss: 533.4282 - val_mean_absolute_error: 533.4282\n",
            "\n",
            "Epoch 00401: val_loss did not improve from 525.80750\n",
            "Epoch 402/500\n",
            "16960/16960 [==============================] - 2s 116us/step - loss: 528.8925 - mean_absolute_error: 528.8925 - val_loss: 535.0589 - val_mean_absolute_error: 535.0589\n",
            "\n",
            "Epoch 00402: val_loss did not improve from 525.80750\n",
            "Epoch 403/500\n",
            "16960/16960 [==============================] - 2s 114us/step - loss: 529.7723 - mean_absolute_error: 529.7723 - val_loss: 529.7557 - val_mean_absolute_error: 529.7557\n",
            "\n",
            "Epoch 00403: val_loss did not improve from 525.80750\n",
            "Epoch 404/500\n",
            "16960/16960 [==============================] - 2s 120us/step - loss: 530.2124 - mean_absolute_error: 530.2124 - val_loss: 538.1529 - val_mean_absolute_error: 538.1529\n",
            "\n",
            "Epoch 00404: val_loss did not improve from 525.80750\n",
            "Epoch 405/500\n",
            "16960/16960 [==============================] - 2s 117us/step - loss: 529.6094 - mean_absolute_error: 529.6094 - val_loss: 533.3194 - val_mean_absolute_error: 533.3194\n",
            "\n",
            "Epoch 00405: val_loss did not improve from 525.80750\n",
            "Epoch 406/500\n",
            "16960/16960 [==============================] - 2s 114us/step - loss: 530.2120 - mean_absolute_error: 530.2120 - val_loss: 530.2178 - val_mean_absolute_error: 530.2178\n",
            "\n",
            "Epoch 00406: val_loss did not improve from 525.80750\n",
            "Epoch 407/500\n",
            "16960/16960 [==============================] - 2s 115us/step - loss: 529.3207 - mean_absolute_error: 529.3207 - val_loss: 529.8834 - val_mean_absolute_error: 529.8834\n",
            "\n",
            "Epoch 00407: val_loss did not improve from 525.80750\n",
            "Epoch 408/500\n",
            "16960/16960 [==============================] - 2s 117us/step - loss: 529.3375 - mean_absolute_error: 529.3375 - val_loss: 528.9443 - val_mean_absolute_error: 528.9443\n",
            "\n",
            "Epoch 00408: val_loss did not improve from 525.80750\n",
            "Epoch 409/500\n",
            "16960/16960 [==============================] - 2s 115us/step - loss: 528.7832 - mean_absolute_error: 528.7832 - val_loss: 529.6247 - val_mean_absolute_error: 529.6247\n",
            "\n",
            "Epoch 00409: val_loss did not improve from 525.80750\n",
            "Epoch 410/500\n",
            "16960/16960 [==============================] - 2s 115us/step - loss: 527.7144 - mean_absolute_error: 527.7144 - val_loss: 530.4499 - val_mean_absolute_error: 530.4499\n",
            "\n",
            "Epoch 00410: val_loss did not improve from 525.80750\n",
            "Epoch 411/500\n",
            "16960/16960 [==============================] - 2s 118us/step - loss: 529.4141 - mean_absolute_error: 529.4141 - val_loss: 538.3378 - val_mean_absolute_error: 538.3378\n",
            "\n",
            "Epoch 00411: val_loss did not improve from 525.80750\n",
            "Epoch 412/500\n",
            "16960/16960 [==============================] - 2s 115us/step - loss: 528.9817 - mean_absolute_error: 528.9817 - val_loss: 532.4559 - val_mean_absolute_error: 532.4559\n",
            "\n",
            "Epoch 00412: val_loss did not improve from 525.80750\n",
            "Epoch 413/500\n",
            "16960/16960 [==============================] - 2s 118us/step - loss: 530.9440 - mean_absolute_error: 530.9440 - val_loss: 529.2557 - val_mean_absolute_error: 529.2557\n",
            "\n",
            "Epoch 00413: val_loss did not improve from 525.80750\n",
            "Epoch 414/500\n",
            "16960/16960 [==============================] - 2s 116us/step - loss: 527.8698 - mean_absolute_error: 527.8698 - val_loss: 531.5109 - val_mean_absolute_error: 531.5109\n",
            "\n",
            "Epoch 00414: val_loss did not improve from 525.80750\n",
            "Epoch 415/500\n",
            "16960/16960 [==============================] - 2s 117us/step - loss: 527.2938 - mean_absolute_error: 527.2938 - val_loss: 534.4318 - val_mean_absolute_error: 534.4318\n",
            "\n",
            "Epoch 00415: val_loss did not improve from 525.80750\n",
            "Epoch 416/500\n",
            "16960/16960 [==============================] - 2s 116us/step - loss: 528.8270 - mean_absolute_error: 528.8270 - val_loss: 528.3133 - val_mean_absolute_error: 528.3133\n",
            "\n",
            "Epoch 00416: val_loss did not improve from 525.80750\n",
            "Epoch 417/500\n",
            "16960/16960 [==============================] - 2s 117us/step - loss: 528.7202 - mean_absolute_error: 528.7202 - val_loss: 529.1313 - val_mean_absolute_error: 529.1313\n",
            "\n",
            "Epoch 00417: val_loss did not improve from 525.80750\n",
            "Epoch 418/500\n",
            "16960/16960 [==============================] - 2s 115us/step - loss: 529.1886 - mean_absolute_error: 529.1886 - val_loss: 541.2215 - val_mean_absolute_error: 541.2215\n",
            "\n",
            "Epoch 00418: val_loss did not improve from 525.80750\n",
            "Epoch 419/500\n",
            "16960/16960 [==============================] - 2s 114us/step - loss: 529.2362 - mean_absolute_error: 529.2362 - val_loss: 530.2686 - val_mean_absolute_error: 530.2686\n",
            "\n",
            "Epoch 00419: val_loss did not improve from 525.80750\n",
            "Epoch 420/500\n",
            "16960/16960 [==============================] - 2s 118us/step - loss: 529.3638 - mean_absolute_error: 529.3638 - val_loss: 529.6824 - val_mean_absolute_error: 529.6824\n",
            "\n",
            "Epoch 00420: val_loss did not improve from 525.80750\n",
            "Epoch 421/500\n",
            "16960/16960 [==============================] - 2s 114us/step - loss: 529.0082 - mean_absolute_error: 529.0082 - val_loss: 528.5700 - val_mean_absolute_error: 528.5700\n",
            "\n",
            "Epoch 00421: val_loss did not improve from 525.80750\n",
            "Epoch 422/500\n",
            "16960/16960 [==============================] - 2s 117us/step - loss: 526.9510 - mean_absolute_error: 526.9510 - val_loss: 552.0862 - val_mean_absolute_error: 552.0862\n",
            "\n",
            "Epoch 00422: val_loss did not improve from 525.80750\n",
            "Epoch 423/500\n",
            "16960/16960 [==============================] - 2s 114us/step - loss: 530.2932 - mean_absolute_error: 530.2932 - val_loss: 528.4381 - val_mean_absolute_error: 528.4381\n",
            "\n",
            "Epoch 00423: val_loss did not improve from 525.80750\n",
            "Epoch 424/500\n",
            "16960/16960 [==============================] - 2s 117us/step - loss: 527.6609 - mean_absolute_error: 527.6609 - val_loss: 531.0264 - val_mean_absolute_error: 531.0264\n",
            "\n",
            "Epoch 00424: val_loss did not improve from 525.80750\n",
            "Epoch 425/500\n",
            "16960/16960 [==============================] - 2s 114us/step - loss: 527.2787 - mean_absolute_error: 527.2787 - val_loss: 531.4074 - val_mean_absolute_error: 531.4074\n",
            "\n",
            "Epoch 00425: val_loss did not improve from 525.80750\n",
            "Epoch 426/500\n",
            "16960/16960 [==============================] - 2s 119us/step - loss: 530.5267 - mean_absolute_error: 530.5267 - val_loss: 534.0585 - val_mean_absolute_error: 534.0585\n",
            "\n",
            "Epoch 00426: val_loss did not improve from 525.80750\n",
            "Epoch 427/500\n",
            "16960/16960 [==============================] - 2s 116us/step - loss: 528.0493 - mean_absolute_error: 528.0493 - val_loss: 531.5831 - val_mean_absolute_error: 531.5831\n",
            "\n",
            "Epoch 00427: val_loss did not improve from 525.80750\n",
            "Epoch 428/500\n",
            "16960/16960 [==============================] - 2s 117us/step - loss: 528.0299 - mean_absolute_error: 528.0299 - val_loss: 554.5244 - val_mean_absolute_error: 554.5244\n",
            "\n",
            "Epoch 00428: val_loss did not improve from 525.80750\n",
            "Epoch 429/500\n",
            "16960/16960 [==============================] - 2s 115us/step - loss: 528.7500 - mean_absolute_error: 528.7500 - val_loss: 528.6677 - val_mean_absolute_error: 528.6677\n",
            "\n",
            "Epoch 00429: val_loss did not improve from 525.80750\n",
            "Epoch 430/500\n",
            "16960/16960 [==============================] - 2s 117us/step - loss: 528.7902 - mean_absolute_error: 528.7902 - val_loss: 532.5206 - val_mean_absolute_error: 532.5206\n",
            "\n",
            "Epoch 00430: val_loss did not improve from 525.80750\n",
            "Epoch 431/500\n",
            "16960/16960 [==============================] - 2s 116us/step - loss: 527.5542 - mean_absolute_error: 527.5542 - val_loss: 531.9395 - val_mean_absolute_error: 531.9395\n",
            "\n",
            "Epoch 00431: val_loss did not improve from 525.80750\n",
            "Epoch 432/500\n",
            "16960/16960 [==============================] - 2s 115us/step - loss: 529.0267 - mean_absolute_error: 529.0267 - val_loss: 531.3614 - val_mean_absolute_error: 531.3614\n",
            "\n",
            "Epoch 00432: val_loss did not improve from 525.80750\n",
            "Epoch 433/500\n",
            "16960/16960 [==============================] - 2s 118us/step - loss: 526.1971 - mean_absolute_error: 526.1971 - val_loss: 533.3636 - val_mean_absolute_error: 533.3636\n",
            "\n",
            "Epoch 00433: val_loss did not improve from 525.80750\n",
            "Epoch 434/500\n",
            "16960/16960 [==============================] - 2s 118us/step - loss: 529.5060 - mean_absolute_error: 529.5060 - val_loss: 529.4129 - val_mean_absolute_error: 529.4129\n",
            "\n",
            "Epoch 00434: val_loss did not improve from 525.80750\n",
            "Epoch 435/500\n",
            "16960/16960 [==============================] - 2s 115us/step - loss: 527.8138 - mean_absolute_error: 527.8138 - val_loss: 537.5598 - val_mean_absolute_error: 537.5598\n",
            "\n",
            "Epoch 00435: val_loss did not improve from 525.80750\n",
            "Epoch 436/500\n",
            "16960/16960 [==============================] - 2s 114us/step - loss: 527.5318 - mean_absolute_error: 527.5318 - val_loss: 528.5974 - val_mean_absolute_error: 528.5974\n",
            "\n",
            "Epoch 00436: val_loss did not improve from 525.80750\n",
            "Epoch 437/500\n",
            "16960/16960 [==============================] - 2s 116us/step - loss: 526.1450 - mean_absolute_error: 526.1450 - val_loss: 536.5366 - val_mean_absolute_error: 536.5366\n",
            "\n",
            "Epoch 00437: val_loss did not improve from 525.80750\n",
            "Epoch 438/500\n",
            "16960/16960 [==============================] - 2s 117us/step - loss: 528.4840 - mean_absolute_error: 528.4840 - val_loss: 539.0040 - val_mean_absolute_error: 539.0040\n",
            "\n",
            "Epoch 00438: val_loss did not improve from 525.80750\n",
            "Epoch 439/500\n",
            "16960/16960 [==============================] - 2s 119us/step - loss: 527.3260 - mean_absolute_error: 527.3260 - val_loss: 539.4529 - val_mean_absolute_error: 539.4529\n",
            "\n",
            "Epoch 00439: val_loss did not improve from 525.80750\n",
            "Epoch 440/500\n",
            "16960/16960 [==============================] - 2s 114us/step - loss: 528.5521 - mean_absolute_error: 528.5521 - val_loss: 527.7451 - val_mean_absolute_error: 527.7451\n",
            "\n",
            "Epoch 00440: val_loss did not improve from 525.80750\n",
            "Epoch 441/500\n",
            "16960/16960 [==============================] - 2s 115us/step - loss: 529.0795 - mean_absolute_error: 529.0795 - val_loss: 540.9416 - val_mean_absolute_error: 540.9416\n",
            "\n",
            "Epoch 00441: val_loss did not improve from 525.80750\n",
            "Epoch 442/500\n",
            "16960/16960 [==============================] - 2s 116us/step - loss: 528.6597 - mean_absolute_error: 528.6597 - val_loss: 540.2830 - val_mean_absolute_error: 540.2830\n",
            "\n",
            "Epoch 00442: val_loss did not improve from 525.80750\n",
            "Epoch 443/500\n",
            "16960/16960 [==============================] - 2s 114us/step - loss: 527.3728 - mean_absolute_error: 527.3728 - val_loss: 531.4292 - val_mean_absolute_error: 531.4292\n",
            "\n",
            "Epoch 00443: val_loss did not improve from 525.80750\n",
            "Epoch 444/500\n",
            "16960/16960 [==============================] - 2s 119us/step - loss: 527.5699 - mean_absolute_error: 527.5699 - val_loss: 531.3979 - val_mean_absolute_error: 531.3979\n",
            "\n",
            "Epoch 00444: val_loss did not improve from 525.80750\n",
            "Epoch 445/500\n",
            "16960/16960 [==============================] - 2s 119us/step - loss: 527.5839 - mean_absolute_error: 527.5839 - val_loss: 531.5622 - val_mean_absolute_error: 531.5622\n",
            "\n",
            "Epoch 00445: val_loss did not improve from 525.80750\n",
            "Epoch 446/500\n",
            "16960/16960 [==============================] - 2s 115us/step - loss: 527.1871 - mean_absolute_error: 527.1871 - val_loss: 536.9915 - val_mean_absolute_error: 536.9915\n",
            "\n",
            "Epoch 00446: val_loss did not improve from 525.80750\n",
            "Epoch 447/500\n",
            "16960/16960 [==============================] - 2s 117us/step - loss: 528.6311 - mean_absolute_error: 528.6311 - val_loss: 535.5159 - val_mean_absolute_error: 535.5159\n",
            "\n",
            "Epoch 00447: val_loss did not improve from 525.80750\n",
            "Epoch 448/500\n",
            "16960/16960 [==============================] - 2s 116us/step - loss: 528.3465 - mean_absolute_error: 528.3465 - val_loss: 538.8281 - val_mean_absolute_error: 538.8281\n",
            "\n",
            "Epoch 00448: val_loss did not improve from 525.80750\n",
            "Epoch 449/500\n",
            "16960/16960 [==============================] - 2s 118us/step - loss: 527.8433 - mean_absolute_error: 527.8433 - val_loss: 534.1629 - val_mean_absolute_error: 534.1629\n",
            "\n",
            "Epoch 00449: val_loss did not improve from 525.80750\n",
            "Epoch 450/500\n",
            "16960/16960 [==============================] - 2s 116us/step - loss: 526.8912 - mean_absolute_error: 526.8912 - val_loss: 531.5992 - val_mean_absolute_error: 531.5992\n",
            "\n",
            "Epoch 00450: val_loss did not improve from 525.80750\n",
            "Epoch 451/500\n",
            "16960/16960 [==============================] - 2s 115us/step - loss: 526.8494 - mean_absolute_error: 526.8494 - val_loss: 528.3447 - val_mean_absolute_error: 528.3447\n",
            "\n",
            "Epoch 00451: val_loss did not improve from 525.80750\n",
            "Epoch 452/500\n",
            "16960/16960 [==============================] - 2s 117us/step - loss: 526.8462 - mean_absolute_error: 526.8462 - val_loss: 543.2548 - val_mean_absolute_error: 543.2548\n",
            "\n",
            "Epoch 00452: val_loss did not improve from 525.80750\n",
            "Epoch 453/500\n",
            "16960/16960 [==============================] - 2s 115us/step - loss: 528.1698 - mean_absolute_error: 528.1698 - val_loss: 531.1109 - val_mean_absolute_error: 531.1109\n",
            "\n",
            "Epoch 00453: val_loss did not improve from 525.80750\n",
            "Epoch 454/500\n",
            "16960/16960 [==============================] - 2s 114us/step - loss: 527.4520 - mean_absolute_error: 527.4520 - val_loss: 533.6372 - val_mean_absolute_error: 533.6372\n",
            "\n",
            "Epoch 00454: val_loss did not improve from 525.80750\n",
            "Epoch 455/500\n",
            "16960/16960 [==============================] - 2s 116us/step - loss: 527.0021 - mean_absolute_error: 527.0021 - val_loss: 531.9017 - val_mean_absolute_error: 531.9017\n",
            "\n",
            "Epoch 00455: val_loss did not improve from 525.80750\n",
            "Epoch 456/500\n",
            "16960/16960 [==============================] - 2s 113us/step - loss: 527.9787 - mean_absolute_error: 527.9787 - val_loss: 542.6005 - val_mean_absolute_error: 542.6005\n",
            "\n",
            "Epoch 00456: val_loss did not improve from 525.80750\n",
            "Epoch 457/500\n",
            "16960/16960 [==============================] - 2s 117us/step - loss: 528.0485 - mean_absolute_error: 528.0485 - val_loss: 534.3301 - val_mean_absolute_error: 534.3301\n",
            "\n",
            "Epoch 00457: val_loss did not improve from 525.80750\n",
            "Epoch 458/500\n",
            "16960/16960 [==============================] - 2s 115us/step - loss: 525.6334 - mean_absolute_error: 525.6334 - val_loss: 536.4566 - val_mean_absolute_error: 536.4566\n",
            "\n",
            "Epoch 00458: val_loss did not improve from 525.80750\n",
            "Epoch 459/500\n",
            "16960/16960 [==============================] - 2s 114us/step - loss: 526.9320 - mean_absolute_error: 526.9320 - val_loss: 539.4872 - val_mean_absolute_error: 539.4872\n",
            "\n",
            "Epoch 00459: val_loss did not improve from 525.80750\n",
            "Epoch 460/500\n",
            "16960/16960 [==============================] - 2s 120us/step - loss: 527.3047 - mean_absolute_error: 527.3047 - val_loss: 537.8092 - val_mean_absolute_error: 537.8092\n",
            "\n",
            "Epoch 00460: val_loss did not improve from 525.80750\n",
            "Epoch 461/500\n",
            "16960/16960 [==============================] - 2s 116us/step - loss: 524.4702 - mean_absolute_error: 524.4702 - val_loss: 536.9082 - val_mean_absolute_error: 536.9082\n",
            "\n",
            "Epoch 00461: val_loss did not improve from 525.80750\n",
            "Epoch 462/500\n",
            "16960/16960 [==============================] - 2s 118us/step - loss: 528.2559 - mean_absolute_error: 528.2559 - val_loss: 534.2012 - val_mean_absolute_error: 534.2012\n",
            "\n",
            "Epoch 00462: val_loss did not improve from 525.80750\n",
            "Epoch 463/500\n",
            "16960/16960 [==============================] - 2s 115us/step - loss: 528.4134 - mean_absolute_error: 528.4134 - val_loss: 532.7240 - val_mean_absolute_error: 532.7240\n",
            "\n",
            "Epoch 00463: val_loss did not improve from 525.80750\n",
            "Epoch 464/500\n",
            "16960/16960 [==============================] - 2s 114us/step - loss: 528.9913 - mean_absolute_error: 528.9913 - val_loss: 530.1324 - val_mean_absolute_error: 530.1324\n",
            "\n",
            "Epoch 00464: val_loss did not improve from 525.80750\n",
            "Epoch 465/500\n",
            "16960/16960 [==============================] - 2s 116us/step - loss: 526.8022 - mean_absolute_error: 526.8022 - val_loss: 532.5647 - val_mean_absolute_error: 532.5647\n",
            "\n",
            "Epoch 00465: val_loss did not improve from 525.80750\n",
            "Epoch 466/500\n",
            "16960/16960 [==============================] - 2s 115us/step - loss: 527.2374 - mean_absolute_error: 527.2374 - val_loss: 540.0965 - val_mean_absolute_error: 540.0965\n",
            "\n",
            "Epoch 00466: val_loss did not improve from 525.80750\n",
            "Epoch 467/500\n",
            "16960/16960 [==============================] - 2s 115us/step - loss: 527.4740 - mean_absolute_error: 527.4740 - val_loss: 540.5943 - val_mean_absolute_error: 540.5943\n",
            "\n",
            "Epoch 00467: val_loss did not improve from 525.80750\n",
            "Epoch 468/500\n",
            "16960/16960 [==============================] - 2s 115us/step - loss: 525.3575 - mean_absolute_error: 525.3575 - val_loss: 530.4716 - val_mean_absolute_error: 530.4716\n",
            "\n",
            "Epoch 00468: val_loss did not improve from 525.80750\n",
            "Epoch 469/500\n",
            "16960/16960 [==============================] - 2s 117us/step - loss: 528.8758 - mean_absolute_error: 528.8758 - val_loss: 529.9495 - val_mean_absolute_error: 529.9495\n",
            "\n",
            "Epoch 00469: val_loss did not improve from 525.80750\n",
            "Epoch 470/500\n",
            "16960/16960 [==============================] - 2s 117us/step - loss: 526.5658 - mean_absolute_error: 526.5658 - val_loss: 541.5844 - val_mean_absolute_error: 541.5844\n",
            "\n",
            "Epoch 00470: val_loss did not improve from 525.80750\n",
            "Epoch 471/500\n",
            "16960/16960 [==============================] - 2s 121us/step - loss: 526.3294 - mean_absolute_error: 526.3294 - val_loss: 530.8069 - val_mean_absolute_error: 530.8069\n",
            "\n",
            "Epoch 00471: val_loss did not improve from 525.80750\n",
            "Epoch 472/500\n",
            "16960/16960 [==============================] - 2s 120us/step - loss: 527.1497 - mean_absolute_error: 527.1497 - val_loss: 530.4741 - val_mean_absolute_error: 530.4741\n",
            "\n",
            "Epoch 00472: val_loss did not improve from 525.80750\n",
            "Epoch 473/500\n",
            "16960/16960 [==============================] - 2s 121us/step - loss: 526.5063 - mean_absolute_error: 526.5063 - val_loss: 530.5464 - val_mean_absolute_error: 530.5464\n",
            "\n",
            "Epoch 00473: val_loss did not improve from 525.80750\n",
            "Epoch 474/500\n",
            "16960/16960 [==============================] - 2s 117us/step - loss: 525.6990 - mean_absolute_error: 525.6990 - val_loss: 529.5544 - val_mean_absolute_error: 529.5544\n",
            "\n",
            "Epoch 00474: val_loss did not improve from 525.80750\n",
            "Epoch 475/500\n",
            "16960/16960 [==============================] - 2s 120us/step - loss: 527.0808 - mean_absolute_error: 527.0808 - val_loss: 536.4410 - val_mean_absolute_error: 536.4410\n",
            "\n",
            "Epoch 00475: val_loss did not improve from 525.80750\n",
            "Epoch 476/500\n",
            "16960/16960 [==============================] - 2s 118us/step - loss: 525.5998 - mean_absolute_error: 525.5998 - val_loss: 528.4348 - val_mean_absolute_error: 528.4348\n",
            "\n",
            "Epoch 00476: val_loss did not improve from 525.80750\n",
            "Epoch 477/500\n",
            "16960/16960 [==============================] - 2s 121us/step - loss: 525.2144 - mean_absolute_error: 525.2144 - val_loss: 536.6482 - val_mean_absolute_error: 536.6482\n",
            "\n",
            "Epoch 00477: val_loss did not improve from 525.80750\n",
            "Epoch 478/500\n",
            "16960/16960 [==============================] - 2s 116us/step - loss: 527.1924 - mean_absolute_error: 527.1924 - val_loss: 541.1813 - val_mean_absolute_error: 541.1813\n",
            "\n",
            "Epoch 00478: val_loss did not improve from 525.80750\n",
            "Epoch 479/500\n",
            "16960/16960 [==============================] - 2s 116us/step - loss: 525.4447 - mean_absolute_error: 525.4447 - val_loss: 530.8960 - val_mean_absolute_error: 530.8960\n",
            "\n",
            "Epoch 00479: val_loss did not improve from 525.80750\n",
            "Epoch 480/500\n",
            "16960/16960 [==============================] - 2s 120us/step - loss: 525.3062 - mean_absolute_error: 525.3062 - val_loss: 535.3107 - val_mean_absolute_error: 535.3107\n",
            "\n",
            "Epoch 00480: val_loss did not improve from 525.80750\n",
            "Epoch 481/500\n",
            "16960/16960 [==============================] - 2s 114us/step - loss: 527.2912 - mean_absolute_error: 527.2912 - val_loss: 531.9332 - val_mean_absolute_error: 531.9332\n",
            "\n",
            "Epoch 00481: val_loss did not improve from 525.80750\n",
            "Epoch 482/500\n",
            "16960/16960 [==============================] - 2s 120us/step - loss: 526.7738 - mean_absolute_error: 526.7738 - val_loss: 533.4934 - val_mean_absolute_error: 533.4934\n",
            "\n",
            "Epoch 00482: val_loss did not improve from 525.80750\n",
            "Epoch 483/500\n",
            "16960/16960 [==============================] - 2s 117us/step - loss: 526.5234 - mean_absolute_error: 526.5234 - val_loss: 537.2183 - val_mean_absolute_error: 537.2183\n",
            "\n",
            "Epoch 00483: val_loss did not improve from 525.80750\n",
            "Epoch 484/500\n",
            "16960/16960 [==============================] - 2s 116us/step - loss: 526.1788 - mean_absolute_error: 526.1788 - val_loss: 530.5990 - val_mean_absolute_error: 530.5990\n",
            "\n",
            "Epoch 00484: val_loss did not improve from 525.80750\n",
            "Epoch 485/500\n",
            "16960/16960 [==============================] - 2s 118us/step - loss: 526.1371 - mean_absolute_error: 526.1371 - val_loss: 544.0900 - val_mean_absolute_error: 544.0900\n",
            "\n",
            "Epoch 00485: val_loss did not improve from 525.80750\n",
            "Epoch 486/500\n",
            "16960/16960 [==============================] - 2s 117us/step - loss: 527.3869 - mean_absolute_error: 527.3869 - val_loss: 543.8873 - val_mean_absolute_error: 543.8873\n",
            "\n",
            "Epoch 00486: val_loss did not improve from 525.80750\n",
            "Epoch 487/500\n",
            "16960/16960 [==============================] - 2s 118us/step - loss: 524.2672 - mean_absolute_error: 524.2672 - val_loss: 532.0801 - val_mean_absolute_error: 532.0801\n",
            "\n",
            "Epoch 00487: val_loss did not improve from 525.80750\n",
            "Epoch 488/500\n",
            "16960/16960 [==============================] - 2s 116us/step - loss: 526.1617 - mean_absolute_error: 526.1617 - val_loss: 531.0311 - val_mean_absolute_error: 531.0311\n",
            "\n",
            "Epoch 00488: val_loss did not improve from 525.80750\n",
            "Epoch 489/500\n",
            "16960/16960 [==============================] - 2s 114us/step - loss: 527.5049 - mean_absolute_error: 527.5049 - val_loss: 533.3593 - val_mean_absolute_error: 533.3593\n",
            "\n",
            "Epoch 00489: val_loss did not improve from 525.80750\n",
            "Epoch 490/500\n",
            "16960/16960 [==============================] - 2s 117us/step - loss: 525.1280 - mean_absolute_error: 525.1280 - val_loss: 535.7921 - val_mean_absolute_error: 535.7921\n",
            "\n",
            "Epoch 00490: val_loss did not improve from 525.80750\n",
            "Epoch 491/500\n",
            "16960/16960 [==============================] - 2s 118us/step - loss: 525.5937 - mean_absolute_error: 525.5937 - val_loss: 534.6814 - val_mean_absolute_error: 534.6814\n",
            "\n",
            "Epoch 00491: val_loss did not improve from 525.80750\n",
            "Epoch 492/500\n",
            "16960/16960 [==============================] - 2s 116us/step - loss: 526.9535 - mean_absolute_error: 526.9535 - val_loss: 529.3986 - val_mean_absolute_error: 529.3986\n",
            "\n",
            "Epoch 00492: val_loss did not improve from 525.80750\n",
            "Epoch 493/500\n",
            "16960/16960 [==============================] - 2s 115us/step - loss: 526.7846 - mean_absolute_error: 526.7846 - val_loss: 530.5126 - val_mean_absolute_error: 530.5126\n",
            "\n",
            "Epoch 00493: val_loss did not improve from 525.80750\n",
            "Epoch 494/500\n",
            "16960/16960 [==============================] - 2s 117us/step - loss: 526.3841 - mean_absolute_error: 526.3841 - val_loss: 529.7905 - val_mean_absolute_error: 529.7905\n",
            "\n",
            "Epoch 00494: val_loss did not improve from 525.80750\n",
            "Epoch 495/500\n",
            "16960/16960 [==============================] - 2s 115us/step - loss: 525.0565 - mean_absolute_error: 525.0565 - val_loss: 540.9002 - val_mean_absolute_error: 540.9002\n",
            "\n",
            "Epoch 00495: val_loss did not improve from 525.80750\n",
            "Epoch 496/500\n",
            "16960/16960 [==============================] - 2s 115us/step - loss: 527.2287 - mean_absolute_error: 527.2287 - val_loss: 529.0776 - val_mean_absolute_error: 529.0776\n",
            "\n",
            "Epoch 00496: val_loss did not improve from 525.80750\n",
            "Epoch 497/500\n",
            "16960/16960 [==============================] - 2s 119us/step - loss: 524.4504 - mean_absolute_error: 524.4504 - val_loss: 549.0861 - val_mean_absolute_error: 549.0861\n",
            "\n",
            "Epoch 00497: val_loss did not improve from 525.80750\n",
            "Epoch 498/500\n",
            "16960/16960 [==============================] - 2s 118us/step - loss: 524.9824 - mean_absolute_error: 524.9824 - val_loss: 541.8918 - val_mean_absolute_error: 541.8918\n",
            "\n",
            "Epoch 00498: val_loss did not improve from 525.80750\n",
            "Epoch 499/500\n",
            "16960/16960 [==============================] - 2s 123us/step - loss: 525.4895 - mean_absolute_error: 525.4895 - val_loss: 530.4296 - val_mean_absolute_error: 530.4296\n",
            "\n",
            "Epoch 00499: val_loss did not improve from 525.80750\n",
            "Epoch 500/500\n",
            "16960/16960 [==============================] - 2s 121us/step - loss: 526.1172 - mean_absolute_error: 526.1172 - val_loss: 528.9560 - val_mean_absolute_error: 528.9560\n",
            "\n",
            "Epoch 00500: val_loss did not improve from 525.80750\n"
          ],
          "name": "stdout"
        },
        {
          "output_type": "execute_result",
          "data": {
            "text/plain": [
              "<keras.callbacks.History at 0x7f9eff526ef0>"
            ]
          },
          "metadata": {
            "tags": []
          },
          "execution_count": 231
        }
      ]
    },
    {
      "cell_type": "code",
      "metadata": {
        "id": "ZH_Hw-C7yCP9",
        "colab_type": "code",
        "colab": {}
      },
      "source": [
        "# Load wights file of the best model :\n",
        "wights_file = 'Weights-270--525.80750.hdf5' # choose the best checkpoint \n",
        "model.load_weights(wights_file) # load it\n",
        "model.compile(loss='mean_absolute_error', optimizer='adam', metrics=['mean_absolute_error'])"
      ],
      "execution_count": 0,
      "outputs": []
    },
    {
      "cell_type": "markdown",
      "metadata": {
        "id": "6Ir5uEQoP-CE",
        "colab_type": "text"
      },
      "source": [
        "# New Section"
      ]
    },
    {
      "cell_type": "code",
      "metadata": {
        "id": "3jdJILSmqRcL",
        "colab_type": "code",
        "colab": {}
      },
      "source": [
        "predictions = NN_model.predict(x_test)"
      ],
      "execution_count": 0,
      "outputs": []
    },
    {
      "cell_type": "code",
      "metadata": {
        "id": "o37uC7b32ovJ",
        "colab_type": "code",
        "colab": {}
      },
      "source": [
        "yy = pd.DataFrame(predictions,columns=['Predicted total time'])\n",
        "orde = [f'Order_No_{i}' for i in Actual_Test['Order No']]\n",
        "orde = pd.DataFrame(orde,columns=['Order No'])\n",
        "Submission2 = orde.join(yy)\n",
        "Submission2.to_csv('Castro_Olang_SubmissionN.csv',index=False)"
      ],
      "execution_count": 0,
      "outputs": []
    },
    {
      "cell_type": "code",
      "metadata": {
        "id": "uneP7MmXq_uT",
        "colab_type": "code",
        "colab": {}
      },
      "source": [
        "train_X, val_X, train_y, val_y = train_test_split(x_act_train,y_act_train, test_size = 0.2, random_state = 14)\n",
        "\n"
      ],
      "execution_count": 0,
      "outputs": []
    },
    {
      "cell_type": "code",
      "metadata": {
        "id": "d5-_0Mq9rIdr",
        "colab_type": "code",
        "colab": {}
      },
      "source": [
        "model = RandomForestRegressor()\n",
        "model.fit(train_X,train_y)\n",
        "\n",
        "# Get the mean absolute error on the validation data\n",
        "predicted_prices = model.predict(val_X)\n",
        "MAE = mean_absolute_error(val_y , predicted_prices)\n",
        "print('Random forest validation MAE = ', MAE)"
      ],
      "execution_count": 0,
      "outputs": []
    },
    {
      "cell_type": "code",
      "metadata": {
        "id": "-ev58zhgrP_F",
        "colab_type": "code",
        "colab": {}
      },
      "source": [
        "predicted_prices = model.predict(x_test)"
      ],
      "execution_count": 0,
      "outputs": []
    },
    {
      "cell_type": "code",
      "metadata": {
        "id": "bx3ifqEY7j80",
        "colab_type": "code",
        "colab": {}
      },
      "source": [
        "import xgboost"
      ],
      "execution_count": 0,
      "outputs": []
    },
    {
      "cell_type": "code",
      "metadata": {
        "id": "bnH32g5g7OCg",
        "colab_type": "code",
        "outputId": "5cd9916b-a62a-4a87-89af-b54201f99d07",
        "colab": {
          "base_uri": "https://localhost:8080/",
          "height": 190
        }
      },
      "source": [
        "best_xgb_model = xgboost.XGBRegressor(colsample_bytree=1,\n",
        "                 gamma=0.5,                 \n",
        "                 learning_rate=0.07,\n",
        "                 max_depth=1000,\n",
        "                 min_child_weight=1000000,\n",
        "                 n_estimators=43,                                                                    \n",
        "                 reg_alpha=0.75,\n",
        "                 reg_lambda=0.45,\n",
        "                 subsample=1,\n",
        "                 seed=42)\n",
        "best_xgb_model.fit(x_act_train,y_act_train,verbose=False)"
      ],
      "execution_count": 0,
      "outputs": [
        {
          "output_type": "stream",
          "text": [
            "[13:06:41] WARNING: /workspace/src/objective/regression_obj.cu:152: reg:linear is now deprecated in favor of reg:squarederror.\n"
          ],
          "name": "stdout"
        },
        {
          "output_type": "execute_result",
          "data": {
            "text/plain": [
              "XGBRegressor(base_score=0.5, booster='gbtree', colsample_bylevel=1,\n",
              "             colsample_bynode=1, colsample_bytree=1, gamma=0.5,\n",
              "             importance_type='gain', learning_rate=0.07, max_delta_step=0,\n",
              "             max_depth=1000, min_child_weight=1000000, missing=None,\n",
              "             n_estimators=43, n_jobs=1, nthread=None, objective='reg:linear',\n",
              "             random_state=0, reg_alpha=0.75, reg_lambda=0.45,\n",
              "             scale_pos_weight=1, seed=42, silent=None, subsample=1,\n",
              "             verbosity=1)"
            ]
          },
          "metadata": {
            "tags": []
          },
          "execution_count": 402
        }
      ]
    },
    {
      "cell_type": "code",
      "metadata": {
        "id": "6ohXAcT877K0",
        "colab_type": "code",
        "colab": {}
      },
      "source": [
        "y_predd = best_xgb_model.predict(x_test)"
      ],
      "execution_count": 0,
      "outputs": []
    },
    {
      "cell_type": "code",
      "metadata": {
        "id": "A9396TAf8lxm",
        "colab_type": "code",
        "outputId": "950b21d1-7144-4ddb-e68e-bb69c682ac28",
        "colab": {
          "base_uri": "https://localhost:8080/",
          "height": 34
        }
      },
      "source": [
        "RMSE = sqrt(mean_squared_error(y_test,y_predd))\n",
        "print('XGBoost validation RMSE = ',RMSE)"
      ],
      "execution_count": 0,
      "outputs": [
        {
          "output_type": "stream",
          "text": [
            "XGBoost validation RMSE =  6572.0429103080505\n"
          ],
          "name": "stdout"
        }
      ]
    },
    {
      "cell_type": "code",
      "metadata": {
        "id": "-m9oH1zN8OAP",
        "colab_type": "code",
        "colab": {}
      },
      "source": [
        "y = pd.DataFrame(y_predd,columns=['Predicted total time'])\n",
        "orde = [f'Order_No_{i}' for i in Actual_Test['Order No']]\n",
        "orde = pd.DataFrame(orde,columns=['Order No'])\n",
        "Submission2 = orde.join(yy)\n",
        "Submission2.to_csv('Castro_Olang_SubmissionXGBbb.csv',index=False)"
      ],
      "execution_count": 0,
      "outputs": []
    },
    {
      "cell_type": "code",
      "metadata": {
        "id": "6Y--G_Uzrixn",
        "colab_type": "code",
        "outputId": "fd01d1ee-9696-42a2-a443-943d5e80e5f1",
        "colab": {
          "base_uri": "https://localhost:8080/",
          "height": 71
        }
      },
      "source": [
        "XGBModel = XGBRegressor()\n",
        "XGBModel.fit(x_act_train,y_act_train , verbose=False)\n",
        "\n",
        "# Get the mean absolute error on the validation data :\n",
        "XGBpredictions = XGBModel.predict(x_test)\n",
        "RMSE = sqrt(mean_squared_error(y_test, XGBpredictions))\n",
        "print('XGBoost validation RMSE = ',RMSE)"
      ],
      "execution_count": 0,
      "outputs": [
        {
          "output_type": "stream",
          "text": [
            "[12:57:03] WARNING: /workspace/src/objective/regression_obj.cu:152: reg:linear is now deprecated in favor of reg:squarederror.\n",
            "XGBoost validation RMSE =  6581.757805429911\n"
          ],
          "name": "stdout"
        }
      ]
    },
    {
      "cell_type": "code",
      "metadata": {
        "id": "3dVoW6XpumjR",
        "colab_type": "code",
        "colab": {}
      },
      "source": [
        "yy = pd.DataFrame(XGBpredictions,columns=['Predicted total time'])\n",
        "orde = [f'Order_No_{i}' for i in Actual_Test['Order No']]\n",
        "orde = pd.DataFrame(orde,columns=['Order No'])\n",
        "Submission2 = orde.join(yy)\n",
        "Submission2.to_csv('Castro_Olang_SubmissionXGB.csv',index=False)"
      ],
      "execution_count": 0,
      "outputs": []
    },
    {
      "cell_type": "markdown",
      "metadata": {
        "id": "69gmz6ZkFNsP",
        "colab_type": "text"
      },
      "source": [
        "indepth keras"
      ]
    },
    {
      "cell_type": "code",
      "metadata": {
        "id": "irftj5o5FLIL",
        "colab_type": "code",
        "colab": {}
      },
      "source": [
        "from keras.optimizers import Adam"
      ],
      "execution_count": 0,
      "outputs": []
    },
    {
      "cell_type": "code",
      "metadata": {
        "id": "zhdvy_oRGy5y",
        "colab_type": "code",
        "colab": {}
      },
      "source": [
        "def create_mlp(dim, regress=False):\n",
        "\t# define our MLP network\n",
        "\tmodel = Sequential()\n",
        "\tmodel.add(Dense(8, input_dim=dim, activation=\"relu\"))\n",
        "\tmodel.add(Dense(4, activation=\"relu\"))\n",
        " \n",
        "\t# check to see if the regression node should be added\n",
        "\tif regress:\n",
        "\t\tmodel.add(Dense(1, activation=\"linear\"))\n",
        " \n",
        "\t# return our model\n",
        "\treturn model"
      ],
      "execution_count": 0,
      "outputs": []
    },
    {
      "cell_type": "code",
      "metadata": {
        "id": "yueBUATeHXNm",
        "colab_type": "code",
        "colab": {}
      },
      "source": [
        "from keras.models import Model"
      ],
      "execution_count": 0,
      "outputs": []
    },
    {
      "cell_type": "code",
      "metadata": {
        "id": "gMWQu7vgF-yJ",
        "colab_type": "code",
        "outputId": "e1f09e41-9a22-44fe-f232-2870070e30cd",
        "colab": {
          "base_uri": "https://localhost:8080/",
          "height": 1000
        }
      },
      "source": [
        "model = create_mlp(x_act_train.shape[1], regress=True)\n",
        "opt = Adam(lr=1e-3, decay=1e-3 / 200)\n",
        "model.compile(loss=\"mean_absolute_percentage_error\", optimizer=opt)\n",
        " \n",
        "# train the model\n",
        "print(\"[INFO] training model...\")\n",
        "model.fit(x_act_train, y_act_train, validation_data=(x_test, y_test),\n",
        "\tepochs=270, batch_size=8)"
      ],
      "execution_count": 0,
      "outputs": [
        {
          "output_type": "stream",
          "text": [
            "WARNING:tensorflow:From /usr/local/lib/python3.6/dist-packages/keras/backend/tensorflow_backend.py:4432: The name tf.random_uniform is deprecated. Please use tf.random.uniform instead.\n",
            "\n",
            "[INFO] training model...\n",
            "Train on 21201 samples, validate on 7068 samples\n",
            "Epoch 1/270\n",
            "21201/21201 [==============================] - 5s 246us/step - loss: 416.0347 - val_loss: 70.8000\n",
            "Epoch 2/270\n",
            "21201/21201 [==============================] - 4s 186us/step - loss: 197.6622 - val_loss: 70.7828\n",
            "Epoch 3/270\n",
            "21201/21201 [==============================] - 4s 183us/step - loss: 181.8520 - val_loss: 101.3663\n",
            "Epoch 4/270\n",
            "21201/21201 [==============================] - 4s 185us/step - loss: 176.3558 - val_loss: 69.9603\n",
            "Epoch 5/270\n",
            "21201/21201 [==============================] - 4s 187us/step - loss: 160.4546 - val_loss: 77.3274\n",
            "Epoch 6/270\n",
            "21201/21201 [==============================] - 4s 184us/step - loss: 154.8946 - val_loss: 97.4210\n",
            "Epoch 7/270\n",
            "21201/21201 [==============================] - 4s 182us/step - loss: 148.5906 - val_loss: 92.2631\n",
            "Epoch 8/270\n",
            "21201/21201 [==============================] - 4s 182us/step - loss: 147.8091 - val_loss: 115.3026\n",
            "Epoch 9/270\n",
            "21201/21201 [==============================] - 4s 185us/step - loss: 141.6943 - val_loss: 97.7553\n",
            "Epoch 10/270\n",
            "21201/21201 [==============================] - 4s 181us/step - loss: 141.8260 - val_loss: 69.8603\n",
            "Epoch 11/270\n",
            "21201/21201 [==============================] - 4s 183us/step - loss: 132.6403 - val_loss: 85.5052\n",
            "Epoch 12/270\n",
            "21201/21201 [==============================] - 4s 182us/step - loss: 131.1403 - val_loss: 102.3739\n",
            "Epoch 13/270\n",
            "21201/21201 [==============================] - 4s 180us/step - loss: 128.3420 - val_loss: 96.5038\n",
            "Epoch 14/270\n",
            "21201/21201 [==============================] - 4s 182us/step - loss: 124.2199 - val_loss: 97.1992\n",
            "Epoch 15/270\n",
            "21201/21201 [==============================] - 4s 180us/step - loss: 126.9465 - val_loss: 90.6778\n",
            "Epoch 16/270\n",
            "21201/21201 [==============================] - 4s 179us/step - loss: 122.9904 - val_loss: 94.4139\n",
            "Epoch 17/270\n",
            "21201/21201 [==============================] - 4s 178us/step - loss: 116.6667 - val_loss: 95.6833\n",
            "Epoch 18/270\n",
            "21201/21201 [==============================] - 4s 180us/step - loss: 115.3307 - val_loss: 103.2153\n",
            "Epoch 19/270\n",
            "21201/21201 [==============================] - 4s 182us/step - loss: 114.8590 - val_loss: 111.4099\n",
            "Epoch 20/270\n",
            "21201/21201 [==============================] - 4s 179us/step - loss: 112.0272 - val_loss: 99.3400\n",
            "Epoch 21/270\n",
            "21201/21201 [==============================] - 4s 180us/step - loss: 110.2778 - val_loss: 90.4339\n",
            "Epoch 22/270\n",
            "21201/21201 [==============================] - 4s 207us/step - loss: 108.3143 - val_loss: 98.2763\n",
            "Epoch 23/270\n",
            "21201/21201 [==============================] - 4s 184us/step - loss: 106.4525 - val_loss: 98.9534\n",
            "Epoch 24/270\n",
            "21201/21201 [==============================] - 4s 184us/step - loss: 104.7814 - val_loss: 87.0596\n",
            "Epoch 25/270\n",
            "21201/21201 [==============================] - 4s 186us/step - loss: 111.1683 - val_loss: 100.5505\n",
            "Epoch 26/270\n",
            "21201/21201 [==============================] - 4s 188us/step - loss: 103.5520 - val_loss: 98.5021\n",
            "Epoch 27/270\n",
            "21201/21201 [==============================] - 4s 187us/step - loss: 102.4499 - val_loss: 99.0313\n",
            "Epoch 28/270\n",
            "21201/21201 [==============================] - 4s 183us/step - loss: 101.4982 - val_loss: 100.0554\n",
            "Epoch 29/270\n",
            "21201/21201 [==============================] - 4s 182us/step - loss: 100.6777 - val_loss: 98.5700\n",
            "Epoch 30/270\n",
            "21201/21201 [==============================] - 4s 189us/step - loss: 99.9747 - val_loss: 99.0976\n",
            "Epoch 31/270\n",
            "21201/21201 [==============================] - 4s 184us/step - loss: 99.4354 - val_loss: 99.8348\n",
            "Epoch 32/270\n",
            "21201/21201 [==============================] - 4s 185us/step - loss: 99.2985 - val_loss: 99.4364\n",
            "Epoch 33/270\n",
            "21201/21201 [==============================] - 4s 185us/step - loss: 98.8010 - val_loss: 99.3347\n",
            "Epoch 34/270\n",
            "21201/21201 [==============================] - 4s 186us/step - loss: 98.6758 - val_loss: 99.2307\n",
            "Epoch 35/270\n",
            "21201/21201 [==============================] - 4s 186us/step - loss: 98.5768 - val_loss: 99.4870\n",
            "Epoch 36/270\n",
            "21201/21201 [==============================] - 4s 182us/step - loss: 98.4470 - val_loss: 99.2921\n",
            "Epoch 37/270\n",
            "21201/21201 [==============================] - 4s 193us/step - loss: 98.4376 - val_loss: 99.3170\n",
            "Epoch 38/270\n",
            "21201/21201 [==============================] - 4s 195us/step - loss: 98.3970 - val_loss: 99.3737\n",
            "Epoch 39/270\n",
            "21201/21201 [==============================] - 4s 194us/step - loss: 98.3573 - val_loss: 99.2970\n",
            "Epoch 40/270\n",
            "21201/21201 [==============================] - 4s 187us/step - loss: 98.3565 - val_loss: 99.3484\n",
            "Epoch 41/270\n",
            "21201/21201 [==============================] - 4s 187us/step - loss: 98.3010 - val_loss: 99.2572\n",
            "Epoch 42/270\n",
            "21201/21201 [==============================] - 4s 187us/step - loss: 98.3683 - val_loss: 99.3178\n",
            "Epoch 43/270\n",
            "21201/21201 [==============================] - 4s 182us/step - loss: 98.3250 - val_loss: 99.3253\n",
            "Epoch 44/270\n",
            "21201/21201 [==============================] - 4s 183us/step - loss: 98.3234 - val_loss: 99.3496\n",
            "Epoch 45/270\n",
            "21201/21201 [==============================] - 4s 184us/step - loss: 98.3369 - val_loss: 99.3133\n",
            "Epoch 46/270\n",
            "21201/21201 [==============================] - 4s 182us/step - loss: 98.3290 - val_loss: 99.3433\n",
            "Epoch 47/270\n",
            "21201/21201 [==============================] - 4s 183us/step - loss: 98.3149 - val_loss: 99.3446\n",
            "Epoch 48/270\n",
            "21201/21201 [==============================] - 4s 186us/step - loss: 98.3195 - val_loss: 99.3326\n",
            "Epoch 49/270\n",
            "21201/21201 [==============================] - 4s 181us/step - loss: 98.3203 - val_loss: 99.2992\n",
            "Epoch 50/270\n",
            "21201/21201 [==============================] - 4s 188us/step - loss: 98.3262 - val_loss: 99.3202\n",
            "Epoch 51/270\n",
            "21201/21201 [==============================] - 4s 183us/step - loss: 98.3110 - val_loss: 99.3086\n",
            "Epoch 52/270\n",
            "21201/21201 [==============================] - 4s 183us/step - loss: 98.2694 - val_loss: 98.9263\n",
            "Epoch 53/270\n",
            "21201/21201 [==============================] - 4s 182us/step - loss: 98.2726 - val_loss: 99.2036\n",
            "Epoch 54/270\n",
            "21201/21201 [==============================] - 4s 184us/step - loss: 98.2602 - val_loss: 99.2779\n",
            "Epoch 55/270\n",
            "21201/21201 [==============================] - 4s 182us/step - loss: 98.2688 - val_loss: 99.2613\n",
            "Epoch 56/270\n",
            "21201/21201 [==============================] - 4s 184us/step - loss: 98.4388 - val_loss: 99.2467\n",
            "Epoch 57/270\n",
            "21201/21201 [==============================] - 4s 184us/step - loss: 98.3355 - val_loss: 99.2415\n",
            "Epoch 58/270\n",
            "21201/21201 [==============================] - 4s 185us/step - loss: 98.3137 - val_loss: 99.1232\n",
            "Epoch 59/270\n",
            "21201/21201 [==============================] - 4s 184us/step - loss: 98.3042 - val_loss: 99.1633\n",
            "Epoch 60/270\n",
            "21201/21201 [==============================] - 4s 186us/step - loss: 98.3046 - val_loss: 99.2394\n",
            "Epoch 61/270\n",
            "21201/21201 [==============================] - 4s 185us/step - loss: 98.2978 - val_loss: 99.1800\n",
            "Epoch 62/270\n",
            "21201/21201 [==============================] - 4s 182us/step - loss: 98.2813 - val_loss: 99.3058\n",
            "Epoch 63/270\n",
            "21201/21201 [==============================] - 4s 185us/step - loss: 98.2698 - val_loss: 99.1515\n",
            "Epoch 64/270\n",
            "21201/21201 [==============================] - 4s 183us/step - loss: 98.2845 - val_loss: 99.1924\n",
            "Epoch 65/270\n",
            "21201/21201 [==============================] - 4s 185us/step - loss: 98.2615 - val_loss: 99.1521\n",
            "Epoch 66/270\n",
            "21201/21201 [==============================] - 4s 183us/step - loss: 98.2266 - val_loss: 98.7470\n",
            "Epoch 67/270\n",
            "21201/21201 [==============================] - 4s 185us/step - loss: 98.2644 - val_loss: 99.1265\n",
            "Epoch 68/270\n",
            "21201/21201 [==============================] - 4s 181us/step - loss: 98.2531 - val_loss: 99.2449\n",
            "Epoch 69/270\n",
            "21201/21201 [==============================] - 4s 186us/step - loss: 98.2491 - val_loss: 99.0950\n",
            "Epoch 70/270\n",
            "21201/21201 [==============================] - 4s 182us/step - loss: 98.2507 - val_loss: 99.3404\n",
            "Epoch 71/270\n",
            "21201/21201 [==============================] - 4s 186us/step - loss: 98.2448 - val_loss: 99.1430\n",
            "Epoch 72/270\n",
            "21201/21201 [==============================] - 4s 187us/step - loss: 98.2642 - val_loss: 99.2734\n",
            "Epoch 73/270\n",
            "21201/21201 [==============================] - 4s 191us/step - loss: 98.2587 - val_loss: 99.2221\n",
            "Epoch 74/270\n",
            "21201/21201 [==============================] - 4s 187us/step - loss: 98.2283 - val_loss: 99.1131\n",
            "Epoch 75/270\n",
            "21201/21201 [==============================] - 4s 183us/step - loss: 98.2663 - val_loss: 99.2626\n",
            "Epoch 76/270\n",
            "21201/21201 [==============================] - 4s 186us/step - loss: 98.2584 - val_loss: 99.1590\n",
            "Epoch 77/270\n",
            "21201/21201 [==============================] - 4s 182us/step - loss: 98.2507 - val_loss: 99.1133\n",
            "Epoch 78/270\n",
            "21201/21201 [==============================] - 4s 184us/step - loss: 98.2522 - val_loss: 99.1703\n",
            "Epoch 79/270\n",
            "21201/21201 [==============================] - 4s 182us/step - loss: 98.2587 - val_loss: 99.2299\n",
            "Epoch 80/270\n",
            "21201/21201 [==============================] - 4s 185us/step - loss: 98.2503 - val_loss: 99.2551\n",
            "Epoch 81/270\n",
            "21201/21201 [==============================] - 4s 187us/step - loss: 98.2525 - val_loss: 99.2349\n",
            "Epoch 82/270\n",
            "21201/21201 [==============================] - 4s 191us/step - loss: 98.2496 - val_loss: 99.1603\n",
            "Epoch 83/270\n",
            "21201/21201 [==============================] - 4s 182us/step - loss: 98.2477 - val_loss: 99.2295\n",
            "Epoch 84/270\n",
            "21201/21201 [==============================] - 4s 187us/step - loss: 98.2475 - val_loss: 99.1490\n",
            "Epoch 85/270\n",
            "21201/21201 [==============================] - 4s 185us/step - loss: 98.2470 - val_loss: 99.2397\n",
            "Epoch 86/270\n",
            "21201/21201 [==============================] - 4s 184us/step - loss: 98.2395 - val_loss: 99.3206\n",
            "Epoch 87/270\n",
            "21201/21201 [==============================] - 4s 183us/step - loss: 98.2458 - val_loss: 99.2941\n",
            "Epoch 88/270\n",
            "21201/21201 [==============================] - 4s 183us/step - loss: 98.2448 - val_loss: 99.2037\n",
            "Epoch 89/270\n",
            "21201/21201 [==============================] - 4s 181us/step - loss: 98.2618 - val_loss: 99.1041\n",
            "Epoch 90/270\n",
            "21201/21201 [==============================] - 4s 187us/step - loss: 98.2609 - val_loss: 99.2772\n",
            "Epoch 91/270\n",
            "21201/21201 [==============================] - 4s 182us/step - loss: 98.2687 - val_loss: 99.0075\n",
            "Epoch 92/270\n",
            "21201/21201 [==============================] - 4s 185us/step - loss: 98.2658 - val_loss: 99.2447\n",
            "Epoch 93/270\n",
            "21201/21201 [==============================] - 4s 181us/step - loss: 98.2602 - val_loss: 99.2012\n",
            "Epoch 94/270\n",
            "21201/21201 [==============================] - 4s 185us/step - loss: 98.2670 - val_loss: 99.2772\n",
            "Epoch 95/270\n",
            "21201/21201 [==============================] - 4s 184us/step - loss: 98.2628 - val_loss: 99.2611\n",
            "Epoch 96/270\n",
            "21201/21201 [==============================] - 4s 183us/step - loss: 98.2424 - val_loss: 99.3123\n",
            "Epoch 97/270\n",
            "21201/21201 [==============================] - 4s 185us/step - loss: 98.2434 - val_loss: 99.0215\n",
            "Epoch 98/270\n",
            "21201/21201 [==============================] - 4s 182us/step - loss: 98.2275 - val_loss: 99.2874\n",
            "Epoch 99/270\n",
            "21201/21201 [==============================] - 4s 182us/step - loss: 98.2444 - val_loss: 99.1408\n",
            "Epoch 100/270\n",
            "21201/21201 [==============================] - 4s 184us/step - loss: 98.2531 - val_loss: 99.2767\n",
            "Epoch 101/270\n",
            "21201/21201 [==============================] - 4s 186us/step - loss: 98.2487 - val_loss: 99.1061\n",
            "Epoch 102/270\n",
            "21201/21201 [==============================] - 4s 190us/step - loss: 98.2457 - val_loss: 99.2271\n",
            "Epoch 103/270\n",
            "21201/21201 [==============================] - 4s 181us/step - loss: 98.2442 - val_loss: 99.1278\n",
            "Epoch 104/270\n",
            "21201/21201 [==============================] - 4s 184us/step - loss: 98.2496 - val_loss: 99.2027\n",
            "Epoch 105/270\n",
            "21201/21201 [==============================] - 4s 181us/step - loss: 98.2474 - val_loss: 99.1806\n",
            "Epoch 106/270\n",
            "21201/21201 [==============================] - 4s 187us/step - loss: 98.2507 - val_loss: 99.1956\n",
            "Epoch 107/270\n",
            "21201/21201 [==============================] - 4s 183us/step - loss: 98.2381 - val_loss: 99.2018\n",
            "Epoch 108/270\n",
            "21201/21201 [==============================] - 4s 183us/step - loss: 98.2311 - val_loss: 99.0789\n",
            "Epoch 109/270\n",
            "21201/21201 [==============================] - 4s 184us/step - loss: 98.2384 - val_loss: 99.1616\n",
            "Epoch 110/270\n",
            "21201/21201 [==============================] - 4s 183us/step - loss: 98.2481 - val_loss: 99.1649\n",
            "Epoch 111/270\n",
            "21201/21201 [==============================] - 4s 186us/step - loss: 98.2921 - val_loss: 99.3016\n",
            "Epoch 112/270\n",
            "21201/21201 [==============================] - 4s 183us/step - loss: 98.2687 - val_loss: 99.0784\n",
            "Epoch 113/270\n",
            "21201/21201 [==============================] - 4s 186us/step - loss: 98.2434 - val_loss: 99.2365\n",
            "Epoch 114/270\n",
            "21201/21201 [==============================] - 4s 182us/step - loss: 98.2375 - val_loss: 99.2500\n",
            "Epoch 115/270\n",
            "21201/21201 [==============================] - 4s 185us/step - loss: 98.2495 - val_loss: 99.1632\n",
            "Epoch 116/270\n",
            "21201/21201 [==============================] - 4s 189us/step - loss: 98.2472 - val_loss: 99.1915\n",
            "Epoch 117/270\n",
            "21201/21201 [==============================] - 4s 205us/step - loss: 98.2463 - val_loss: 99.0506\n",
            "Epoch 118/270\n",
            "21201/21201 [==============================] - 4s 198us/step - loss: 98.2413 - val_loss: 99.2321\n",
            "Epoch 119/270\n",
            "21201/21201 [==============================] - 4s 184us/step - loss: 98.2350 - val_loss: 99.2248\n",
            "Epoch 120/270\n",
            "21201/21201 [==============================] - 4s 185us/step - loss: 98.2439 - val_loss: 99.2329\n",
            "Epoch 121/270\n",
            "21201/21201 [==============================] - 4s 187us/step - loss: 98.2328 - val_loss: 99.0615\n",
            "Epoch 122/270\n",
            "21201/21201 [==============================] - 4s 185us/step - loss: 98.2395 - val_loss: 99.2150\n",
            "Epoch 123/270\n",
            "21201/21201 [==============================] - 4s 185us/step - loss: 98.2437 - val_loss: 99.0661\n",
            "Epoch 124/270\n",
            "21201/21201 [==============================] - 4s 183us/step - loss: 98.2460 - val_loss: 99.1565\n",
            "Epoch 125/270\n",
            "21201/21201 [==============================] - 4s 184us/step - loss: 98.2439 - val_loss: 99.2336\n",
            "Epoch 126/270\n",
            "21201/21201 [==============================] - 4s 185us/step - loss: 98.2435 - val_loss: 99.2239\n",
            "Epoch 127/270\n",
            "21201/21201 [==============================] - 4s 184us/step - loss: 98.2374 - val_loss: 99.2231\n",
            "Epoch 128/270\n",
            "21201/21201 [==============================] - 4s 188us/step - loss: 98.2400 - val_loss: 99.2155\n",
            "Epoch 129/270\n",
            "21201/21201 [==============================] - 4s 181us/step - loss: 98.2292 - val_loss: 98.9622\n",
            "Epoch 130/270\n",
            "21201/21201 [==============================] - 4s 182us/step - loss: 98.2392 - val_loss: 98.9323\n",
            "Epoch 131/270\n",
            "21201/21201 [==============================] - 4s 184us/step - loss: 98.2403 - val_loss: 99.0464\n",
            "Epoch 132/270\n",
            "21201/21201 [==============================] - 4s 186us/step - loss: 98.2914 - val_loss: 99.1039\n",
            "Epoch 133/270\n",
            "21201/21201 [==============================] - 4s 183us/step - loss: 98.2654 - val_loss: 99.0209\n",
            "Epoch 134/270\n",
            "21201/21201 [==============================] - 4s 182us/step - loss: 98.2609 - val_loss: 99.1504\n",
            "Epoch 135/270\n",
            "21201/21201 [==============================] - 4s 184us/step - loss: 98.2541 - val_loss: 99.2522\n",
            "Epoch 136/270\n",
            "21201/21201 [==============================] - 4s 185us/step - loss: 98.2392 - val_loss: 99.1820\n",
            "Epoch 137/270\n",
            "21201/21201 [==============================] - 4s 185us/step - loss: 98.2566 - val_loss: 99.1995\n",
            "Epoch 138/270\n",
            "21201/21201 [==============================] - 4s 187us/step - loss: 98.2465 - val_loss: 99.2223\n",
            "Epoch 139/270\n",
            "21201/21201 [==============================] - 4s 186us/step - loss: 98.2553 - val_loss: 99.1863\n",
            "Epoch 140/270\n",
            "21201/21201 [==============================] - 4s 184us/step - loss: 98.2454 - val_loss: 98.9958\n",
            "Epoch 141/270\n",
            "21201/21201 [==============================] - 4s 188us/step - loss: 98.2574 - val_loss: 99.2482\n",
            "Epoch 142/270\n",
            "21201/21201 [==============================] - 4s 185us/step - loss: 98.2508 - val_loss: 99.2669\n",
            "Epoch 143/270\n",
            "21201/21201 [==============================] - 4s 188us/step - loss: 98.2521 - val_loss: 99.2675\n",
            "Epoch 144/270\n",
            "21201/21201 [==============================] - 4s 187us/step - loss: 98.2419 - val_loss: 99.1003\n",
            "Epoch 145/270\n",
            "21201/21201 [==============================] - 4s 185us/step - loss: 98.2413 - val_loss: 99.3085\n",
            "Epoch 146/270\n",
            "21201/21201 [==============================] - 4s 189us/step - loss: 98.2486 - val_loss: 99.2643\n",
            "Epoch 147/270\n",
            "21201/21201 [==============================] - 4s 185us/step - loss: 98.2503 - val_loss: 99.2471\n",
            "Epoch 148/270\n",
            "21201/21201 [==============================] - 4s 184us/step - loss: 98.2528 - val_loss: 99.1397\n",
            "Epoch 149/270\n",
            "21201/21201 [==============================] - 4s 182us/step - loss: 98.2467 - val_loss: 99.2588\n",
            "Epoch 150/270\n",
            "21201/21201 [==============================] - 4s 183us/step - loss: 98.2428 - val_loss: 99.2219\n",
            "Epoch 151/270\n",
            "21201/21201 [==============================] - 4s 192us/step - loss: 98.2371 - val_loss: 99.3155\n",
            "Epoch 152/270\n",
            "21201/21201 [==============================] - 4s 189us/step - loss: 98.2331 - val_loss: 99.1567\n",
            "Epoch 153/270\n",
            "21201/21201 [==============================] - 4s 188us/step - loss: 98.2247 - val_loss: 99.3361\n",
            "Epoch 154/270\n",
            "21201/21201 [==============================] - 4s 183us/step - loss: 98.2403 - val_loss: 99.2397\n",
            "Epoch 155/270\n",
            "21201/21201 [==============================] - 4s 185us/step - loss: 98.2294 - val_loss: 99.1964\n",
            "Epoch 156/270\n",
            "21201/21201 [==============================] - 4s 184us/step - loss: 98.2015 - val_loss: 99.0961\n",
            "Epoch 157/270\n",
            "21201/21201 [==============================] - 4s 185us/step - loss: 98.2265 - val_loss: 99.2244\n",
            "Epoch 158/270\n",
            "21201/21201 [==============================] - 4s 184us/step - loss: 98.2094 - val_loss: 99.2414\n",
            "Epoch 159/270\n",
            "21201/21201 [==============================] - 4s 183us/step - loss: 98.2091 - val_loss: 99.2590\n",
            "Epoch 160/270\n",
            "21201/21201 [==============================] - 4s 188us/step - loss: 98.2155 - val_loss: 99.2105\n",
            "Epoch 161/270\n",
            "21201/21201 [==============================] - 4s 183us/step - loss: 98.2066 - val_loss: 99.2433\n",
            "Epoch 162/270\n",
            "21201/21201 [==============================] - 4s 183us/step - loss: 98.2117 - val_loss: 99.2903\n",
            "Epoch 163/270\n",
            "21201/21201 [==============================] - 4s 183us/step - loss: 98.2044 - val_loss: 99.1803\n",
            "Epoch 164/270\n",
            "21201/21201 [==============================] - 4s 185us/step - loss: 98.2174 - val_loss: 99.1959\n",
            "Epoch 165/270\n",
            "21201/21201 [==============================] - 4s 183us/step - loss: 98.2077 - val_loss: 99.2371\n",
            "Epoch 166/270\n",
            "21201/21201 [==============================] - 4s 183us/step - loss: 98.2129 - val_loss: 99.1393\n",
            "Epoch 167/270\n",
            "21201/21201 [==============================] - 4s 183us/step - loss: 98.1986 - val_loss: 99.1647\n",
            "Epoch 168/270\n",
            "21201/21201 [==============================] - 4s 186us/step - loss: 98.2097 - val_loss: 99.2549\n",
            "Epoch 169/270\n",
            "21201/21201 [==============================] - 4s 183us/step - loss: 98.2038 - val_loss: 99.1542\n",
            "Epoch 170/270\n",
            "21201/21201 [==============================] - 4s 190us/step - loss: 98.2069 - val_loss: 99.1228\n",
            "Epoch 171/270\n",
            "21201/21201 [==============================] - 4s 183us/step - loss: 98.2078 - val_loss: 99.1925\n",
            "Epoch 172/270\n",
            "21201/21201 [==============================] - 4s 185us/step - loss: 98.2050 - val_loss: 99.1729\n",
            "Epoch 173/270\n",
            "21201/21201 [==============================] - 4s 185us/step - loss: 98.2016 - val_loss: 99.2850\n",
            "Epoch 174/270\n",
            "21201/21201 [==============================] - 4s 182us/step - loss: 98.2050 - val_loss: 99.2464\n",
            "Epoch 175/270\n",
            "21201/21201 [==============================] - 4s 183us/step - loss: 98.2017 - val_loss: 99.1495\n",
            "Epoch 176/270\n",
            "21201/21201 [==============================] - 4s 186us/step - loss: 98.2000 - val_loss: 99.0589\n",
            "Epoch 177/270\n",
            "21201/21201 [==============================] - 4s 182us/step - loss: 98.1996 - val_loss: 99.2153\n",
            "Epoch 178/270\n",
            "21201/21201 [==============================] - 4s 184us/step - loss: 98.1897 - val_loss: 99.1549\n",
            "Epoch 179/270\n",
            "21201/21201 [==============================] - 4s 186us/step - loss: 98.2035 - val_loss: 99.2154\n",
            "Epoch 180/270\n",
            "21201/21201 [==============================] - 4s 183us/step - loss: 98.1958 - val_loss: 99.2568\n",
            "Epoch 181/270\n",
            "21201/21201 [==============================] - 4s 182us/step - loss: 98.1992 - val_loss: 99.2452\n",
            "Epoch 182/270\n",
            "21201/21201 [==============================] - 4s 186us/step - loss: 98.2029 - val_loss: 99.1627\n",
            "Epoch 183/270\n",
            "21201/21201 [==============================] - 4s 180us/step - loss: 98.2003 - val_loss: 99.1615\n",
            "Epoch 184/270\n",
            "21201/21201 [==============================] - 4s 181us/step - loss: 98.2048 - val_loss: 99.1632\n",
            "Epoch 185/270\n",
            "21201/21201 [==============================] - 4s 185us/step - loss: 98.2005 - val_loss: 99.1723\n",
            "Epoch 186/270\n",
            "21201/21201 [==============================] - 4s 183us/step - loss: 98.2071 - val_loss: 99.0617\n",
            "Epoch 187/270\n",
            "21201/21201 [==============================] - 4s 181us/step - loss: 98.2047 - val_loss: 99.1643\n",
            "Epoch 188/270\n",
            "21201/21201 [==============================] - 4s 183us/step - loss: 98.1965 - val_loss: 99.0309\n",
            "Epoch 189/270\n",
            "21201/21201 [==============================] - 4s 186us/step - loss: 98.2031 - val_loss: 99.2375\n",
            "Epoch 190/270\n",
            "21201/21201 [==============================] - 4s 184us/step - loss: 98.2037 - val_loss: 99.1699\n",
            "Epoch 191/270\n",
            "21201/21201 [==============================] - 4s 181us/step - loss: 98.1978 - val_loss: 99.1993\n",
            "Epoch 192/270\n",
            "21201/21201 [==============================] - 4s 183us/step - loss: 98.1916 - val_loss: 99.2735\n",
            "Epoch 193/270\n",
            "21201/21201 [==============================] - 4s 183us/step - loss: 98.2196 - val_loss: 99.2174\n",
            "Epoch 194/270\n",
            "21201/21201 [==============================] - 4s 182us/step - loss: 98.2279 - val_loss: 99.2712\n",
            "Epoch 195/270\n",
            "21201/21201 [==============================] - 4s 186us/step - loss: 98.2349 - val_loss: 99.1196\n",
            "Epoch 196/270\n",
            "21201/21201 [==============================] - 4s 196us/step - loss: 98.2405 - val_loss: 99.2371\n",
            "Epoch 197/270\n",
            "21201/21201 [==============================] - 4s 199us/step - loss: 98.2357 - val_loss: 99.2061\n",
            "Epoch 198/270\n",
            "21201/21201 [==============================] - 4s 192us/step - loss: 98.2359 - val_loss: 99.2223\n",
            "Epoch 199/270\n",
            "21201/21201 [==============================] - 4s 184us/step - loss: 98.2335 - val_loss: 99.2086\n",
            "Epoch 200/270\n",
            "21201/21201 [==============================] - 4s 186us/step - loss: 98.2337 - val_loss: 99.1967\n",
            "Epoch 201/270\n",
            "21201/21201 [==============================] - 4s 189us/step - loss: 98.2344 - val_loss: 99.2157\n",
            "Epoch 202/270\n",
            "21201/21201 [==============================] - 4s 189us/step - loss: 98.2325 - val_loss: 99.1757\n",
            "Epoch 203/270\n",
            "21201/21201 [==============================] - 4s 187us/step - loss: 98.2276 - val_loss: 99.2586\n",
            "Epoch 204/270\n",
            "21201/21201 [==============================] - 4s 185us/step - loss: 98.2290 - val_loss: 99.2254\n",
            "Epoch 205/270\n",
            "21201/21201 [==============================] - 4s 187us/step - loss: 98.2284 - val_loss: 99.2007\n",
            "Epoch 206/270\n",
            "21201/21201 [==============================] - 4s 186us/step - loss: 98.2292 - val_loss: 99.2517\n",
            "Epoch 207/270\n",
            "21201/21201 [==============================] - 4s 187us/step - loss: 98.2310 - val_loss: 99.1665\n",
            "Epoch 208/270\n",
            "21201/21201 [==============================] - 4s 187us/step - loss: 98.2372 - val_loss: 99.2019\n",
            "Epoch 209/270\n",
            "21201/21201 [==============================] - 4s 183us/step - loss: 98.2276 - val_loss: 99.1478\n",
            "Epoch 210/270\n",
            "21201/21201 [==============================] - 4s 193us/step - loss: 98.2333 - val_loss: 99.2069\n",
            "Epoch 211/270\n",
            "21201/21201 [==============================] - 4s 187us/step - loss: 98.2328 - val_loss: 99.2513\n",
            "Epoch 212/270\n",
            "21201/21201 [==============================] - 4s 184us/step - loss: 98.2340 - val_loss: 99.2081\n",
            "Epoch 213/270\n",
            "21201/21201 [==============================] - 4s 185us/step - loss: 98.2265 - val_loss: 99.2008\n",
            "Epoch 214/270\n",
            "21201/21201 [==============================] - 4s 186us/step - loss: 98.2316 - val_loss: 99.1389\n",
            "Epoch 215/270\n",
            "21201/21201 [==============================] - 4s 183us/step - loss: 98.2296 - val_loss: 99.0925\n",
            "Epoch 216/270\n",
            "21201/21201 [==============================] - 4s 184us/step - loss: 98.2282 - val_loss: 99.1867\n",
            "Epoch 217/270\n",
            "21201/21201 [==============================] - 4s 185us/step - loss: 98.2335 - val_loss: 99.2198\n",
            "Epoch 218/270\n",
            "21201/21201 [==============================] - 4s 183us/step - loss: 98.2278 - val_loss: 99.1746\n",
            "Epoch 219/270\n",
            "21201/21201 [==============================] - 4s 186us/step - loss: 98.2353 - val_loss: 99.1664\n",
            "Epoch 220/270\n",
            "21201/21201 [==============================] - 4s 184us/step - loss: 98.2388 - val_loss: 99.1693\n",
            "Epoch 221/270\n",
            "21201/21201 [==============================] - 4s 183us/step - loss: 98.2334 - val_loss: 99.1315\n",
            "Epoch 222/270\n",
            "21201/21201 [==============================] - 4s 186us/step - loss: 98.2274 - val_loss: 99.0876\n",
            "Epoch 223/270\n",
            "21201/21201 [==============================] - 4s 184us/step - loss: 98.2184 - val_loss: 99.3150\n",
            "Epoch 224/270\n",
            "21201/21201 [==============================] - 4s 187us/step - loss: 98.2331 - val_loss: 99.1555\n",
            "Epoch 225/270\n",
            "21201/21201 [==============================] - 4s 186us/step - loss: 98.2319 - val_loss: 99.1434\n",
            "Epoch 226/270\n",
            "21201/21201 [==============================] - 4s 185us/step - loss: 98.2262 - val_loss: 99.2602\n",
            "Epoch 227/270\n",
            "21201/21201 [==============================] - 4s 186us/step - loss: 98.2288 - val_loss: 99.1779\n",
            "Epoch 228/270\n",
            "21201/21201 [==============================] - 4s 188us/step - loss: 98.2268 - val_loss: 99.1973\n",
            "Epoch 229/270\n",
            "21201/21201 [==============================] - 4s 191us/step - loss: 98.2316 - val_loss: 99.1331\n",
            "Epoch 230/270\n",
            "21201/21201 [==============================] - 4s 195us/step - loss: 98.2300 - val_loss: 99.1876\n",
            "Epoch 231/270\n",
            "21201/21201 [==============================] - 4s 184us/step - loss: 98.2285 - val_loss: 99.2400\n",
            "Epoch 232/270\n",
            "21201/21201 [==============================] - 4s 184us/step - loss: 98.2327 - val_loss: 99.1460\n",
            "Epoch 233/270\n",
            "21201/21201 [==============================] - 4s 188us/step - loss: 98.2301 - val_loss: 99.2190\n",
            "Epoch 234/270\n",
            "21201/21201 [==============================] - 4s 185us/step - loss: 98.2289 - val_loss: 99.0789\n",
            "Epoch 235/270\n",
            "21201/21201 [==============================] - 4s 185us/step - loss: 98.2209 - val_loss: 99.2638\n",
            "Epoch 236/270\n",
            "21201/21201 [==============================] - 4s 184us/step - loss: 98.2299 - val_loss: 99.1253\n",
            "Epoch 237/270\n",
            "21201/21201 [==============================] - 4s 187us/step - loss: 98.2278 - val_loss: 99.2660\n",
            "Epoch 238/270\n",
            "21201/21201 [==============================] - 4s 185us/step - loss: 98.2279 - val_loss: 99.1105\n",
            "Epoch 239/270\n",
            "21201/21201 [==============================] - 4s 184us/step - loss: 98.2282 - val_loss: 99.0334\n",
            "Epoch 240/270\n",
            "21201/21201 [==============================] - 4s 187us/step - loss: 98.2302 - val_loss: 99.2566\n",
            "Epoch 241/270\n",
            "21201/21201 [==============================] - 4s 187us/step - loss: 98.2304 - val_loss: 99.0938\n",
            "Epoch 242/270\n",
            "21201/21201 [==============================] - 4s 186us/step - loss: 98.2323 - val_loss: 99.1874\n",
            "Epoch 243/270\n",
            "21201/21201 [==============================] - 4s 185us/step - loss: 98.2287 - val_loss: 99.1630\n",
            "Epoch 244/270\n",
            "21201/21201 [==============================] - 4s 190us/step - loss: 98.2309 - val_loss: 99.1980\n",
            "Epoch 245/270\n",
            "21201/21201 [==============================] - 4s 186us/step - loss: 98.2290 - val_loss: 99.1679\n",
            "Epoch 246/270\n",
            "21201/21201 [==============================] - 4s 192us/step - loss: 98.2304 - val_loss: 99.1739\n",
            "Epoch 247/270\n",
            "21201/21201 [==============================] - 4s 186us/step - loss: 98.2274 - val_loss: 99.1627\n",
            "Epoch 248/270\n",
            "21201/21201 [==============================] - 4s 183us/step - loss: 98.2340 - val_loss: 99.2069\n",
            "Epoch 249/270\n",
            "21201/21201 [==============================] - 4s 186us/step - loss: 98.2296 - val_loss: 99.1993\n",
            "Epoch 250/270\n",
            "21201/21201 [==============================] - 4s 187us/step - loss: 98.2295 - val_loss: 99.1378\n",
            "Epoch 251/270\n",
            "21201/21201 [==============================] - 4s 184us/step - loss: 98.2306 - val_loss: 99.1045\n",
            "Epoch 252/270\n",
            "21201/21201 [==============================] - 4s 186us/step - loss: 98.2297 - val_loss: 99.1614\n",
            "Epoch 253/270\n",
            "21201/21201 [==============================] - 4s 187us/step - loss: 98.2339 - val_loss: 99.1332\n",
            "Epoch 254/270\n",
            "21201/21201 [==============================] - 4s 187us/step - loss: 98.2271 - val_loss: 99.1819\n",
            "Epoch 255/270\n",
            "21201/21201 [==============================] - 4s 182us/step - loss: 98.2293 - val_loss: 99.2306\n",
            "Epoch 256/270\n",
            "21201/21201 [==============================] - 4s 189us/step - loss: 98.2268 - val_loss: 99.1053\n",
            "Epoch 257/270\n",
            "21201/21201 [==============================] - 4s 187us/step - loss: 98.2317 - val_loss: 99.2159\n",
            "Epoch 258/270\n",
            "21201/21201 [==============================] - 4s 186us/step - loss: 98.2316 - val_loss: 99.2086\n",
            "Epoch 259/270\n",
            "21201/21201 [==============================] - 4s 189us/step - loss: 98.2303 - val_loss: 99.2359\n",
            "Epoch 260/270\n",
            "21201/21201 [==============================] - 4s 185us/step - loss: 98.2260 - val_loss: 99.1460\n",
            "Epoch 261/270\n",
            "21201/21201 [==============================] - 4s 185us/step - loss: 98.2276 - val_loss: 99.1781\n",
            "Epoch 262/270\n",
            "21201/21201 [==============================] - 4s 186us/step - loss: 98.2283 - val_loss: 99.1675\n",
            "Epoch 263/270\n",
            "21201/21201 [==============================] - 4s 186us/step - loss: 98.2261 - val_loss: 99.2161\n",
            "Epoch 264/270\n",
            "21201/21201 [==============================] - 4s 186us/step - loss: 98.2303 - val_loss: 99.1029\n",
            "Epoch 265/270\n",
            "21201/21201 [==============================] - 4s 187us/step - loss: 98.2320 - val_loss: 99.1814\n",
            "Epoch 266/270\n",
            "21201/21201 [==============================] - 4s 189us/step - loss: 98.2287 - val_loss: 99.1508\n",
            "Epoch 267/270\n",
            "21201/21201 [==============================] - 4s 188us/step - loss: 98.2122 - val_loss: 99.2675\n",
            "Epoch 268/270\n",
            "21201/21201 [==============================] - 4s 187us/step - loss: 98.2284 - val_loss: 99.1811\n",
            "Epoch 269/270\n",
            "21201/21201 [==============================] - 4s 190us/step - loss: 98.2271 - val_loss: 99.2406\n",
            "Epoch 270/270\n",
            "21201/21201 [==============================] - 4s 185us/step - loss: 98.2239 - val_loss: 99.1858\n"
          ],
          "name": "stdout"
        },
        {
          "output_type": "execute_result",
          "data": {
            "text/plain": [
              "<keras.callbacks.History at 0x7f9eff4a90b8>"
            ]
          },
          "metadata": {
            "tags": []
          },
          "execution_count": 415
        }
      ]
    },
    {
      "cell_type": "code",
      "metadata": {
        "id": "kHTI1cKRIuW7",
        "colab_type": "code",
        "outputId": "0ec44abd-514e-4dca-aad8-81b3003e02f9",
        "colab": {
          "base_uri": "https://localhost:8080/",
          "height": 34
        }
      },
      "source": [
        "preds = model.predict(x_test)\n",
        "rmse = sqrt(mean_squared_error(preds, y_test))\n",
        "print(rmse)"
      ],
      "execution_count": 0,
      "outputs": [
        {
          "output_type": "stream",
          "text": [
            "6802.129265764246\n"
          ],
          "name": "stdout"
        }
      ]
    },
    {
      "cell_type": "code",
      "metadata": {
        "id": "3EzEcEkPcGcA",
        "colab_type": "code",
        "outputId": "5e80f51a-a90d-44bd-e051-925b39d6e711",
        "colab": {
          "base_uri": "https://localhost:8080/",
          "height": 367
        }
      },
      "source": [
        "import functools\n",
        "\n",
        "import numpy\n",
        "import scipy.optimize\n",
        "import algopy\n",
        "import numdifftools\n",
        "import pandas\n",
        "import patsy\n",
        "\n",
        "\n",
        "def get_aic(y, X, theta):\n",
        "    return 2*len(theta) + 2*get_neg_ll(y, X, theta)\n",
        "\n",
        "def get_neg_ll(y, X, theta):\n",
        "    alpha = theta[-1]\n",
        "    beta = theta[:-1]\n",
        "    a = alpha * algopy.exp(algopy.dot(X, beta))\n",
        "    ll = algopy.sum(\n",
        "        -y*algopy.log1p(1/a) +\n",
        "        -algopy.log1p(a) / alpha +\n",
        "        algopy.special.gammaln(y + 1/alpha) +\n",
        "        -algopy.special.gammaln(y + 1) +\n",
        "        -algopy.special.gammaln(1/alpha))\n",
        "    neg_ll = -ll\n",
        "    return neg_ll\n",
        "\n",
        "def eval_grad(f, theta):\n",
        "    theta = algopy.UTPM.init_jacobian(theta)\n",
        "    return algopy.UTPM.extract_jacobian(f(theta))\n",
        "\n",
        "def eval_hess(f, theta):\n",
        "    theta = algopy.UTPM.init_hessian(theta)\n",
        "    return algopy.UTPM.extract_hessian(len(theta), f(theta))\n",
        "\n",
        "def main():\n",
        "    y = y_act_train\n",
        "    X = x_act_train\n",
        "\n",
        "    # define the objective function and the autodiff gradient and hessian\n",
        "    f = functools.partial(get_neg_ll, y, X)\n",
        "    g = functools.partial(eval_grad, f)\n",
        "    h = functools.partial(eval_hess, f)\n",
        "\n",
        "    # init the search for max likelihood parameters\n",
        "    theta0 = numpy.array([\n",
        "        numpy.log(numpy.mean(y)),\n",
        "        0, 0, 0, 0,\n",
        "        0.5,\n",
        "        ], dtype=float)\n",
        "\n",
        "    # do the max likelihood search\n",
        "    results = scipy.optimize.fmin_ncg(\n",
        "            f,\n",
        "            theta0,\n",
        "            fprime=g,\n",
        "            fhess=h,\n",
        "            avextol=1e-6,\n",
        "            )\n",
        "\n",
        "    # compute the hessian a couple of different ways\n",
        "    algopy_hessian = h(results)\n",
        "    num_hessian = numdifftools.Hessian(f)(results)\n",
        "\n",
        "    # report the results of the search including aic and standard error\n",
        "    print('search results:')\n",
        "    print(results)\n",
        "    print()\n",
        "    print('aic:')\n",
        "    print(get_aic(y, X, results))\n",
        "    print()\n",
        "    print('standard error using observed fisher information,')\n",
        "    print('with hessian computed using algopy:')\n",
        "    print(numpy.sqrt(numpy.diag(scipy.linalg.inv(algopy_hessian))))\n",
        "    print()\n",
        "    print('standard error using observed fisher information,')\n",
        "    print('with hessian computed using numdifftools:')\n",
        "    print(numpy.sqrt(numpy.diag(scipy.linalg.inv(num_hessian))))\n",
        "    print()\n",
        "\n",
        "\n",
        "if __name__ == '__main__':\n",
        "    main()"
      ],
      "execution_count": 0,
      "outputs": [
        {
          "output_type": "error",
          "ename": "ModuleNotFoundError",
          "evalue": "ignored",
          "traceback": [
            "\u001b[0;31m---------------------------------------------------------------------------\u001b[0m",
            "\u001b[0;31mModuleNotFoundError\u001b[0m                       Traceback (most recent call last)",
            "\u001b[0;32m<ipython-input-30-58af59e81796>\u001b[0m in \u001b[0;36m<module>\u001b[0;34m()\u001b[0m\n\u001b[1;32m      3\u001b[0m \u001b[0;32mimport\u001b[0m \u001b[0mnumpy\u001b[0m\u001b[0;34m\u001b[0m\u001b[0;34m\u001b[0m\u001b[0m\n\u001b[1;32m      4\u001b[0m \u001b[0;32mimport\u001b[0m \u001b[0mscipy\u001b[0m\u001b[0;34m.\u001b[0m\u001b[0moptimize\u001b[0m\u001b[0;34m\u001b[0m\u001b[0;34m\u001b[0m\u001b[0m\n\u001b[0;32m----> 5\u001b[0;31m \u001b[0;32mimport\u001b[0m \u001b[0malgopy\u001b[0m\u001b[0;34m\u001b[0m\u001b[0;34m\u001b[0m\u001b[0m\n\u001b[0m\u001b[1;32m      6\u001b[0m \u001b[0;32mimport\u001b[0m \u001b[0mnumdifftools\u001b[0m\u001b[0;34m\u001b[0m\u001b[0;34m\u001b[0m\u001b[0m\n\u001b[1;32m      7\u001b[0m \u001b[0;32mimport\u001b[0m \u001b[0mpandas\u001b[0m\u001b[0;34m\u001b[0m\u001b[0;34m\u001b[0m\u001b[0m\n",
            "\u001b[0;31mModuleNotFoundError\u001b[0m: No module named 'algopy'",
            "",
            "\u001b[0;31m---------------------------------------------------------------------------\u001b[0;32m\nNOTE: If your import is failing due to a missing package, you can\nmanually install dependencies using either !pip or !apt.\n\nTo view examples of installing some common dependencies, click the\n\"Open Examples\" button below.\n\u001b[0;31m---------------------------------------------------------------------------\u001b[0m\n"
          ]
        }
      ]
    },
    {
      "cell_type": "code",
      "metadata": {
        "id": "zLd1uJ0oMJ0O",
        "colab_type": "code",
        "colab": {}
      },
      "source": [
        "yy = pd.DataFrame(preds,columns=['Predicted total time'])\n",
        "orde = [f'Order_No_{i}' for i in Actual_Test['Order No']]\n",
        "orde = pd.DataFrame(orde,columns=['Order No'])\n",
        "Submission2 = orde.join(yy)\n",
        "Submission2.to_csv('Castro_Olang_Submissionxgb.csv',index=False)"
      ],
      "execution_count": 0,
      "outputs": []
    },
    {
      "cell_type": "markdown",
      "metadata": {
        "id": "ix8tBQxAm4be",
        "colab_type": "text"
      },
      "source": [
        "#### scatter plot of predicted data "
      ]
    },
    {
      "cell_type": "code",
      "metadata": {
        "id": "ZHyrr3wtou6z",
        "colab_type": "code",
        "colab": {}
      },
      "source": [
        ""
      ],
      "execution_count": 0,
      "outputs": []
    },
    {
      "cell_type": "code",
      "metadata": {
        "id": "YbgOMdkqm4bt",
        "colab_type": "code",
        "colab": {}
      },
      "source": [
        "import numpy as np"
      ],
      "execution_count": 0,
      "outputs": []
    },
    {
      "cell_type": "code",
      "metadata": {
        "id": "-9NH8zqtm4b1",
        "colab_type": "code",
        "colab": {}
      },
      "source": [
        "### feature x_act_train, target y_act_train, actual y_test,predictor x_test"
      ],
      "execution_count": 0,
      "outputs": []
    },
    {
      "cell_type": "code",
      "metadata": {
        "id": "6jbqiDaim4cD",
        "colab_type": "code",
        "colab": {}
      },
      "source": [
        "def hypothesis(theta,X,n):\n",
        "    h = np.ones((X.shape[0],1))\n",
        "    theta = theta.reshape(1,n+1)\n",
        "    for i in range(0, X.shape[0]):\n",
        "        h[i] = float(np.matmul(theta, X[i]))\n",
        "    h = h.reshape(X.shape[0])\n",
        "    return h"
      ],
      "execution_count": 0,
      "outputs": []
    },
    {
      "cell_type": "code",
      "metadata": {
        "id": "4RnYI0K9m4cT",
        "colab_type": "code",
        "colab": {}
      },
      "source": [
        "def BGD(theta,alpha,num_iters,h,X,y,n):\n",
        "    cost = np.ones(num_iters)\n",
        "    for i in range(0,num_iters):\n",
        "        theta[0] = theta[0] - (alpha/X.shape[0]) * sum(h - y)\n",
        "        for j in range(1,n+1):\n",
        "            theta[j] = theta[j] - (alpha/X.shape[0]) * sum((h - y) * X.transpose()[j])\n",
        "        h = hypothesis(theta,X,n)\n",
        "        cost[i] = (1/X.shape[0]) * 0.5 * sum(np.square(h - y))\n",
        "    theta = theta.reshape(1,n+1)\n",
        "    return theta, cost"
      ],
      "execution_count": 0,
      "outputs": []
    },
    {
      "cell_type": "code",
      "metadata": {
        "id": "6TOgChzsm4cZ",
        "colab_type": "code",
        "colab": {}
      },
      "source": [
        "def linear_regression(X,y,alpha,num_iters):\n",
        "    n = X.shape[1]\n",
        "    one_column = np.ones((X.shape[0],1))\n",
        "    X = np.concatenate((one_column,X),axis = 1)\n",
        "    ####initializing the parameter vector\n",
        "    theta = np.zeros(n+1)\n",
        "    ####hypothesis calculation\n",
        "    h = hypothesis(theta,X,n)\n",
        "    ####returning the optimised parameters by gradient descent\n",
        "    theta, cost = BGD(theta,alpha,num_iters,h,X,y,n)\n",
        "    return theta, cost"
      ],
      "execution_count": 0,
      "outputs": []
    },
    {
      "cell_type": "code",
      "metadata": {
        "id": "YhVUJFP5m4cq",
        "colab_type": "code",
        "colab": {}
      },
      "source": [
        "###reading data\n",
        "X_train = x_act_train\n",
        "y_train = y_act_train"
      ],
      "execution_count": 0,
      "outputs": []
    },
    {
      "cell_type": "code",
      "metadata": {
        "id": "OaINXY0lm4cz",
        "colab_type": "code",
        "colab": {}
      },
      "source": [
        "### feature scaling\n",
        "mean = np.ones(X_train.shape[1])\n",
        "std = np.ones(X_train.shape[1])"
      ],
      "execution_count": 0,
      "outputs": []
    },
    {
      "cell_type": "code",
      "metadata": {
        "id": "yieRo2A_m4dB",
        "colab_type": "code",
        "colab": {}
      },
      "source": [
        "for i in range(0,X_train.shape[1]):\n",
        "    mean[i] = np.mean(X_train.transpose()[i])\n",
        "    std[i] = np.std(X_train.transpose()[i])\n",
        "    for j in range(0,X_train.shape[0]):\n",
        "        X_train[j][i] = (X_train[j][i] - mean[i])/std[i]"
      ],
      "execution_count": 0,
      "outputs": []
    },
    {
      "cell_type": "code",
      "metadata": {
        "id": "VH4Evmtkm4dM",
        "colab_type": "code",
        "colab": {}
      },
      "source": [
        "print(\"MEAN XTRAIN: {mean},'\\n' ,STD XTRAIN: {std}\")"
      ],
      "execution_count": 0,
      "outputs": []
    },
    {
      "cell_type": "code",
      "metadata": {
        "id": "iK9prdJLm4di",
        "colab_type": "code",
        "colab": {}
      },
      "source": [
        "mean1 = np.ones(x_test.shape[1])\n",
        "std1 = np.ones(x_test.shape[1])"
      ],
      "execution_count": 0,
      "outputs": []
    },
    {
      "cell_type": "code",
      "metadata": {
        "id": "_HHzZYmUm4dp",
        "colab_type": "code",
        "colab": {}
      },
      "source": [
        "####for test data\n",
        "for k in range(0,x_test.shape[1]):\n",
        "    mean1[k] = np.mean(x_test.transpose()[k])\n",
        "    std1[k] = np.std(x_test.transpose()[k])\n",
        "    for l in range(0,x_test.shape[0]):\n",
        "        x_test[l][k] = (x_test[l][k] - mean1[k])/std1[k]"
      ],
      "execution_count": 0,
      "outputs": []
    },
    {
      "cell_type": "code",
      "metadata": {
        "id": "WHqW2Lzlm4dz",
        "colab_type": "code",
        "colab": {}
      },
      "source": [
        "print(f\"mean xtest: {mean1}, '\\n', std xtext: {std1}\")"
      ],
      "execution_count": 0,
      "outputs": []
    },
    {
      "cell_type": "code",
      "metadata": {
        "id": "hbFiR2Jgm4d6",
        "colab_type": "code",
        "colab": {}
      },
      "source": [
        "###calling the principal function with learnng_rate = 0.0001 and num_iters = 300000\n",
        "theta, cost = linear_regression(X_train,y_train,0.0001,300000)"
      ],
      "execution_count": 0,
      "outputs": []
    },
    {
      "cell_type": "code",
      "metadata": {
        "id": "kGCKaH-rm4eF",
        "colab_type": "code",
        "colab": {}
      },
      "source": [
        "cost = list(cost)\n",
        "n_iterations =[x for x in range(1,300001)]\n",
        "plt.plot(n_iterations, cost)\n",
        "plt.xlabel('No. of iterations')\n",
        "plt.ylabel('cost')"
      ],
      "execution_count": 0,
      "outputs": []
    },
    {
      "cell_type": "code",
      "metadata": {
        "id": "8fcFTwBym4eK",
        "colab_type": "code",
        "colab": {}
      },
      "source": [
        "###getting the predictions\n",
        "x_test = np.concatenate((np.ones((x_test.shape[0],1)),x_test),axis=1)\n",
        "y_predictions = hypothesis(theta,x_test,x_test.shape[1] - 1)"
      ],
      "execution_count": 0,
      "outputs": []
    },
    {
      "cell_type": "code",
      "metadata": {
        "id": "PykadTEum4eV",
        "colab_type": "code",
        "colab": {}
      },
      "source": [
        "RMSE = sqrt(mean_squared_error(y_test, y_predictions))\n",
        "print(f\"grad rmse : {RMSE}\")"
      ],
      "execution_count": 0,
      "outputs": []
    },
    {
      "cell_type": "code",
      "metadata": {
        "id": "tKZqaOkTm4ea",
        "colab_type": "code",
        "colab": {}
      },
      "source": [
        "yy = pd.DataFrame(y_predictions,columns=['Predicted total time'])\n",
        "orde = [f'Order_No_{i}' for i in Actual_Test['Order No']]\n",
        "orde = pd.DataFrame(orde,columns=['Order No'])\n",
        "Submission2 = orde.join(yy)\n",
        "Submission2.to_csv('Castro_Olang_Submission.csv',index=False)"
      ],
      "execution_count": 0,
      "outputs": []
    },
    {
      "cell_type": "code",
      "metadata": {
        "id": "YwSudDpRm4ej",
        "colab_type": "code",
        "colab": {}
      },
      "source": [
        ""
      ],
      "execution_count": 0,
      "outputs": []
    }
  ]
}