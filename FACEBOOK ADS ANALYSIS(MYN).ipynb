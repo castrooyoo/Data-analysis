{
 "cells": [
  {
   "cell_type": "markdown",
   "metadata": {},
   "source": [
    "SIMPLE DATA PREPARATION PROCESS ON MY FACEBOOK ADS"
   ]
  },
  {
   "cell_type": "code",
   "execution_count": 49,
   "metadata": {},
   "outputs": [],
   "source": [
    "import pandas as pd\n",
    "import numpy as np\n",
    "import matplotlib.pyplot as plt\n",
    "import seaborn as sns\n",
    "%matplotlib inline"
   ]
  },
  {
   "cell_type": "code",
   "execution_count": 71,
   "metadata": {},
   "outputs": [],
   "source": [
    "df=pd.read_csv('./fb ads.csv')"
   ]
  },
  {
   "cell_type": "code",
   "execution_count": 72,
   "metadata": {},
   "outputs": [
    {
     "data": {
      "text/plain": [
       "(15, 15)"
      ]
     },
     "execution_count": 72,
     "metadata": {},
     "output_type": "execute_result"
    }
   ],
   "source": [
    "df.shape"
   ]
  },
  {
   "cell_type": "code",
   "execution_count": 73,
   "metadata": {},
   "outputs": [
    {
     "data": {
      "text/html": [
       "<div>\n",
       "<style scoped>\n",
       "    .dataframe tbody tr th:only-of-type {\n",
       "        vertical-align: middle;\n",
       "    }\n",
       "\n",
       "    .dataframe tbody tr th {\n",
       "        vertical-align: top;\n",
       "    }\n",
       "\n",
       "    .dataframe thead th {\n",
       "        text-align: right;\n",
       "    }\n",
       "</style>\n",
       "<table border=\"1\" class=\"dataframe\">\n",
       "  <thead>\n",
       "    <tr style=\"text-align: right;\">\n",
       "      <th></th>\n",
       "      <th>Campaign name</th>\n",
       "      <th>Ad set name</th>\n",
       "      <th>Delivery status</th>\n",
       "      <th>Delivery level</th>\n",
       "      <th>Reach</th>\n",
       "      <th>Impressions</th>\n",
       "      <th>Frequency</th>\n",
       "      <th>Result Type</th>\n",
       "      <th>Results</th>\n",
       "      <th>Cost per result</th>\n",
       "      <th>Amount spent (KES)</th>\n",
       "      <th>Starts</th>\n",
       "      <th>Ends</th>\n",
       "      <th>Reporting starts</th>\n",
       "      <th>Reporting ends</th>\n",
       "    </tr>\n",
       "  </thead>\n",
       "  <tbody>\n",
       "    <tr>\n",
       "      <th>0</th>\n",
       "      <td>NaN</td>\n",
       "      <td>NaN</td>\n",
       "      <td>NaN</td>\n",
       "      <td>NaN</td>\n",
       "      <td>294016</td>\n",
       "      <td>438856</td>\n",
       "      <td>1.492626</td>\n",
       "      <td>NaN</td>\n",
       "      <td>NaN</td>\n",
       "      <td>NaN</td>\n",
       "      <td>28155.77</td>\n",
       "      <td>NaN</td>\n",
       "      <td>NaN</td>\n",
       "      <td>2018-05-26</td>\n",
       "      <td>2019-05-28</td>\n",
       "    </tr>\n",
       "    <tr>\n",
       "      <th>1</th>\n",
       "      <td>Traffic – Copy</td>\n",
       "      <td>KE - 18+</td>\n",
       "      <td>archived</td>\n",
       "      <td>adset</td>\n",
       "      <td>542</td>\n",
       "      <td>591</td>\n",
       "      <td>1.090406</td>\n",
       "      <td>Link clicks</td>\n",
       "      <td>19.0</td>\n",
       "      <td>2.436316</td>\n",
       "      <td>46.29</td>\n",
       "      <td>2018-07-08</td>\n",
       "      <td>Ongoing</td>\n",
       "      <td>2018-05-26</td>\n",
       "      <td>2019-05-28</td>\n",
       "    </tr>\n",
       "    <tr>\n",
       "      <th>2</th>\n",
       "      <td>[21/07/2018] Promoting Book Now</td>\n",
       "      <td>[21/07/2018] Promoting Book Now</td>\n",
       "      <td>archived</td>\n",
       "      <td>adset</td>\n",
       "      <td>4727</td>\n",
       "      <td>4840</td>\n",
       "      <td>1.023905</td>\n",
       "      <td>Link clicks</td>\n",
       "      <td>53.0</td>\n",
       "      <td>3.376038</td>\n",
       "      <td>178.93</td>\n",
       "      <td>2018-07-21</td>\n",
       "      <td>2018-07-31</td>\n",
       "      <td>2018-05-26</td>\n",
       "      <td>2019-05-28</td>\n",
       "    </tr>\n",
       "  </tbody>\n",
       "</table>\n",
       "</div>"
      ],
      "text/plain": [
       "                     Campaign name                      Ad set name  \\\n",
       "0                              NaN                              NaN   \n",
       "1                   Traffic – Copy                         KE - 18+   \n",
       "2  [21/07/2018] Promoting Book Now  [21/07/2018] Promoting Book Now   \n",
       "\n",
       "  Delivery status Delivery level   Reach  Impressions  Frequency  Result Type  \\\n",
       "0             NaN            NaN  294016       438856   1.492626          NaN   \n",
       "1        archived          adset     542          591   1.090406  Link clicks   \n",
       "2        archived          adset    4727         4840   1.023905  Link clicks   \n",
       "\n",
       "   Results  Cost per result  Amount spent (KES)      Starts        Ends  \\\n",
       "0      NaN              NaN            28155.77         NaN         NaN   \n",
       "1     19.0         2.436316               46.29  2018-07-08     Ongoing   \n",
       "2     53.0         3.376038              178.93  2018-07-21  2018-07-31   \n",
       "\n",
       "  Reporting starts Reporting ends  \n",
       "0       2018-05-26     2019-05-28  \n",
       "1       2018-05-26     2019-05-28  \n",
       "2       2018-05-26     2019-05-28  "
      ]
     },
     "execution_count": 73,
     "metadata": {},
     "output_type": "execute_result"
    }
   ],
   "source": [
    "df.head(3)"
   ]
  },
  {
   "cell_type": "code",
   "execution_count": 74,
   "metadata": {},
   "outputs": [
    {
     "data": {
      "text/plain": [
       "Index(['Campaign name', 'Ad set name', 'Delivery status', 'Delivery level',\n",
       "       'Reach', 'Impressions', 'Frequency', 'Result Type', 'Results',\n",
       "       'Cost per result', 'Amount spent (KES)', 'Starts', 'Ends',\n",
       "       'Reporting starts', 'Reporting ends'],\n",
       "      dtype='object')"
      ]
     },
     "execution_count": 74,
     "metadata": {},
     "output_type": "execute_result"
    }
   ],
   "source": [
    "df.columns#columns in the dataframe"
   ]
  },
  {
   "cell_type": "code",
   "execution_count": null,
   "metadata": {},
   "outputs": [],
   "source": []
  },
  {
   "cell_type": "code",
   "execution_count": 75,
   "metadata": {},
   "outputs": [
    {
     "name": "stdout",
     "output_type": "stream",
     "text": [
      "Campaign name         1\n",
      "Ad set name           1\n",
      "Delivery status       1\n",
      "Delivery level        1\n",
      "Reach                 0\n",
      "Impressions           0\n",
      "Frequency             0\n",
      "Result Type           1\n",
      "Results               3\n",
      "Cost per result       3\n",
      "Amount spent (KES)    0\n",
      "Starts                1\n",
      "Ends                  1\n",
      "Reporting starts      0\n",
      "Reporting ends        0\n",
      "dtype: int64\n"
     ]
    }
   ],
   "source": [
    "Missing_values=df.isnull().sum()#Getting the number of missing values in each column\n",
    "print(Missing_values)"
   ]
  },
  {
   "cell_type": "code",
   "execution_count": 76,
   "metadata": {},
   "outputs": [
    {
     "data": {
      "text/html": [
       "<div>\n",
       "<style scoped>\n",
       "    .dataframe tbody tr th:only-of-type {\n",
       "        vertical-align: middle;\n",
       "    }\n",
       "\n",
       "    .dataframe tbody tr th {\n",
       "        vertical-align: top;\n",
       "    }\n",
       "\n",
       "    .dataframe thead th {\n",
       "        text-align: right;\n",
       "    }\n",
       "</style>\n",
       "<table border=\"1\" class=\"dataframe\">\n",
       "  <thead>\n",
       "    <tr style=\"text-align: right;\">\n",
       "      <th></th>\n",
       "      <th>Campaign name</th>\n",
       "      <th>Ad set name</th>\n",
       "      <th>Delivery status</th>\n",
       "      <th>Delivery level</th>\n",
       "      <th>Reach</th>\n",
       "      <th>Impressions</th>\n",
       "      <th>Frequency</th>\n",
       "      <th>Result Type</th>\n",
       "      <th>Results</th>\n",
       "      <th>Cost per result</th>\n",
       "      <th>Amount spent (KES)</th>\n",
       "      <th>Starts</th>\n",
       "      <th>Ends</th>\n",
       "      <th>Reporting starts</th>\n",
       "      <th>Reporting ends</th>\n",
       "    </tr>\n",
       "  </thead>\n",
       "  <tbody>\n",
       "    <tr>\n",
       "      <th>0</th>\n",
       "      <td>NaN</td>\n",
       "      <td>NaN</td>\n",
       "      <td>NaN</td>\n",
       "      <td>NaN</td>\n",
       "      <td>294016</td>\n",
       "      <td>438856</td>\n",
       "      <td>1.492626</td>\n",
       "      <td>NaN</td>\n",
       "      <td>804.416667</td>\n",
       "      <td>4.219328</td>\n",
       "      <td>28155.77</td>\n",
       "      <td>NaN</td>\n",
       "      <td>NaN</td>\n",
       "      <td>2018-05-26</td>\n",
       "      <td>2019-05-28</td>\n",
       "    </tr>\n",
       "    <tr>\n",
       "      <th>1</th>\n",
       "      <td>Traffic – Copy</td>\n",
       "      <td>KE - 18+</td>\n",
       "      <td>archived</td>\n",
       "      <td>adset</td>\n",
       "      <td>542</td>\n",
       "      <td>591</td>\n",
       "      <td>1.090406</td>\n",
       "      <td>Link clicks</td>\n",
       "      <td>19.000000</td>\n",
       "      <td>2.436316</td>\n",
       "      <td>46.29</td>\n",
       "      <td>2018-07-08</td>\n",
       "      <td>Ongoing</td>\n",
       "      <td>2018-05-26</td>\n",
       "      <td>2019-05-28</td>\n",
       "    </tr>\n",
       "    <tr>\n",
       "      <th>2</th>\n",
       "      <td>[21/07/2018] Promoting Book Now</td>\n",
       "      <td>[21/07/2018] Promoting Book Now</td>\n",
       "      <td>archived</td>\n",
       "      <td>adset</td>\n",
       "      <td>4727</td>\n",
       "      <td>4840</td>\n",
       "      <td>1.023905</td>\n",
       "      <td>Link clicks</td>\n",
       "      <td>53.000000</td>\n",
       "      <td>3.376038</td>\n",
       "      <td>178.93</td>\n",
       "      <td>2018-07-21</td>\n",
       "      <td>2018-07-31</td>\n",
       "      <td>2018-05-26</td>\n",
       "      <td>2019-05-28</td>\n",
       "    </tr>\n",
       "  </tbody>\n",
       "</table>\n",
       "</div>"
      ],
      "text/plain": [
       "                     Campaign name                      Ad set name  \\\n",
       "0                              NaN                              NaN   \n",
       "1                   Traffic – Copy                         KE - 18+   \n",
       "2  [21/07/2018] Promoting Book Now  [21/07/2018] Promoting Book Now   \n",
       "\n",
       "  Delivery status Delivery level   Reach  Impressions  Frequency  Result Type  \\\n",
       "0             NaN            NaN  294016       438856   1.492626          NaN   \n",
       "1        archived          adset     542          591   1.090406  Link clicks   \n",
       "2        archived          adset    4727         4840   1.023905  Link clicks   \n",
       "\n",
       "      Results  Cost per result  Amount spent (KES)      Starts        Ends  \\\n",
       "0  804.416667         4.219328            28155.77         NaN         NaN   \n",
       "1   19.000000         2.436316               46.29  2018-07-08     Ongoing   \n",
       "2   53.000000         3.376038              178.93  2018-07-21  2018-07-31   \n",
       "\n",
       "  Reporting starts Reporting ends  \n",
       "0       2018-05-26     2019-05-28  \n",
       "1       2018-05-26     2019-05-28  \n",
       "2       2018-05-26     2019-05-28  "
      ]
     },
     "execution_count": 76,
     "metadata": {},
     "output_type": "execute_result"
    }
   ],
   "source": [
    "df=df.fillna(df.mean())\n",
    "df.head(3)#filling missing data with mean value and read the first 3 columns"
   ]
  },
  {
   "cell_type": "code",
   "execution_count": 44,
   "metadata": {},
   "outputs": [
    {
     "data": {
      "text/plain": [
       "Ad set name         1\n",
       "Delivery status     0\n",
       "Reach               0\n",
       "Impressions         0\n",
       "Frequency           0\n",
       "Result Type         0\n",
       "Results             0\n",
       "Cost per result     0\n",
       "Amount spent        0\n",
       "Reporting starts    0\n",
       "Reporting ends      0\n",
       "dtype: int64"
      ]
     },
     "execution_count": 44,
     "metadata": {},
     "output_type": "execute_result"
    }
   ],
   "source": [
    "df.isnull().sum()#double checking for missing vALUES"
   ]
  },
  {
   "cell_type": "code",
   "execution_count": 16,
   "metadata": {},
   "outputs": [
    {
     "data": {
      "text/html": [
       "<div>\n",
       "<style scoped>\n",
       "    .dataframe tbody tr th:only-of-type {\n",
       "        vertical-align: middle;\n",
       "    }\n",
       "\n",
       "    .dataframe tbody tr th {\n",
       "        vertical-align: top;\n",
       "    }\n",
       "\n",
       "    .dataframe thead th {\n",
       "        text-align: right;\n",
       "    }\n",
       "</style>\n",
       "<table border=\"1\" class=\"dataframe\">\n",
       "  <thead>\n",
       "    <tr style=\"text-align: right;\">\n",
       "      <th></th>\n",
       "      <th>Campaign name</th>\n",
       "      <th>Ad set name</th>\n",
       "      <th>Delivery status</th>\n",
       "      <th>Delivery level</th>\n",
       "      <th>Reach</th>\n",
       "      <th>Impressions</th>\n",
       "      <th>Frequency</th>\n",
       "      <th>Result Type</th>\n",
       "      <th>Results</th>\n",
       "      <th>Cost per result</th>\n",
       "      <th>Amount spent (KES)</th>\n",
       "      <th>Starts</th>\n",
       "      <th>Ends</th>\n",
       "      <th>Reporting starts</th>\n",
       "      <th>Reporting ends</th>\n",
       "    </tr>\n",
       "  </thead>\n",
       "  <tbody>\n",
       "    <tr>\n",
       "      <th>0</th>\n",
       "      <td>NaN</td>\n",
       "      <td>NaN</td>\n",
       "      <td>NaN</td>\n",
       "      <td>NaN</td>\n",
       "      <td>294016</td>\n",
       "      <td>438856</td>\n",
       "      <td>1.492626</td>\n",
       "      <td>NaN</td>\n",
       "      <td>804.416667</td>\n",
       "      <td>4.219328</td>\n",
       "      <td>28155.77</td>\n",
       "      <td>NaN</td>\n",
       "      <td>NaN</td>\n",
       "      <td>2018-05-26</td>\n",
       "      <td>2019-05-28</td>\n",
       "    </tr>\n",
       "    <tr>\n",
       "      <th>1</th>\n",
       "      <td>Traffic – Copy</td>\n",
       "      <td>KE - 18+</td>\n",
       "      <td>archived</td>\n",
       "      <td>adset</td>\n",
       "      <td>542</td>\n",
       "      <td>591</td>\n",
       "      <td>1.090406</td>\n",
       "      <td>Link clicks</td>\n",
       "      <td>19.000000</td>\n",
       "      <td>2.436316</td>\n",
       "      <td>46.29</td>\n",
       "      <td>2018-07-08</td>\n",
       "      <td>Ongoing</td>\n",
       "      <td>2018-05-26</td>\n",
       "      <td>2019-05-28</td>\n",
       "    </tr>\n",
       "    <tr>\n",
       "      <th>2</th>\n",
       "      <td>[21/07/2018] Promoting Book Now</td>\n",
       "      <td>[21/07/2018] Promoting Book Now</td>\n",
       "      <td>archived</td>\n",
       "      <td>adset</td>\n",
       "      <td>4727</td>\n",
       "      <td>4840</td>\n",
       "      <td>1.023905</td>\n",
       "      <td>Link clicks</td>\n",
       "      <td>53.000000</td>\n",
       "      <td>3.376038</td>\n",
       "      <td>178.93</td>\n",
       "      <td>2018-07-21</td>\n",
       "      <td>2018-07-31</td>\n",
       "      <td>2018-05-26</td>\n",
       "      <td>2019-05-28</td>\n",
       "    </tr>\n",
       "  </tbody>\n",
       "</table>\n",
       "</div>"
      ],
      "text/plain": [
       "                     Campaign name                      Ad set name  \\\n",
       "0                              NaN                              NaN   \n",
       "1                   Traffic – Copy                         KE - 18+   \n",
       "2  [21/07/2018] Promoting Book Now  [21/07/2018] Promoting Book Now   \n",
       "\n",
       "  Delivery status Delivery level   Reach  Impressions  Frequency  Result Type  \\\n",
       "0             NaN            NaN  294016       438856   1.492626          NaN   \n",
       "1        archived          adset     542          591   1.090406  Link clicks   \n",
       "2        archived          adset    4727         4840   1.023905  Link clicks   \n",
       "\n",
       "      Results  Cost per result  Amount spent (KES)      Starts        Ends  \\\n",
       "0  804.416667         4.219328            28155.77         NaN         NaN   \n",
       "1   19.000000         2.436316               46.29  2018-07-08     Ongoing   \n",
       "2   53.000000         3.376038              178.93  2018-07-21  2018-07-31   \n",
       "\n",
       "  Reporting starts Reporting ends  \n",
       "0       2018-05-26     2019-05-28  \n",
       "1       2018-05-26     2019-05-28  \n",
       "2       2018-05-26     2019-05-28  "
      ]
     },
     "execution_count": 16,
     "metadata": {},
     "output_type": "execute_result"
    }
   ],
   "source": [
    "df['Ad set name'].fillna()"
   ]
  },
  {
   "cell_type": "code",
   "execution_count": 17,
   "metadata": {},
   "outputs": [],
   "source": [
    "df.drop(columns=['Campaign name','Delivery level','Starts', 'Ends'],inplace=True)#removing irrelevant columns"
   ]
  },
  {
   "cell_type": "code",
   "execution_count": 18,
   "metadata": {},
   "outputs": [
    {
     "data": {
      "text/html": [
       "<div>\n",
       "<style scoped>\n",
       "    .dataframe tbody tr th:only-of-type {\n",
       "        vertical-align: middle;\n",
       "    }\n",
       "\n",
       "    .dataframe tbody tr th {\n",
       "        vertical-align: top;\n",
       "    }\n",
       "\n",
       "    .dataframe thead th {\n",
       "        text-align: right;\n",
       "    }\n",
       "</style>\n",
       "<table border=\"1\" class=\"dataframe\">\n",
       "  <thead>\n",
       "    <tr style=\"text-align: right;\">\n",
       "      <th></th>\n",
       "      <th>Ad set name</th>\n",
       "      <th>Delivery status</th>\n",
       "      <th>Reach</th>\n",
       "      <th>Impressions</th>\n",
       "      <th>Frequency</th>\n",
       "      <th>Result Type</th>\n",
       "      <th>Results</th>\n",
       "      <th>Cost per result</th>\n",
       "      <th>Amount spent (KES)</th>\n",
       "      <th>Reporting starts</th>\n",
       "      <th>Reporting ends</th>\n",
       "    </tr>\n",
       "  </thead>\n",
       "  <tbody>\n",
       "    <tr>\n",
       "      <th>0</th>\n",
       "      <td>NaN</td>\n",
       "      <td>NaN</td>\n",
       "      <td>294016</td>\n",
       "      <td>438856</td>\n",
       "      <td>1.492626</td>\n",
       "      <td>NaN</td>\n",
       "      <td>804.416667</td>\n",
       "      <td>4.219328</td>\n",
       "      <td>28155.77</td>\n",
       "      <td>2018-05-26</td>\n",
       "      <td>2019-05-28</td>\n",
       "    </tr>\n",
       "    <tr>\n",
       "      <th>1</th>\n",
       "      <td>KE - 18+</td>\n",
       "      <td>archived</td>\n",
       "      <td>542</td>\n",
       "      <td>591</td>\n",
       "      <td>1.090406</td>\n",
       "      <td>Link clicks</td>\n",
       "      <td>19.000000</td>\n",
       "      <td>2.436316</td>\n",
       "      <td>46.29</td>\n",
       "      <td>2018-05-26</td>\n",
       "      <td>2019-05-28</td>\n",
       "    </tr>\n",
       "    <tr>\n",
       "      <th>2</th>\n",
       "      <td>[21/07/2018] Promoting Book Now</td>\n",
       "      <td>archived</td>\n",
       "      <td>4727</td>\n",
       "      <td>4840</td>\n",
       "      <td>1.023905</td>\n",
       "      <td>Link clicks</td>\n",
       "      <td>53.000000</td>\n",
       "      <td>3.376038</td>\n",
       "      <td>178.93</td>\n",
       "      <td>2018-05-26</td>\n",
       "      <td>2019-05-28</td>\n",
       "    </tr>\n",
       "  </tbody>\n",
       "</table>\n",
       "</div>"
      ],
      "text/plain": [
       "                       Ad set name Delivery status   Reach  Impressions  \\\n",
       "0                              NaN             NaN  294016       438856   \n",
       "1                         KE - 18+        archived     542          591   \n",
       "2  [21/07/2018] Promoting Book Now        archived    4727         4840   \n",
       "\n",
       "   Frequency  Result Type     Results  Cost per result  Amount spent (KES)  \\\n",
       "0   1.492626          NaN  804.416667         4.219328            28155.77   \n",
       "1   1.090406  Link clicks   19.000000         2.436316               46.29   \n",
       "2   1.023905  Link clicks   53.000000         3.376038              178.93   \n",
       "\n",
       "  Reporting starts Reporting ends  \n",
       "0       2018-05-26     2019-05-28  \n",
       "1       2018-05-26     2019-05-28  \n",
       "2       2018-05-26     2019-05-28  "
      ]
     },
     "execution_count": 18,
     "metadata": {},
     "output_type": "execute_result"
    }
   ],
   "source": [
    "df.head(3)"
   ]
  },
  {
   "cell_type": "code",
   "execution_count": 19,
   "metadata": {},
   "outputs": [],
   "source": [
    "#Arranging the columns in an orderly format\n"
   ]
  },
  {
   "cell_type": "code",
   "execution_count": 20,
   "metadata": {},
   "outputs": [
    {
     "data": {
      "text/html": [
       "<div>\n",
       "<style scoped>\n",
       "    .dataframe tbody tr th:only-of-type {\n",
       "        vertical-align: middle;\n",
       "    }\n",
       "\n",
       "    .dataframe tbody tr th {\n",
       "        vertical-align: top;\n",
       "    }\n",
       "\n",
       "    .dataframe thead th {\n",
       "        text-align: right;\n",
       "    }\n",
       "</style>\n",
       "<table border=\"1\" class=\"dataframe\">\n",
       "  <thead>\n",
       "    <tr style=\"text-align: right;\">\n",
       "      <th></th>\n",
       "      <th>Reach</th>\n",
       "      <th>Impressions</th>\n",
       "      <th>Frequency</th>\n",
       "      <th>Results</th>\n",
       "      <th>Cost per result</th>\n",
       "      <th>Amount spent (KES)</th>\n",
       "    </tr>\n",
       "  </thead>\n",
       "  <tbody>\n",
       "    <tr>\n",
       "      <th>count</th>\n",
       "      <td>15.000000</td>\n",
       "      <td>15.000000</td>\n",
       "      <td>15.000000</td>\n",
       "      <td>15.000000</td>\n",
       "      <td>15.000000</td>\n",
       "      <td>15.000000</td>\n",
       "    </tr>\n",
       "    <tr>\n",
       "      <th>mean</th>\n",
       "      <td>40827.133333</td>\n",
       "      <td>58514.133333</td>\n",
       "      <td>1.222470</td>\n",
       "      <td>804.416667</td>\n",
       "      <td>4.219328</td>\n",
       "      <td>3754.102667</td>\n",
       "    </tr>\n",
       "    <tr>\n",
       "      <th>std</th>\n",
       "      <td>79231.982180</td>\n",
       "      <td>118257.032109</td>\n",
       "      <td>0.274865</td>\n",
       "      <td>1255.383974</td>\n",
       "      <td>2.143486</td>\n",
       "      <td>7481.852916</td>\n",
       "    </tr>\n",
       "    <tr>\n",
       "      <th>min</th>\n",
       "      <td>5.000000</td>\n",
       "      <td>6.000000</td>\n",
       "      <td>1.011133</td>\n",
       "      <td>14.000000</td>\n",
       "      <td>1.636613</td>\n",
       "      <td>0.000000</td>\n",
       "    </tr>\n",
       "    <tr>\n",
       "      <th>25%</th>\n",
       "      <td>1034.500000</td>\n",
       "      <td>1067.500000</td>\n",
       "      <td>1.030553</td>\n",
       "      <td>40.000000</td>\n",
       "      <td>2.906177</td>\n",
       "      <td>47.365000</td>\n",
       "    </tr>\n",
       "    <tr>\n",
       "      <th>50%</th>\n",
       "      <td>9362.000000</td>\n",
       "      <td>10442.000000</td>\n",
       "      <td>1.120006</td>\n",
       "      <td>298.000000</td>\n",
       "      <td>4.219328</td>\n",
       "      <td>1017.870000</td>\n",
       "    </tr>\n",
       "    <tr>\n",
       "      <th>75%</th>\n",
       "      <td>28256.000000</td>\n",
       "      <td>32649.500000</td>\n",
       "      <td>1.224252</td>\n",
       "      <td>804.416667</td>\n",
       "      <td>4.722140</td>\n",
       "      <td>2289.370000</td>\n",
       "    </tr>\n",
       "    <tr>\n",
       "      <th>max</th>\n",
       "      <td>294016.000000</td>\n",
       "      <td>438856.000000</td>\n",
       "      <td>1.945385</td>\n",
       "      <td>4641.000000</td>\n",
       "      <td>8.830753</td>\n",
       "      <td>28155.770000</td>\n",
       "    </tr>\n",
       "  </tbody>\n",
       "</table>\n",
       "</div>"
      ],
      "text/plain": [
       "               Reach    Impressions  Frequency      Results  Cost per result  \\\n",
       "count      15.000000      15.000000  15.000000    15.000000        15.000000   \n",
       "mean    40827.133333   58514.133333   1.222470   804.416667         4.219328   \n",
       "std     79231.982180  118257.032109   0.274865  1255.383974         2.143486   \n",
       "min         5.000000       6.000000   1.011133    14.000000         1.636613   \n",
       "25%      1034.500000    1067.500000   1.030553    40.000000         2.906177   \n",
       "50%      9362.000000   10442.000000   1.120006   298.000000         4.219328   \n",
       "75%     28256.000000   32649.500000   1.224252   804.416667         4.722140   \n",
       "max    294016.000000  438856.000000   1.945385  4641.000000         8.830753   \n",
       "\n",
       "       Amount spent (KES)  \n",
       "count           15.000000  \n",
       "mean          3754.102667  \n",
       "std           7481.852916  \n",
       "min              0.000000  \n",
       "25%             47.365000  \n",
       "50%           1017.870000  \n",
       "75%           2289.370000  \n",
       "max          28155.770000  "
      ]
     },
     "execution_count": 20,
     "metadata": {},
     "output_type": "execute_result"
    }
   ],
   "source": [
    "df.describe()"
   ]
  },
  {
   "cell_type": "code",
   "execution_count": 21,
   "metadata": {},
   "outputs": [
    {
     "data": {
      "text/html": [
       "<div>\n",
       "<style scoped>\n",
       "    .dataframe tbody tr th:only-of-type {\n",
       "        vertical-align: middle;\n",
       "    }\n",
       "\n",
       "    .dataframe tbody tr th {\n",
       "        vertical-align: top;\n",
       "    }\n",
       "\n",
       "    .dataframe thead th {\n",
       "        text-align: right;\n",
       "    }\n",
       "</style>\n",
       "<table border=\"1\" class=\"dataframe\">\n",
       "  <thead>\n",
       "    <tr style=\"text-align: right;\">\n",
       "      <th></th>\n",
       "      <th>Ad set name</th>\n",
       "      <th>Delivery status</th>\n",
       "      <th>Reach</th>\n",
       "      <th>Impressions</th>\n",
       "      <th>Frequency</th>\n",
       "      <th>Result Type</th>\n",
       "      <th>Results</th>\n",
       "      <th>Cost per result</th>\n",
       "      <th>Amount spent (KES)</th>\n",
       "      <th>Reporting starts</th>\n",
       "      <th>Reporting ends</th>\n",
       "    </tr>\n",
       "  </thead>\n",
       "  <tbody>\n",
       "    <tr>\n",
       "      <th>0</th>\n",
       "      <td>NaN</td>\n",
       "      <td>NaN</td>\n",
       "      <td>294016</td>\n",
       "      <td>438856</td>\n",
       "      <td>1.492626</td>\n",
       "      <td>NaN</td>\n",
       "      <td>804.416667</td>\n",
       "      <td>4.219328</td>\n",
       "      <td>28155.77</td>\n",
       "      <td>2018-05-26</td>\n",
       "      <td>2019-05-28</td>\n",
       "    </tr>\n",
       "    <tr>\n",
       "      <th>1</th>\n",
       "      <td>KE - 18+</td>\n",
       "      <td>archived</td>\n",
       "      <td>542</td>\n",
       "      <td>591</td>\n",
       "      <td>1.090406</td>\n",
       "      <td>Link clicks</td>\n",
       "      <td>19.000000</td>\n",
       "      <td>2.436316</td>\n",
       "      <td>46.29</td>\n",
       "      <td>2018-05-26</td>\n",
       "      <td>2019-05-28</td>\n",
       "    </tr>\n",
       "    <tr>\n",
       "      <th>2</th>\n",
       "      <td>[21/07/2018] Promoting Book Now</td>\n",
       "      <td>archived</td>\n",
       "      <td>4727</td>\n",
       "      <td>4840</td>\n",
       "      <td>1.023905</td>\n",
       "      <td>Link clicks</td>\n",
       "      <td>53.000000</td>\n",
       "      <td>3.376038</td>\n",
       "      <td>178.93</td>\n",
       "      <td>2018-05-26</td>\n",
       "      <td>2019-05-28</td>\n",
       "    </tr>\n",
       "    <tr>\n",
       "      <th>3</th>\n",
       "      <td>KE - 18+</td>\n",
       "      <td>archived</td>\n",
       "      <td>9362</td>\n",
       "      <td>10442</td>\n",
       "      <td>1.115360</td>\n",
       "      <td>Link clicks</td>\n",
       "      <td>196.000000</td>\n",
       "      <td>5.193214</td>\n",
       "      <td>1017.87</td>\n",
       "      <td>2018-05-26</td>\n",
       "      <td>2019-05-28</td>\n",
       "    </tr>\n",
       "    <tr>\n",
       "      <th>4</th>\n",
       "      <td>[22/06/2018] Promoting http://t.me/wzsurebets</td>\n",
       "      <td>archived</td>\n",
       "      <td>75</td>\n",
       "      <td>76</td>\n",
       "      <td>1.013333</td>\n",
       "      <td>Link clicks</td>\n",
       "      <td>804.416667</td>\n",
       "      <td>4.219328</td>\n",
       "      <td>7.69</td>\n",
       "      <td>2018-05-26</td>\n",
       "      <td>2019-05-28</td>\n",
       "    </tr>\n",
       "    <tr>\n",
       "      <th>5</th>\n",
       "      <td>[22/06/2018] Promoting http://t.me/wzsurebets</td>\n",
       "      <td>archived</td>\n",
       "      <td>16720</td>\n",
       "      <td>17228</td>\n",
       "      <td>1.030383</td>\n",
       "      <td>Link clicks</td>\n",
       "      <td>298.000000</td>\n",
       "      <td>8.427081</td>\n",
       "      <td>2511.27</td>\n",
       "      <td>2018-05-26</td>\n",
       "      <td>2019-05-28</td>\n",
       "    </tr>\n",
       "    <tr>\n",
       "      <th>6</th>\n",
       "      <td>[02/08/2018] Promoting Book Now</td>\n",
       "      <td>archived</td>\n",
       "      <td>1527</td>\n",
       "      <td>1544</td>\n",
       "      <td>1.011133</td>\n",
       "      <td>Link clicks</td>\n",
       "      <td>18.000000</td>\n",
       "      <td>2.163333</td>\n",
       "      <td>38.94</td>\n",
       "      <td>2018-05-26</td>\n",
       "      <td>2019-05-28</td>\n",
       "    </tr>\n",
       "    <tr>\n",
       "      <th>7</th>\n",
       "      <td>[18/07/2018] Promoting Book Now</td>\n",
       "      <td>archived</td>\n",
       "      <td>12572</td>\n",
       "      <td>14239</td>\n",
       "      <td>1.132596</td>\n",
       "      <td>Link clicks</td>\n",
       "      <td>146.000000</td>\n",
       "      <td>8.830753</td>\n",
       "      <td>1289.29</td>\n",
       "      <td>2018-05-26</td>\n",
       "      <td>2019-05-28</td>\n",
       "    </tr>\n",
       "    <tr>\n",
       "      <th>8</th>\n",
       "      <td>[01/08/2018] Promoting Book Now</td>\n",
       "      <td>completed</td>\n",
       "      <td>2669</td>\n",
       "      <td>2751</td>\n",
       "      <td>1.030723</td>\n",
       "      <td>Link clicks</td>\n",
       "      <td>27.000000</td>\n",
       "      <td>5.716667</td>\n",
       "      <td>154.35</td>\n",
       "      <td>2018-05-26</td>\n",
       "      <td>2019-05-28</td>\n",
       "    </tr>\n",
       "    <tr>\n",
       "      <th>9</th>\n",
       "      <td>KE - 18+</td>\n",
       "      <td>not_delivering</td>\n",
       "      <td>79648</td>\n",
       "      <td>154946</td>\n",
       "      <td>1.945385</td>\n",
       "      <td>Link clicks</td>\n",
       "      <td>2581.000000</td>\n",
       "      <td>4.251065</td>\n",
       "      <td>10972.00</td>\n",
       "      <td>2018-05-26</td>\n",
       "      <td>2019-05-28</td>\n",
       "    </tr>\n",
       "    <tr>\n",
       "      <th>10</th>\n",
       "      <td>NG - 18+</td>\n",
       "      <td>not_delivering</td>\n",
       "      <td>133824</td>\n",
       "      <td>166544</td>\n",
       "      <td>1.244500</td>\n",
       "      <td>Link clicks</td>\n",
       "      <td>4641.000000</td>\n",
       "      <td>1.745992</td>\n",
       "      <td>8103.15</td>\n",
       "      <td>2018-05-26</td>\n",
       "      <td>2019-05-28</td>\n",
       "    </tr>\n",
       "    <tr>\n",
       "      <th>11</th>\n",
       "      <td>[17/07/2018] Promoting Book Now</td>\n",
       "      <td>not_delivering</td>\n",
       "      <td>32640</td>\n",
       "      <td>36557</td>\n",
       "      <td>1.120006</td>\n",
       "      <td>Link clicks</td>\n",
       "      <td>609.000000</td>\n",
       "      <td>3.394860</td>\n",
       "      <td>2067.47</td>\n",
       "      <td>2018-05-26</td>\n",
       "      <td>2019-05-28</td>\n",
       "    </tr>\n",
       "    <tr>\n",
       "      <th>12</th>\n",
       "      <td>NG - 18+</td>\n",
       "      <td>not_delivering</td>\n",
       "      <td>5</td>\n",
       "      <td>6</td>\n",
       "      <td>1.200000</td>\n",
       "      <td>Link clicks</td>\n",
       "      <td>804.416667</td>\n",
       "      <td>4.219328</td>\n",
       "      <td>0.00</td>\n",
       "      <td>2018-05-26</td>\n",
       "      <td>2019-05-28</td>\n",
       "    </tr>\n",
       "    <tr>\n",
       "      <th>13</th>\n",
       "      <td>NG - 18+</td>\n",
       "      <td>not_delivering</td>\n",
       "      <td>208</td>\n",
       "      <td>350</td>\n",
       "      <td>1.682692</td>\n",
       "      <td>Link clicks</td>\n",
       "      <td>14.000000</td>\n",
       "      <td>3.460000</td>\n",
       "      <td>48.44</td>\n",
       "      <td>2018-05-26</td>\n",
       "      <td>2019-05-28</td>\n",
       "    </tr>\n",
       "    <tr>\n",
       "      <th>14</th>\n",
       "      <td>NG - 18+</td>\n",
       "      <td>not_delivering</td>\n",
       "      <td>23872</td>\n",
       "      <td>28742</td>\n",
       "      <td>1.204005</td>\n",
       "      <td>Link clicks</td>\n",
       "      <td>1051.000000</td>\n",
       "      <td>1.636613</td>\n",
       "      <td>1720.08</td>\n",
       "      <td>2018-05-26</td>\n",
       "      <td>2019-05-28</td>\n",
       "    </tr>\n",
       "  </tbody>\n",
       "</table>\n",
       "</div>"
      ],
      "text/plain": [
       "                                      Ad set name Delivery status   Reach  \\\n",
       "0                                             NaN             NaN  294016   \n",
       "1                                        KE - 18+        archived     542   \n",
       "2                 [21/07/2018] Promoting Book Now        archived    4727   \n",
       "3                                        KE - 18+        archived    9362   \n",
       "4   [22/06/2018] Promoting http://t.me/wzsurebets        archived      75   \n",
       "5   [22/06/2018] Promoting http://t.me/wzsurebets        archived   16720   \n",
       "6                 [02/08/2018] Promoting Book Now        archived    1527   \n",
       "7                 [18/07/2018] Promoting Book Now        archived   12572   \n",
       "8                 [01/08/2018] Promoting Book Now       completed    2669   \n",
       "9                                        KE - 18+  not_delivering   79648   \n",
       "10                                       NG - 18+  not_delivering  133824   \n",
       "11                [17/07/2018] Promoting Book Now  not_delivering   32640   \n",
       "12                                       NG - 18+  not_delivering       5   \n",
       "13                                       NG - 18+  not_delivering     208   \n",
       "14                                       NG - 18+  not_delivering   23872   \n",
       "\n",
       "    Impressions  Frequency  Result Type      Results  Cost per result  \\\n",
       "0        438856   1.492626          NaN   804.416667         4.219328   \n",
       "1           591   1.090406  Link clicks    19.000000         2.436316   \n",
       "2          4840   1.023905  Link clicks    53.000000         3.376038   \n",
       "3         10442   1.115360  Link clicks   196.000000         5.193214   \n",
       "4            76   1.013333  Link clicks   804.416667         4.219328   \n",
       "5         17228   1.030383  Link clicks   298.000000         8.427081   \n",
       "6          1544   1.011133  Link clicks    18.000000         2.163333   \n",
       "7         14239   1.132596  Link clicks   146.000000         8.830753   \n",
       "8          2751   1.030723  Link clicks    27.000000         5.716667   \n",
       "9        154946   1.945385  Link clicks  2581.000000         4.251065   \n",
       "10       166544   1.244500  Link clicks  4641.000000         1.745992   \n",
       "11        36557   1.120006  Link clicks   609.000000         3.394860   \n",
       "12            6   1.200000  Link clicks   804.416667         4.219328   \n",
       "13          350   1.682692  Link clicks    14.000000         3.460000   \n",
       "14        28742   1.204005  Link clicks  1051.000000         1.636613   \n",
       "\n",
       "    Amount spent (KES) Reporting starts Reporting ends  \n",
       "0             28155.77       2018-05-26     2019-05-28  \n",
       "1                46.29       2018-05-26     2019-05-28  \n",
       "2               178.93       2018-05-26     2019-05-28  \n",
       "3              1017.87       2018-05-26     2019-05-28  \n",
       "4                 7.69       2018-05-26     2019-05-28  \n",
       "5              2511.27       2018-05-26     2019-05-28  \n",
       "6                38.94       2018-05-26     2019-05-28  \n",
       "7              1289.29       2018-05-26     2019-05-28  \n",
       "8               154.35       2018-05-26     2019-05-28  \n",
       "9             10972.00       2018-05-26     2019-05-28  \n",
       "10             8103.15       2018-05-26     2019-05-28  \n",
       "11             2067.47       2018-05-26     2019-05-28  \n",
       "12                0.00       2018-05-26     2019-05-28  \n",
       "13               48.44       2018-05-26     2019-05-28  \n",
       "14             1720.08       2018-05-26     2019-05-28  "
      ]
     },
     "execution_count": 21,
     "metadata": {},
     "output_type": "execute_result"
    }
   ],
   "source": [
    "df"
   ]
  },
  {
   "cell_type": "code",
   "execution_count": 22,
   "metadata": {},
   "outputs": [],
   "source": [
    "df['Delivery status']=df['Delivery status'].fillna('not_delivering')"
   ]
  },
  {
   "cell_type": "code",
   "execution_count": 23,
   "metadata": {},
   "outputs": [],
   "source": [
    "df['Result Type']=df['Result Type'].fillna('link clicks')"
   ]
  },
  {
   "cell_type": "code",
   "execution_count": null,
   "metadata": {},
   "outputs": [],
   "source": []
  },
  {
   "cell_type": "code",
   "execution_count": 24,
   "metadata": {},
   "outputs": [
    {
     "data": {
      "text/html": [
       "<div>\n",
       "<style scoped>\n",
       "    .dataframe tbody tr th:only-of-type {\n",
       "        vertical-align: middle;\n",
       "    }\n",
       "\n",
       "    .dataframe tbody tr th {\n",
       "        vertical-align: top;\n",
       "    }\n",
       "\n",
       "    .dataframe thead th {\n",
       "        text-align: right;\n",
       "    }\n",
       "</style>\n",
       "<table border=\"1\" class=\"dataframe\">\n",
       "  <thead>\n",
       "    <tr style=\"text-align: right;\">\n",
       "      <th></th>\n",
       "      <th>Ad set name</th>\n",
       "      <th>Delivery status</th>\n",
       "      <th>Reach</th>\n",
       "      <th>Impressions</th>\n",
       "      <th>Frequency</th>\n",
       "      <th>Result Type</th>\n",
       "      <th>Results</th>\n",
       "      <th>Cost per result</th>\n",
       "      <th>Amount spent (KES)</th>\n",
       "      <th>Reporting starts</th>\n",
       "      <th>Reporting ends</th>\n",
       "    </tr>\n",
       "  </thead>\n",
       "  <tbody>\n",
       "    <tr>\n",
       "      <th>0</th>\n",
       "      <td>NaN</td>\n",
       "      <td>not_delivering</td>\n",
       "      <td>294016</td>\n",
       "      <td>438856</td>\n",
       "      <td>1.492626</td>\n",
       "      <td>link clicks</td>\n",
       "      <td>804.416667</td>\n",
       "      <td>4.219328</td>\n",
       "      <td>28155.77</td>\n",
       "      <td>2018-05-26</td>\n",
       "      <td>2019-05-28</td>\n",
       "    </tr>\n",
       "    <tr>\n",
       "      <th>1</th>\n",
       "      <td>KE - 18+</td>\n",
       "      <td>archived</td>\n",
       "      <td>542</td>\n",
       "      <td>591</td>\n",
       "      <td>1.090406</td>\n",
       "      <td>Link clicks</td>\n",
       "      <td>19.000000</td>\n",
       "      <td>2.436316</td>\n",
       "      <td>46.29</td>\n",
       "      <td>2018-05-26</td>\n",
       "      <td>2019-05-28</td>\n",
       "    </tr>\n",
       "    <tr>\n",
       "      <th>2</th>\n",
       "      <td>[21/07/2018] Promoting Book Now</td>\n",
       "      <td>archived</td>\n",
       "      <td>4727</td>\n",
       "      <td>4840</td>\n",
       "      <td>1.023905</td>\n",
       "      <td>Link clicks</td>\n",
       "      <td>53.000000</td>\n",
       "      <td>3.376038</td>\n",
       "      <td>178.93</td>\n",
       "      <td>2018-05-26</td>\n",
       "      <td>2019-05-28</td>\n",
       "    </tr>\n",
       "    <tr>\n",
       "      <th>3</th>\n",
       "      <td>KE - 18+</td>\n",
       "      <td>archived</td>\n",
       "      <td>9362</td>\n",
       "      <td>10442</td>\n",
       "      <td>1.115360</td>\n",
       "      <td>Link clicks</td>\n",
       "      <td>196.000000</td>\n",
       "      <td>5.193214</td>\n",
       "      <td>1017.87</td>\n",
       "      <td>2018-05-26</td>\n",
       "      <td>2019-05-28</td>\n",
       "    </tr>\n",
       "    <tr>\n",
       "      <th>4</th>\n",
       "      <td>[22/06/2018] Promoting http://t.me/wzsurebets</td>\n",
       "      <td>archived</td>\n",
       "      <td>75</td>\n",
       "      <td>76</td>\n",
       "      <td>1.013333</td>\n",
       "      <td>Link clicks</td>\n",
       "      <td>804.416667</td>\n",
       "      <td>4.219328</td>\n",
       "      <td>7.69</td>\n",
       "      <td>2018-05-26</td>\n",
       "      <td>2019-05-28</td>\n",
       "    </tr>\n",
       "  </tbody>\n",
       "</table>\n",
       "</div>"
      ],
      "text/plain": [
       "                                     Ad set name Delivery status   Reach  \\\n",
       "0                                            NaN  not_delivering  294016   \n",
       "1                                       KE - 18+        archived     542   \n",
       "2                [21/07/2018] Promoting Book Now        archived    4727   \n",
       "3                                       KE - 18+        archived    9362   \n",
       "4  [22/06/2018] Promoting http://t.me/wzsurebets        archived      75   \n",
       "\n",
       "   Impressions  Frequency  Result Type     Results  Cost per result  \\\n",
       "0       438856   1.492626  link clicks  804.416667         4.219328   \n",
       "1          591   1.090406  Link clicks   19.000000         2.436316   \n",
       "2         4840   1.023905  Link clicks   53.000000         3.376038   \n",
       "3        10442   1.115360  Link clicks  196.000000         5.193214   \n",
       "4           76   1.013333  Link clicks  804.416667         4.219328   \n",
       "\n",
       "   Amount spent (KES) Reporting starts Reporting ends  \n",
       "0            28155.77       2018-05-26     2019-05-28  \n",
       "1               46.29       2018-05-26     2019-05-28  \n",
       "2              178.93       2018-05-26     2019-05-28  \n",
       "3             1017.87       2018-05-26     2019-05-28  \n",
       "4                7.69       2018-05-26     2019-05-28  "
      ]
     },
     "execution_count": 24,
     "metadata": {},
     "output_type": "execute_result"
    }
   ],
   "source": [
    "df.head()"
   ]
  },
  {
   "cell_type": "code",
   "execution_count": 25,
   "metadata": {},
   "outputs": [
    {
     "data": {
      "text/html": [
       "<div>\n",
       "<style scoped>\n",
       "    .dataframe tbody tr th:only-of-type {\n",
       "        vertical-align: middle;\n",
       "    }\n",
       "\n",
       "    .dataframe tbody tr th {\n",
       "        vertical-align: top;\n",
       "    }\n",
       "\n",
       "    .dataframe thead th {\n",
       "        text-align: right;\n",
       "    }\n",
       "</style>\n",
       "<table border=\"1\" class=\"dataframe\">\n",
       "  <thead>\n",
       "    <tr style=\"text-align: right;\">\n",
       "      <th></th>\n",
       "      <th>Reach</th>\n",
       "      <th>Impressions</th>\n",
       "      <th>Frequency</th>\n",
       "      <th>Results</th>\n",
       "      <th>Cost per result</th>\n",
       "      <th>Amount spent (KES)</th>\n",
       "    </tr>\n",
       "  </thead>\n",
       "  <tbody>\n",
       "    <tr>\n",
       "      <th>count</th>\n",
       "      <td>15.000000</td>\n",
       "      <td>15.000000</td>\n",
       "      <td>15.000000</td>\n",
       "      <td>15.000000</td>\n",
       "      <td>15.000000</td>\n",
       "      <td>15.000000</td>\n",
       "    </tr>\n",
       "    <tr>\n",
       "      <th>mean</th>\n",
       "      <td>40827.133333</td>\n",
       "      <td>58514.133333</td>\n",
       "      <td>1.222470</td>\n",
       "      <td>804.416667</td>\n",
       "      <td>4.219328</td>\n",
       "      <td>3754.102667</td>\n",
       "    </tr>\n",
       "    <tr>\n",
       "      <th>std</th>\n",
       "      <td>79231.982180</td>\n",
       "      <td>118257.032109</td>\n",
       "      <td>0.274865</td>\n",
       "      <td>1255.383974</td>\n",
       "      <td>2.143486</td>\n",
       "      <td>7481.852916</td>\n",
       "    </tr>\n",
       "    <tr>\n",
       "      <th>min</th>\n",
       "      <td>5.000000</td>\n",
       "      <td>6.000000</td>\n",
       "      <td>1.011133</td>\n",
       "      <td>14.000000</td>\n",
       "      <td>1.636613</td>\n",
       "      <td>0.000000</td>\n",
       "    </tr>\n",
       "    <tr>\n",
       "      <th>25%</th>\n",
       "      <td>1034.500000</td>\n",
       "      <td>1067.500000</td>\n",
       "      <td>1.030553</td>\n",
       "      <td>40.000000</td>\n",
       "      <td>2.906177</td>\n",
       "      <td>47.365000</td>\n",
       "    </tr>\n",
       "    <tr>\n",
       "      <th>50%</th>\n",
       "      <td>9362.000000</td>\n",
       "      <td>10442.000000</td>\n",
       "      <td>1.120006</td>\n",
       "      <td>298.000000</td>\n",
       "      <td>4.219328</td>\n",
       "      <td>1017.870000</td>\n",
       "    </tr>\n",
       "    <tr>\n",
       "      <th>75%</th>\n",
       "      <td>28256.000000</td>\n",
       "      <td>32649.500000</td>\n",
       "      <td>1.224252</td>\n",
       "      <td>804.416667</td>\n",
       "      <td>4.722140</td>\n",
       "      <td>2289.370000</td>\n",
       "    </tr>\n",
       "    <tr>\n",
       "      <th>max</th>\n",
       "      <td>294016.000000</td>\n",
       "      <td>438856.000000</td>\n",
       "      <td>1.945385</td>\n",
       "      <td>4641.000000</td>\n",
       "      <td>8.830753</td>\n",
       "      <td>28155.770000</td>\n",
       "    </tr>\n",
       "  </tbody>\n",
       "</table>\n",
       "</div>"
      ],
      "text/plain": [
       "               Reach    Impressions  Frequency      Results  Cost per result  \\\n",
       "count      15.000000      15.000000  15.000000    15.000000        15.000000   \n",
       "mean    40827.133333   58514.133333   1.222470   804.416667         4.219328   \n",
       "std     79231.982180  118257.032109   0.274865  1255.383974         2.143486   \n",
       "min         5.000000       6.000000   1.011133    14.000000         1.636613   \n",
       "25%      1034.500000    1067.500000   1.030553    40.000000         2.906177   \n",
       "50%      9362.000000   10442.000000   1.120006   298.000000         4.219328   \n",
       "75%     28256.000000   32649.500000   1.224252   804.416667         4.722140   \n",
       "max    294016.000000  438856.000000   1.945385  4641.000000         8.830753   \n",
       "\n",
       "       Amount spent (KES)  \n",
       "count           15.000000  \n",
       "mean          3754.102667  \n",
       "std           7481.852916  \n",
       "min              0.000000  \n",
       "25%             47.365000  \n",
       "50%           1017.870000  \n",
       "75%           2289.370000  \n",
       "max          28155.770000  "
      ]
     },
     "execution_count": 25,
     "metadata": {},
     "output_type": "execute_result"
    }
   ],
   "source": [
    "df.describe()"
   ]
  },
  {
   "cell_type": "markdown",
   "metadata": {},
   "source": [
    "Explanatory Analysis"
   ]
  },
  {
   "cell_type": "code",
   "execution_count": 26,
   "metadata": {},
   "outputs": [
    {
     "name": "stderr",
     "output_type": "stream",
     "text": [
      "C:\\Users\\OLANG\\anaconda32\\lib\\site-packages\\numpy\\core\\_methods.py:140: RuntimeWarning: Degrees of freedom <= 0 for slice\n",
      "  keepdims=keepdims)\n",
      "C:\\Users\\OLANG\\anaconda32\\lib\\site-packages\\numpy\\core\\_methods.py:132: RuntimeWarning: invalid value encountered in double_scalars\n",
      "  ret = ret.dtype.type(ret / rcount)\n"
     ]
    },
    {
     "data": {
      "text/plain": [
       "<seaborn.axisgrid.PairGrid at 0x9385c10>"
      ]
     },
     "execution_count": 26,
     "metadata": {},
     "output_type": "execute_result"
    },
    {
     "data": {
      "image/png": "[encoded data removed]",
      "text/plain": [
       "<Figure size 1352x1080 with 42 Axes>"
      ]
     },
     "metadata": {
      "needs_background": "light"
     },
     "output_type": "display_data"
    }
   ],
   "source": [
    "sns.pairplot(data=df,hue='Ad set name')#quick visualization of the data"
   ]
  },
  {
   "cell_type": "code",
   "execution_count": 27,
   "metadata": {},
   "outputs": [],
   "source": [
    "df.rename(columns={'Amount spent (KES)':'Amount spent'},inplace=True)"
   ]
  },
  {
   "cell_type": "code",
   "execution_count": 28,
   "metadata": {},
   "outputs": [
    {
     "data": {
      "text/html": [
       "<div>\n",
       "<style scoped>\n",
       "    .dataframe tbody tr th:only-of-type {\n",
       "        vertical-align: middle;\n",
       "    }\n",
       "\n",
       "    .dataframe tbody tr th {\n",
       "        vertical-align: top;\n",
       "    }\n",
       "\n",
       "    .dataframe thead th {\n",
       "        text-align: right;\n",
       "    }\n",
       "</style>\n",
       "<table border=\"1\" class=\"dataframe\">\n",
       "  <thead>\n",
       "    <tr style=\"text-align: right;\">\n",
       "      <th></th>\n",
       "      <th>Ad set name</th>\n",
       "      <th>Delivery status</th>\n",
       "      <th>Reach</th>\n",
       "      <th>Impressions</th>\n",
       "      <th>Frequency</th>\n",
       "      <th>Result Type</th>\n",
       "      <th>Results</th>\n",
       "      <th>Cost per result</th>\n",
       "      <th>Amount spent</th>\n",
       "      <th>Reporting starts</th>\n",
       "      <th>Reporting ends</th>\n",
       "    </tr>\n",
       "  </thead>\n",
       "  <tbody>\n",
       "    <tr>\n",
       "      <th>0</th>\n",
       "      <td>NaN</td>\n",
       "      <td>not_delivering</td>\n",
       "      <td>294016</td>\n",
       "      <td>438856</td>\n",
       "      <td>1.492626</td>\n",
       "      <td>link clicks</td>\n",
       "      <td>804.416667</td>\n",
       "      <td>4.219328</td>\n",
       "      <td>28155.77</td>\n",
       "      <td>2018-05-26</td>\n",
       "      <td>2019-05-28</td>\n",
       "    </tr>\n",
       "    <tr>\n",
       "      <th>1</th>\n",
       "      <td>KE - 18+</td>\n",
       "      <td>archived</td>\n",
       "      <td>542</td>\n",
       "      <td>591</td>\n",
       "      <td>1.090406</td>\n",
       "      <td>Link clicks</td>\n",
       "      <td>19.000000</td>\n",
       "      <td>2.436316</td>\n",
       "      <td>46.29</td>\n",
       "      <td>2018-05-26</td>\n",
       "      <td>2019-05-28</td>\n",
       "    </tr>\n",
       "    <tr>\n",
       "      <th>2</th>\n",
       "      <td>[21/07/2018] Promoting Book Now</td>\n",
       "      <td>archived</td>\n",
       "      <td>4727</td>\n",
       "      <td>4840</td>\n",
       "      <td>1.023905</td>\n",
       "      <td>Link clicks</td>\n",
       "      <td>53.000000</td>\n",
       "      <td>3.376038</td>\n",
       "      <td>178.93</td>\n",
       "      <td>2018-05-26</td>\n",
       "      <td>2019-05-28</td>\n",
       "    </tr>\n",
       "  </tbody>\n",
       "</table>\n",
       "</div>"
      ],
      "text/plain": [
       "                       Ad set name Delivery status   Reach  Impressions  \\\n",
       "0                              NaN  not_delivering  294016       438856   \n",
       "1                         KE - 18+        archived     542          591   \n",
       "2  [21/07/2018] Promoting Book Now        archived    4727         4840   \n",
       "\n",
       "   Frequency  Result Type     Results  Cost per result  Amount spent  \\\n",
       "0   1.492626  link clicks  804.416667         4.219328      28155.77   \n",
       "1   1.090406  Link clicks   19.000000         2.436316         46.29   \n",
       "2   1.023905  Link clicks   53.000000         3.376038        178.93   \n",
       "\n",
       "  Reporting starts Reporting ends  \n",
       "0       2018-05-26     2019-05-28  \n",
       "1       2018-05-26     2019-05-28  \n",
       "2       2018-05-26     2019-05-28  "
      ]
     },
     "execution_count": 28,
     "metadata": {},
     "output_type": "execute_result"
    }
   ],
   "source": [
    "df.head(3)"
   ]
  },
  {
   "cell_type": "code",
   "execution_count": 29,
   "metadata": {},
   "outputs": [
    {
     "name": "stdout",
     "output_type": "stream",
     "text": [
      "AxesSubplot(0.125,0.125;0.775x0.755)\n"
     ]
    },
    {
     "data": {
      "text/plain": [
       "Text(0.5, 1.0, 'Delivery status against Impressions')"
      ]
     },
     "execution_count": 29,
     "metadata": {},
     "output_type": "execute_result"
    },
    {
     "data": {
      "image/png": "[encoded data removed]",
      "text/plain": [
       "<Figure size 432x288 with 1 Axes>"
      ]
     },
     "metadata": {
      "needs_background": "light"
     },
     "output_type": "display_data"
    }
   ],
   "source": [
    "print(sns.barplot(x=df['Delivery status'],y=df['Impressions']))\n",
    "plt.title('Delivery status against Impressions')"
   ]
  },
  {
   "cell_type": "code",
   "execution_count": 30,
   "metadata": {},
   "outputs": [
    {
     "name": "stdout",
     "output_type": "stream",
     "text": [
      "AxesSubplot(0.125,0.125;0.775x0.755)\n"
     ]
    },
    {
     "data": {
      "text/plain": [
       "Text(0.5, 1.0, 'Delivery status against Reach')"
      ]
     },
     "execution_count": 30,
     "metadata": {},
     "output_type": "execute_result"
    },
    {
     "data": {
      "image/png": "[encoded data removed]",
      "text/plain": [
       "<Figure size 432x288 with 1 Axes>"
      ]
     },
     "metadata": {
      "needs_background": "light"
     },
     "output_type": "display_data"
    }
   ],
   "source": [
    "print(sns.barplot(x=df['Delivery status'],y=df['Reach']))\n",
    "plt.title('Delivery status against Reach')"
   ]
  },
  {
   "cell_type": "code",
   "execution_count": 31,
   "metadata": {},
   "outputs": [
    {
     "data": {
      "text/plain": [
       "<matplotlib.axes._subplots.AxesSubplot at 0xb6dba10>"
      ]
     },
     "execution_count": 31,
     "metadata": {},
     "output_type": "execute_result"
    },
    {
     "data": {
      "image/png": "[encoded data removed]",
      "text/plain": [
       "<Figure size 432x288 with 1 Axes>"
      ]
     },
     "metadata": {
      "needs_background": "light"
     },
     "output_type": "display_data"
    }
   ],
   "source": [
    "sns.scatterplot(x=df['Amount spent'],y='Reach' ,hue='Impressions',data=df)"
   ]
  },
  {
   "cell_type": "code",
   "execution_count": 32,
   "metadata": {},
   "outputs": [
    {
     "data": {
      "text/plain": [
       "<matplotlib.axes._subplots.AxesSubplot at 0xb72bc30>"
      ]
     },
     "execution_count": 32,
     "metadata": {},
     "output_type": "execute_result"
    },
    {
     "data": {
      "image/png": "[encoded data removed]",
      "text/plain": [
       "<Figure size 432x288 with 1 Axes>"
      ]
     },
     "metadata": {
      "needs_background": "light"
     },
     "output_type": "display_data"
    }
   ],
   "source": [
    "sns.swarmplot(x='Delivery status',y='Impressions',data=df)"
   ]
  },
  {
   "cell_type": "code",
   "execution_count": 33,
   "metadata": {},
   "outputs": [
    {
     "data": {
      "text/plain": [
       "<matplotlib.axes._subplots.AxesSubplot at 0xb7619f0>"
      ]
     },
     "execution_count": 33,
     "metadata": {},
     "output_type": "execute_result"
    },
    {
     "data": {
      "image/png": "[encoded data removed]",
      "text/plain": [
       "<Figure size 432x288 with 1 Axes>"
      ]
     },
     "metadata": {
      "needs_background": "light"
     },
     "output_type": "display_data"
    }
   ],
   "source": [
    "sns.swarmplot(x='Ad set name',y='Impressions',data=df)"
   ]
  },
  {
   "cell_type": "code",
   "execution_count": 34,
   "metadata": {},
   "outputs": [
    {
     "data": {
      "text/plain": [
       "<matplotlib.axes._subplots.AxesSubplot at 0xb7aa5b0>"
      ]
     },
     "execution_count": 34,
     "metadata": {},
     "output_type": "execute_result"
    },
    {
     "data": {
      "image/png": "[encoded data removed]",
      "text/plain": [
       "<Figure size 432x288 with 1 Axes>"
      ]
     },
     "metadata": {
      "needs_background": "light"
     },
     "output_type": "display_data"
    }
   ],
   "source": [
    "sns.kdeplot(data=df['Amount spent'],shade=True)"
   ]
  },
  {
   "cell_type": "code",
   "execution_count": 35,
   "metadata": {},
   "outputs": [
    {
     "data": {
      "text/plain": [
       "<seaborn.axisgrid.JointGrid at 0xb7e44b0>"
      ]
     },
     "execution_count": 35,
     "metadata": {},
     "output_type": "execute_result"
    },
    {
     "data": {
      "image/png": "[encoded data removed]",
      "text/plain": [
       "<Figure size 432x432 with 3 Axes>"
      ]
     },
     "metadata": {
      "needs_background": "light"
     },
     "output_type": "display_data"
    }
   ],
   "source": [
    "sns.jointplot(x=df['Amount spent'],y=df['Reach'],kind='kde')"
   ]
  }
 ],
 "metadata": {
  "kernelspec": {
   "display_name": "Python 3",
   "language": "python",
   "name": "python3"
  },
  "language_info": {
   "codemirror_mode": {
    "name": "ipython",
    "version": 3
   },
   "file_extension": ".py",
   "mimetype": "text/x-python",
   "name": "python",
   "nbconvert_exporter": "python",
   "pygments_lexer": "ipython3",
   "version": "3.7.3"
  }
 },
 "nbformat": 4,
 "nbformat_minor": 2
}
